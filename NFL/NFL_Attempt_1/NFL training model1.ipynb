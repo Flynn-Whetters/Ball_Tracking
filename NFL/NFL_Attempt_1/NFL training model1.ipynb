{
 "cells": [
  {
   "cell_type": "code",
   "execution_count": 1,
   "id": "03f12b43-7ca1-41f4-ab0f-dd946c170380",
   "metadata": {},
   "outputs": [
    {
     "name": "stdout",
     "output_type": "stream",
     "text": [
      "Collecting roboflow\n",
      "  Downloading roboflow-1.1.60-py3-none-any.whl (84 kB)\n",
      "     ---------------------------------------- 84.5/84.5 kB 2.4 MB/s eta 0:00:00\n",
      "Requirement already satisfied: six in c:\\users\\fjwhe\\anaconda3\\lib\\site-packages (from roboflow) (1.16.0)\n",
      "Requirement already satisfied: tqdm>=4.41.0 in c:\\users\\fjwhe\\anaconda3\\lib\\site-packages (from roboflow) (4.64.1)\n",
      "Requirement already satisfied: requests-toolbelt in c:\\users\\fjwhe\\anaconda3\\lib\\site-packages (from roboflow) (0.9.1)\n",
      "Requirement already satisfied: python-dateutil in c:\\users\\fjwhe\\anaconda3\\lib\\site-packages (from roboflow) (2.8.2)\n",
      "Collecting filetype\n",
      "  Downloading filetype-1.2.0-py2.py3-none-any.whl (19 kB)\n",
      "Requirement already satisfied: requests in c:\\users\\fjwhe\\anaconda3\\lib\\site-packages (from roboflow) (2.28.1)\n",
      "Collecting pillow-heif>=0.18.0\n",
      "  Downloading pillow_heif-0.22.0-cp310-cp310-win_amd64.whl (8.6 MB)\n",
      "     ---------------------------------------- 8.6/8.6 MB 4.9 MB/s eta 0:00:00\n",
      "Requirement already satisfied: urllib3>=1.26.6 in c:\\users\\fjwhe\\anaconda3\\lib\\site-packages (from roboflow) (1.26.14)\n",
      "Requirement already satisfied: PyYAML>=5.3.1 in c:\\users\\fjwhe\\anaconda3\\lib\\site-packages (from roboflow) (6.0)\n",
      "Requirement already satisfied: cycler in c:\\users\\fjwhe\\anaconda3\\lib\\site-packages (from roboflow) (0.11.0)\n",
      "Requirement already satisfied: kiwisolver>=1.3.1 in c:\\users\\fjwhe\\anaconda3\\lib\\site-packages (from roboflow) (1.4.4)\n",
      "Requirement already satisfied: Pillow>=7.1.2 in c:\\users\\fjwhe\\anaconda3\\lib\\site-packages (from roboflow) (9.4.0)\n",
      "Collecting idna==3.7\n",
      "  Downloading idna-3.7-py3-none-any.whl (66 kB)\n",
      "     ---------------------------------------- 66.8/66.8 kB 3.8 MB/s eta 0:00:00\n",
      "Collecting python-dotenv\n",
      "  Downloading python_dotenv-1.1.0-py3-none-any.whl (20 kB)\n",
      "Requirement already satisfied: certifi in c:\\users\\fjwhe\\anaconda3\\lib\\site-packages (from roboflow) (2025.1.31)\n",
      "Requirement already satisfied: numpy>=1.18.5 in c:\\users\\fjwhe\\anaconda3\\lib\\site-packages (from roboflow) (1.23.5)\n",
      "Requirement already satisfied: matplotlib in c:\\users\\fjwhe\\anaconda3\\lib\\site-packages (from roboflow) (3.7.0)\n",
      "Collecting opencv-python-headless==4.10.0.84\n",
      "  Downloading opencv_python_headless-4.10.0.84-cp37-abi3-win_amd64.whl (38.8 MB)\n",
      "     ---------------------------------------- 38.8/38.8 MB 3.7 MB/s eta 0:00:00\n",
      "Collecting Pillow>=7.1.2\n",
      "  Downloading pillow-11.1.0-cp310-cp310-win_amd64.whl (2.6 MB)\n",
      "     ---------------------------------------- 2.6/2.6 MB 5.4 MB/s eta 0:00:00\n",
      "Requirement already satisfied: colorama in c:\\users\\fjwhe\\anaconda3\\lib\\site-packages (from tqdm>=4.41.0->roboflow) (0.4.6)\n",
      "Requirement already satisfied: fonttools>=4.22.0 in c:\\users\\fjwhe\\anaconda3\\lib\\site-packages (from matplotlib->roboflow) (4.25.0)\n",
      "Requirement already satisfied: packaging>=20.0 in c:\\users\\fjwhe\\anaconda3\\lib\\site-packages (from matplotlib->roboflow) (22.0)\n",
      "Requirement already satisfied: contourpy>=1.0.1 in c:\\users\\fjwhe\\anaconda3\\lib\\site-packages (from matplotlib->roboflow) (1.0.5)\n",
      "Requirement already satisfied: pyparsing>=2.3.1 in c:\\users\\fjwhe\\anaconda3\\lib\\site-packages (from matplotlib->roboflow) (3.0.9)\n",
      "Requirement already satisfied: charset-normalizer<3,>=2 in c:\\users\\fjwhe\\anaconda3\\lib\\site-packages (from requests->roboflow) (2.0.4)\n",
      "Installing collected packages: filetype, python-dotenv, Pillow, opencv-python-headless, idna, pillow-heif, roboflow\n",
      "  Attempting uninstall: Pillow\n",
      "    Found existing installation: Pillow 9.4.0\n",
      "    Uninstalling Pillow-9.4.0:\n",
      "      Successfully uninstalled Pillow-9.4.0\n",
      "  Attempting uninstall: idna\n",
      "    Found existing installation: idna 3.4\n",
      "    Uninstalling idna-3.4:\n",
      "      Successfully uninstalled idna-3.4\n",
      "Successfully installed Pillow-11.1.0 filetype-1.2.0 idna-3.7 opencv-python-headless-4.10.0.84 pillow-heif-0.22.0 python-dotenv-1.1.0 roboflow-1.1.60\n"
     ]
    },
    {
     "name": "stderr",
     "output_type": "stream",
     "text": [
      "ERROR: pip's dependency resolver does not currently take into account all the packages that are installed. This behaviour is the source of the following dependency conflicts.\n",
      "conda-repo-cli 1.0.41 requires requests_mock, which is not installed.\n",
      "conda-repo-cli 1.0.41 requires clyent==1.2.1, but you have clyent 1.2.2 which is incompatible.\n",
      "conda-repo-cli 1.0.41 requires nbformat==5.4.0, but you have nbformat 5.7.0 which is incompatible.\n"
     ]
    },
    {
     "name": "stdout",
     "output_type": "stream",
     "text": [
      "Collecting ultralytics\n",
      "  Downloading ultralytics-8.3.101-py3-none-any.whl (977 kB)\n",
      "     -------------------------------------- 977.3/977.3 kB 4.1 MB/s eta 0:00:00\n",
      "Requirement already satisfied: torch>=1.8.0 in c:\\users\\fjwhe\\anaconda3\\lib\\site-packages (from ultralytics) (1.12.1)\n",
      "Requirement already satisfied: scipy>=1.4.1 in c:\\users\\fjwhe\\anaconda3\\lib\\site-packages (from ultralytics) (1.10.0)\n",
      "Collecting torchvision>=0.9.0\n",
      "  Downloading torchvision-0.21.0-cp310-cp310-win_amd64.whl (1.6 MB)\n",
      "     ---------------------------------------- 1.6/1.6 MB 5.8 MB/s eta 0:00:00\n",
      "Collecting opencv-python>=4.6.0\n",
      "  Downloading opencv_python-4.11.0.86-cp37-abi3-win_amd64.whl (39.5 MB)\n",
      "     ---------------------------------------- 39.5/39.5 MB 3.9 MB/s eta 0:00:00\n",
      "Requirement already satisfied: psutil in c:\\users\\fjwhe\\anaconda3\\lib\\site-packages (from ultralytics) (5.9.0)\n",
      "Collecting py-cpuinfo\n",
      "  Downloading py_cpuinfo-9.0.0-py3-none-any.whl (22 kB)\n",
      "Requirement already satisfied: pyyaml>=5.3.1 in c:\\users\\fjwhe\\anaconda3\\lib\\site-packages (from ultralytics) (6.0)\n",
      "Requirement already satisfied: numpy<=2.1.1,>=1.23.0 in c:\\users\\fjwhe\\anaconda3\\lib\\site-packages (from ultralytics) (1.23.5)\n",
      "Requirement already satisfied: requests>=2.23.0 in c:\\users\\fjwhe\\anaconda3\\lib\\site-packages (from ultralytics) (2.28.1)\n",
      "Requirement already satisfied: tqdm>=4.64.0 in c:\\users\\fjwhe\\anaconda3\\lib\\site-packages (from ultralytics) (4.64.1)\n",
      "Requirement already satisfied: pandas>=1.1.4 in c:\\users\\fjwhe\\anaconda3\\lib\\site-packages (from ultralytics) (1.5.3)\n",
      "Collecting ultralytics-thop>=2.0.0\n",
      "  Downloading ultralytics_thop-2.0.14-py3-none-any.whl (26 kB)\n",
      "Requirement already satisfied: seaborn>=0.11.0 in c:\\users\\fjwhe\\anaconda3\\lib\\site-packages (from ultralytics) (0.12.2)\n",
      "Requirement already satisfied: pillow>=7.1.2 in c:\\users\\fjwhe\\anaconda3\\lib\\site-packages (from ultralytics) (11.1.0)\n",
      "Requirement already satisfied: matplotlib>=3.3.0 in c:\\users\\fjwhe\\anaconda3\\lib\\site-packages (from ultralytics) (3.7.0)\n",
      "Requirement already satisfied: contourpy>=1.0.1 in c:\\users\\fjwhe\\anaconda3\\lib\\site-packages (from matplotlib>=3.3.0->ultralytics) (1.0.5)\n",
      "Requirement already satisfied: packaging>=20.0 in c:\\users\\fjwhe\\anaconda3\\lib\\site-packages (from matplotlib>=3.3.0->ultralytics) (22.0)\n",
      "Requirement already satisfied: python-dateutil>=2.7 in c:\\users\\fjwhe\\anaconda3\\lib\\site-packages (from matplotlib>=3.3.0->ultralytics) (2.8.2)\n",
      "Requirement already satisfied: pyparsing>=2.3.1 in c:\\users\\fjwhe\\anaconda3\\lib\\site-packages (from matplotlib>=3.3.0->ultralytics) (3.0.9)\n",
      "Requirement already satisfied: cycler>=0.10 in c:\\users\\fjwhe\\anaconda3\\lib\\site-packages (from matplotlib>=3.3.0->ultralytics) (0.11.0)\n",
      "Requirement already satisfied: fonttools>=4.22.0 in c:\\users\\fjwhe\\anaconda3\\lib\\site-packages (from matplotlib>=3.3.0->ultralytics) (4.25.0)\n",
      "Requirement already satisfied: kiwisolver>=1.0.1 in c:\\users\\fjwhe\\anaconda3\\lib\\site-packages (from matplotlib>=3.3.0->ultralytics) (1.4.4)\n",
      "Requirement already satisfied: pytz>=2020.1 in c:\\users\\fjwhe\\anaconda3\\lib\\site-packages (from pandas>=1.1.4->ultralytics) (2022.7)\n",
      "Requirement already satisfied: idna<4,>=2.5 in c:\\users\\fjwhe\\anaconda3\\lib\\site-packages (from requests>=2.23.0->ultralytics) (3.7)\n",
      "Requirement already satisfied: urllib3<1.27,>=1.21.1 in c:\\users\\fjwhe\\anaconda3\\lib\\site-packages (from requests>=2.23.0->ultralytics) (1.26.14)\n",
      "Requirement already satisfied: certifi>=2017.4.17 in c:\\users\\fjwhe\\anaconda3\\lib\\site-packages (from requests>=2.23.0->ultralytics) (2025.1.31)\n",
      "Requirement already satisfied: charset-normalizer<3,>=2 in c:\\users\\fjwhe\\anaconda3\\lib\\site-packages (from requests>=2.23.0->ultralytics) (2.0.4)\n",
      "Requirement already satisfied: typing_extensions in c:\\users\\fjwhe\\anaconda3\\lib\\site-packages (from torch>=1.8.0->ultralytics) (4.4.0)\n",
      "Collecting torch>=1.8.0\n",
      "  Downloading torch-2.6.0-cp310-cp310-win_amd64.whl (204.2 MB)\n",
      "     -------------------------------------- 204.2/204.2 MB 4.3 MB/s eta 0:00:00\n",
      "Collecting typing_extensions\n",
      "  Downloading typing_extensions-4.13.1-py3-none-any.whl (45 kB)\n",
      "     ---------------------------------------- 45.7/45.7 kB 2.4 MB/s eta 0:00:00\n",
      "Requirement already satisfied: jinja2 in c:\\users\\fjwhe\\anaconda3\\lib\\site-packages (from torch>=1.8.0->ultralytics) (3.1.2)\n",
      "Collecting sympy==1.13.1\n",
      "  Downloading sympy-1.13.1-py3-none-any.whl (6.2 MB)\n",
      "     ---------------------------------------- 6.2/6.2 MB 4.6 MB/s eta 0:00:00\n",
      "Requirement already satisfied: filelock in c:\\users\\fjwhe\\anaconda3\\lib\\site-packages (from torch>=1.8.0->ultralytics) (3.9.0)\n",
      "Requirement already satisfied: fsspec in c:\\users\\fjwhe\\anaconda3\\lib\\site-packages (from torch>=1.8.0->ultralytics) (2022.11.0)\n",
      "Requirement already satisfied: networkx in c:\\users\\fjwhe\\anaconda3\\lib\\site-packages (from torch>=1.8.0->ultralytics) (2.8.4)\n",
      "Requirement already satisfied: mpmath<1.4,>=1.1.0 in c:\\users\\fjwhe\\anaconda3\\lib\\site-packages (from sympy==1.13.1->torch>=1.8.0->ultralytics) (1.2.1)\n",
      "Requirement already satisfied: colorama in c:\\users\\fjwhe\\anaconda3\\lib\\site-packages (from tqdm>=4.64.0->ultralytics) (0.4.6)\n",
      "Requirement already satisfied: six>=1.5 in c:\\users\\fjwhe\\anaconda3\\lib\\site-packages (from python-dateutil>=2.7->matplotlib>=3.3.0->ultralytics) (1.16.0)\n",
      "Requirement already satisfied: MarkupSafe>=2.0 in c:\\users\\fjwhe\\anaconda3\\lib\\site-packages (from jinja2->torch>=1.8.0->ultralytics) (2.1.1)\n",
      "Installing collected packages: py-cpuinfo, typing_extensions, sympy, opencv-python, torch, ultralytics-thop, torchvision, ultralytics\n",
      "  Attempting uninstall: typing_extensions\n",
      "    Found existing installation: typing_extensions 4.4.0\n",
      "    Uninstalling typing_extensions-4.4.0:\n",
      "      Successfully uninstalled typing_extensions-4.4.0\n",
      "  Attempting uninstall: sympy\n",
      "    Found existing installation: sympy 1.11.1\n",
      "    Uninstalling sympy-1.11.1:\n",
      "      Successfully uninstalled sympy-1.11.1\n",
      "  Attempting uninstall: torch\n",
      "    Found existing installation: torch 1.12.1\n",
      "    Uninstalling torch-1.12.1:\n",
      "      Successfully uninstalled torch-1.12.1\n",
      "Successfully installed opencv-python-4.11.0.86 py-cpuinfo-9.0.0 sympy-1.13.1 torch-2.6.0 torchvision-0.21.0 typing_extensions-4.13.1 ultralytics-8.3.101 ultralytics-thop-2.0.14\n"
     ]
    }
   ],
   "source": [
    "!pip install roboflow\n",
    "!pip install ultralytics\n"
   ]
  },
  {
   "cell_type": "code",
   "execution_count": 2,
   "id": "39b2b9fc-ffff-4d3c-b288-b4186152fd6a",
   "metadata": {},
   "outputs": [
    {
     "name": "stdout",
     "output_type": "stream",
     "text": [
      "loading Roboflow workspace...\n",
      "loading Roboflow project...\n"
     ]
    },
    {
     "name": "stderr",
     "output_type": "stream",
     "text": [
      "Downloading Dataset Version Zip in NFL-object-tracking-1 to yolov8:: 100%|█████| 27672/27672 [00:10<00:00, 2641.43it/s]"
     ]
    },
    {
     "name": "stdout",
     "output_type": "stream",
     "text": [
      "\n"
     ]
    },
    {
     "name": "stderr",
     "output_type": "stream",
     "text": [
      "\n",
      "Extracting Dataset Version Zip to NFL-object-tracking-1 in yolov8:: 100%|█████████| 1186/1186 [00:01<00:00, 657.85it/s]\n"
     ]
    },
    {
     "name": "stdout",
     "output_type": "stream",
     "text": [
      "Creating new Ultralytics Settings v0.0.6 file  \n",
      "View Ultralytics Settings with 'yolo settings' or at 'C:\\Users\\fjwhe\\AppData\\Roaming\\Ultralytics\\settings.json'\n",
      "Update Settings with 'yolo settings key=value', i.e. 'yolo settings runs_dir=path/to/dir'. For help see https://docs.ultralytics.com/quickstart/#ultralytics-settings.\n"
     ]
    }
   ],
   "source": [
    "from roboflow import Roboflow\n",
    "rf = Roboflow(api_key=\"RsIHVYfJftsspBQBQPkK\")\n",
    "project = rf.workspace(\"nfl-ball-tracking\").project(\"nfl-object-tracking\")\n",
    "version = project.version(1)\n",
    "dataset = version.download(\"yolov8\")\n"
   ]
  },
  {
   "cell_type": "code",
   "execution_count": 5,
   "id": "e5958c52-57cb-4621-a49c-1ed14b255488",
   "metadata": {},
   "outputs": [
    {
     "name": "stdout",
     "output_type": "stream",
     "text": [
      "Ultralytics 8.3.101  Python-3.10.9 torch-2.6.0+cpu CPU (AMD Ryzen 7 5700X 8-Core Processor)\n",
      "\u001b[34m\u001b[1mengine\\trainer: \u001b[0mtask=detect, mode=train, model=yolov8n.yaml, data=D:/deakin/Deakin Year 3/Sem1/Group projects/Model attempt 1 - NFL/NFL-object-tracking-1/data.yaml, epochs=50, time=None, patience=100, batch=8, imgsz=640, save=True, save_period=-1, cache=False, device=None, workers=8, project=None, name=nfl-ball-detector3, exist_ok=False, pretrained=True, optimizer=auto, verbose=True, seed=0, deterministic=True, single_cls=False, rect=False, cos_lr=False, close_mosaic=10, resume=False, amp=True, fraction=1.0, profile=False, freeze=None, multi_scale=False, overlap_mask=True, mask_ratio=4, dropout=0.0, val=True, split=val, save_json=False, save_hybrid=False, conf=None, iou=0.7, max_det=300, half=False, dnn=False, plots=True, source=None, vid_stride=1, stream_buffer=False, visualize=False, augment=False, agnostic_nms=False, classes=None, retina_masks=False, embed=None, show=False, save_frames=False, save_txt=False, save_conf=False, save_crop=False, show_labels=True, show_conf=True, show_boxes=True, line_width=None, format=torchscript, keras=False, optimize=False, int8=False, dynamic=False, simplify=True, opset=None, workspace=None, nms=False, lr0=0.01, lrf=0.01, momentum=0.937, weight_decay=0.0005, warmup_epochs=3.0, warmup_momentum=0.8, warmup_bias_lr=0.1, box=7.5, cls=0.5, dfl=1.5, pose=12.0, kobj=1.0, nbs=64, hsv_h=0.015, hsv_s=0.7, hsv_v=0.4, degrees=0.0, translate=0.1, scale=0.5, shear=0.0, perspective=0.0, flipud=0.0, fliplr=0.5, bgr=0.0, mosaic=1.0, mixup=0.0, copy_paste=0.0, copy_paste_mode=flip, auto_augment=randaugment, erasing=0.4, crop_fraction=1.0, cfg=None, tracker=botsort.yaml, save_dir=runs\\detect\\nfl-ball-detector3\n",
      "Downloading https://ultralytics.com/assets/Arial.ttf to 'C:\\Users\\fjwhe\\AppData\\Roaming\\Ultralytics\\Arial.ttf'...\n"
     ]
    },
    {
     "name": "stderr",
     "output_type": "stream",
     "text": [
      "100%|███████████████████████████████████████████████████████████████████████████████| 755k/755k [00:00<00:00, 1.37MB/s]"
     ]
    },
    {
     "name": "stdout",
     "output_type": "stream",
     "text": [
      "Overriding model.yaml nc=80 with nc=1\n",
      "\n",
      "                   from  n    params  module                                       arguments                     \n",
      "  0                  -1  1       464  ultralytics.nn.modules.conv.Conv             [3, 16, 3, 2]                 \n",
      "  1                  -1  1      4672  ultralytics.nn.modules.conv.Conv             [16, 32, 3, 2]                \n",
      "  2                  -1  1      7360  ultralytics.nn.modules.block.C2f             [32, 32, 1, True]             \n",
      "  3                  -1  1     18560  ultralytics.nn.modules.conv.Conv             [32, 64, 3, 2]                \n",
      "  4                  -1  2     49664  ultralytics.nn.modules.block.C2f             [64, 64, 2, True]             \n",
      "  5                  -1  1     73984  ultralytics.nn.modules.conv.Conv             [64, 128, 3, 2]               \n",
      "  6                  -1  2    197632  ultralytics.nn.modules.block.C2f             [128, 128, 2, True]           \n",
      "  7                  -1  1    295424  ultralytics.nn.modules.conv.Conv             [128, 256, 3, 2]              \n",
      "  8                  -1  1    460288  ultralytics.nn.modules.block.C2f             [256, 256, 1, True]           \n",
      "  9                  -1  1    164608  ultralytics.nn.modules.block.SPPF            [256, 256, 5]                 \n",
      " 10                  -1  1         0  torch.nn.modules.upsampling.Upsample         [None, 2, 'nearest']          \n",
      " 11             [-1, 6]  1         0  ultralytics.nn.modules.conv.Concat           [1]                           \n",
      " 12                  -1  1    148224  ultralytics.nn.modules.block.C2f             [384, 128, 1]                 \n",
      " 13                  -1  1         0  torch.nn.modules.upsampling.Upsample         [None, 2, 'nearest']          \n",
      " 14             [-1, 4]  1         0  ultralytics.nn.modules.conv.Concat           [1]                           \n",
      " 15                  -1  1     37248  ultralytics.nn.modules.block.C2f             [192, 64, 1]                  \n",
      " 16                  -1  1     36992  ultralytics.nn.modules.conv.Conv             [64, 64, 3, 2]                \n",
      " 17            [-1, 12]  1         0  ultralytics.nn.modules.conv.Concat           [1]                           \n",
      " 18                  -1  1    123648  ultralytics.nn.modules.block.C2f             [192, 128, 1]                 \n",
      " 19                  -1  1    147712  ultralytics.nn.modules.conv.Conv             [128, 128, 3, 2]              \n",
      " 20             [-1, 9]  1         0  ultralytics.nn.modules.conv.Concat           [1]                           \n",
      " 21                  -1  1    493056  ultralytics.nn.modules.block.C2f             [384, 256, 1]                 \n",
      " 22        [15, 18, 21]  1    751507  ultralytics.nn.modules.head.Detect           [1, [64, 128, 256]]           \n",
      "YOLOv8n summary: 129 layers, 3,011,043 parameters, 3,011,027 gradients, 8.2 GFLOPs\n"
     ]
    },
    {
     "name": "stderr",
     "output_type": "stream",
     "text": [
      "\n"
     ]
    },
    {
     "name": "stdout",
     "output_type": "stream",
     "text": [
      "\n",
      "Freezing layer 'model.22.dfl.conv.weight'\n"
     ]
    },
    {
     "name": "stderr",
     "output_type": "stream",
     "text": [
      "\u001b[34m\u001b[1mtrain: \u001b[0mScanning D:\\deakin\\Deakin Year 3\\Sem1\\Group projects\\Model attempt 1 - NFL\\NFL-object-tracking-1\\train\\labels...\u001b[0m\n"
     ]
    },
    {
     "name": "stdout",
     "output_type": "stream",
     "text": [
      "\u001b[34m\u001b[1mtrain: \u001b[0mNew cache created: D:\\deakin\\Deakin Year 3\\Sem1\\Group projects\\Model attempt 1 - NFL\\NFL-object-tracking-1\\train\\labels.cache\n"
     ]
    },
    {
     "name": "stderr",
     "output_type": "stream",
     "text": [
      "\u001b[34m\u001b[1mval: \u001b[0mScanning D:\\deakin\\Deakin Year 3\\Sem1\\Group projects\\Model attempt 1 - NFL\\NFL-object-tracking-1\\valid\\labels... 5\u001b[0m"
     ]
    },
    {
     "name": "stdout",
     "output_type": "stream",
     "text": [
      "\u001b[34m\u001b[1mval: \u001b[0mNew cache created: D:\\deakin\\Deakin Year 3\\Sem1\\Group projects\\Model attempt 1 - NFL\\NFL-object-tracking-1\\valid\\labels.cache\n"
     ]
    },
    {
     "name": "stderr",
     "output_type": "stream",
     "text": [
      "\n"
     ]
    },
    {
     "name": "stdout",
     "output_type": "stream",
     "text": [
      "Plotting labels to runs\\detect\\nfl-ball-detector3\\labels.jpg... \n",
      "\u001b[34m\u001b[1moptimizer:\u001b[0m 'optimizer=auto' found, ignoring 'lr0=0.01' and 'momentum=0.937' and determining best 'optimizer', 'lr0' and 'momentum' automatically... \n",
      "\u001b[34m\u001b[1moptimizer:\u001b[0m AdamW(lr=0.002, momentum=0.9) with parameter groups 57 weight(decay=0.0), 64 weight(decay=0.0005), 63 bias(decay=0.0)\n",
      "Image sizes 640 train, 640 val\n",
      "Using 0 dataloader workers\n",
      "Logging results to \u001b[1mruns\\detect\\nfl-ball-detector3\u001b[0m\n",
      "Starting training for 50 epochs...\n",
      "\n",
      "      Epoch    GPU_mem   box_loss   cls_loss   dfl_loss  Instances       Size\n"
     ]
    },
    {
     "name": "stderr",
     "output_type": "stream",
     "text": [
      "       1/50         0G      1.253         49     0.7722          6        640: 100%|██████████| 59/59 [01:34<00:00,  1.\n",
      "                 Class     Images  Instances      Box(P          R      mAP50  mAP50-95): 100%|██████████| 4/4 [00:05<0"
     ]
    },
    {
     "name": "stdout",
     "output_type": "stream",
     "text": [
      "                   all         59         46          0          0          0          0\n"
     ]
    },
    {
     "name": "stderr",
     "output_type": "stream",
     "text": [
      "\n"
     ]
    },
    {
     "name": "stdout",
     "output_type": "stream",
     "text": [
      "\n",
      "      Epoch    GPU_mem   box_loss   cls_loss   dfl_loss  Instances       Size\n"
     ]
    },
    {
     "name": "stderr",
     "output_type": "stream",
     "text": [
      "       2/50         0G      1.696      33.22     0.9935          1        640: 100%|██████████| 59/59 [01:39<00:00,  1.\n",
      "                 Class     Images  Instances      Box(P          R      mAP50  mAP50-95): 100%|██████████| 4/4 [00:04<0"
     ]
    },
    {
     "name": "stdout",
     "output_type": "stream",
     "text": [
      "                   all         59         46          0          0          0          0\n"
     ]
    },
    {
     "name": "stderr",
     "output_type": "stream",
     "text": [
      "\n"
     ]
    },
    {
     "name": "stdout",
     "output_type": "stream",
     "text": [
      "\n",
      "      Epoch    GPU_mem   box_loss   cls_loss   dfl_loss  Instances       Size\n"
     ]
    },
    {
     "name": "stderr",
     "output_type": "stream",
     "text": [
      "       3/50         0G      1.979       26.1      1.005          8        640: 100%|██████████| 59/59 [01:37<00:00,  1.\n",
      "                 Class     Images  Instances      Box(P          R      mAP50  mAP50-95): 100%|██████████| 4/4 [00:04<0"
     ]
    },
    {
     "name": "stdout",
     "output_type": "stream",
     "text": [
      "                   all         59         46          0          0          0          0\n",
      "\n",
      "      Epoch    GPU_mem   box_loss   cls_loss   dfl_loss  Instances       Size\n"
     ]
    },
    {
     "name": "stderr",
     "output_type": "stream",
     "text": [
      "\n",
      "       4/50         0G      3.408      19.72      1.496          6        640: 100%|██████████| 59/59 [01:37<00:00,  1.\n",
      "                 Class     Images  Instances      Box(P          R      mAP50  mAP50-95): 100%|██████████| 4/4 [00:04<0"
     ]
    },
    {
     "name": "stdout",
     "output_type": "stream",
     "text": [
      "                   all         59         46          0          0          0          0\n",
      "\n",
      "      Epoch    GPU_mem   box_loss   cls_loss   dfl_loss  Instances       Size\n"
     ]
    },
    {
     "name": "stderr",
     "output_type": "stream",
     "text": [
      "\n",
      "       5/50         0G      3.937      15.46      1.507          6        640: 100%|██████████| 59/59 [01:36<00:00,  1.\n",
      "                 Class     Images  Instances      Box(P          R      mAP50  mAP50-95): 100%|██████████| 4/4 [00:04<0"
     ]
    },
    {
     "name": "stdout",
     "output_type": "stream",
     "text": [
      "                   all         59         46          0          0          0          0\n"
     ]
    },
    {
     "name": "stderr",
     "output_type": "stream",
     "text": [
      "\n"
     ]
    },
    {
     "name": "stdout",
     "output_type": "stream",
     "text": [
      "\n",
      "      Epoch    GPU_mem   box_loss   cls_loss   dfl_loss  Instances       Size\n"
     ]
    },
    {
     "name": "stderr",
     "output_type": "stream",
     "text": [
      "       6/50         0G      4.405      10.76      1.685          2        640: 100%|██████████| 59/59 [01:35<00:00,  1.\n",
      "                 Class     Images  Instances      Box(P          R      mAP50  mAP50-95): 100%|██████████| 4/4 [00:04<0"
     ]
    },
    {
     "name": "stdout",
     "output_type": "stream",
     "text": [
      "                   all         59         46          0          0          0          0\n"
     ]
    },
    {
     "name": "stderr",
     "output_type": "stream",
     "text": [
      "\n"
     ]
    },
    {
     "name": "stdout",
     "output_type": "stream",
     "text": [
      "\n",
      "      Epoch    GPU_mem   box_loss   cls_loss   dfl_loss  Instances       Size\n"
     ]
    },
    {
     "name": "stderr",
     "output_type": "stream",
     "text": [
      "       7/50         0G      4.395      10.08      1.639          5        640: 100%|██████████| 59/59 [01:36<00:00,  1.\n",
      "                 Class     Images  Instances      Box(P          R      mAP50  mAP50-95): 100%|██████████| 4/4 [00:04<0"
     ]
    },
    {
     "name": "stdout",
     "output_type": "stream",
     "text": [
      "                   all         59         46          0          0          0          0\n"
     ]
    },
    {
     "name": "stderr",
     "output_type": "stream",
     "text": [
      "\n"
     ]
    },
    {
     "name": "stdout",
     "output_type": "stream",
     "text": [
      "\n",
      "      Epoch    GPU_mem   box_loss   cls_loss   dfl_loss  Instances       Size\n"
     ]
    },
    {
     "name": "stderr",
     "output_type": "stream",
     "text": [
      "       8/50         0G      4.092      8.856      1.531          3        640: 100%|██████████| 59/59 [01:36<00:00,  1.\n",
      "                 Class     Images  Instances      Box(P          R      mAP50  mAP50-95): 100%|██████████| 4/4 [00:04<0"
     ]
    },
    {
     "name": "stdout",
     "output_type": "stream",
     "text": [
      "                   all         59         46          0          0          0          0\n"
     ]
    },
    {
     "name": "stderr",
     "output_type": "stream",
     "text": [
      "\n"
     ]
    },
    {
     "name": "stdout",
     "output_type": "stream",
     "text": [
      "\n",
      "      Epoch    GPU_mem   box_loss   cls_loss   dfl_loss  Instances       Size\n"
     ]
    },
    {
     "name": "stderr",
     "output_type": "stream",
     "text": [
      "       9/50         0G      4.169      7.623      1.519          3        640: 100%|██████████| 59/59 [01:35<00:00,  1.\n",
      "                 Class     Images  Instances      Box(P          R      mAP50  mAP50-95): 100%|██████████| 4/4 [00:04<0"
     ]
    },
    {
     "name": "stdout",
     "output_type": "stream",
     "text": [
      "                   all         59         46          0          0          0          0\n",
      "\n",
      "      Epoch    GPU_mem   box_loss   cls_loss   dfl_loss  Instances       Size\n"
     ]
    },
    {
     "name": "stderr",
     "output_type": "stream",
     "text": [
      "\n",
      "      10/50         0G      4.291      6.857      1.575          4        640: 100%|██████████| 59/59 [01:39<00:00,  1.\n",
      "                 Class     Images  Instances      Box(P          R      mAP50  mAP50-95): 100%|██████████| 4/4 [00:04<0"
     ]
    },
    {
     "name": "stdout",
     "output_type": "stream",
     "text": [
      "                   all         59         46          0          0          0          0\n",
      "\n",
      "      Epoch    GPU_mem   box_loss   cls_loss   dfl_loss  Instances       Size\n"
     ]
    },
    {
     "name": "stderr",
     "output_type": "stream",
     "text": [
      "\n",
      "      11/50         0G      4.135      6.541      1.451          3        640: 100%|██████████| 59/59 [01:38<00:00,  1.\n",
      "                 Class     Images  Instances      Box(P          R      mAP50  mAP50-95): 100%|██████████| 4/4 [00:04<0"
     ]
    },
    {
     "name": "stdout",
     "output_type": "stream",
     "text": [
      "                   all         59         46          0          0          0          0\n"
     ]
    },
    {
     "name": "stderr",
     "output_type": "stream",
     "text": [
      "\n"
     ]
    },
    {
     "name": "stdout",
     "output_type": "stream",
     "text": [
      "\n",
      "      Epoch    GPU_mem   box_loss   cls_loss   dfl_loss  Instances       Size\n"
     ]
    },
    {
     "name": "stderr",
     "output_type": "stream",
     "text": [
      "      12/50         0G      4.427      6.094      1.555          3        640: 100%|██████████| 59/59 [01:35<00:00,  1.\n",
      "                 Class     Images  Instances      Box(P          R      mAP50  mAP50-95): 100%|██████████| 4/4 [00:04<0"
     ]
    },
    {
     "name": "stdout",
     "output_type": "stream",
     "text": [
      "                   all         59         46   0.000476     0.0217   0.000152   3.04e-05\n",
      "\n",
      "      Epoch    GPU_mem   box_loss   cls_loss   dfl_loss  Instances       Size\n"
     ]
    },
    {
     "name": "stderr",
     "output_type": "stream",
     "text": [
      "\n",
      "      13/50         0G      4.237      5.666      1.628          2        640: 100%|██████████| 59/59 [01:34<00:00,  1.\n",
      "                 Class     Images  Instances      Box(P          R      mAP50  mAP50-95): 100%|██████████| 4/4 [00:04<0"
     ]
    },
    {
     "name": "stdout",
     "output_type": "stream",
     "text": [
      "                   all         59         46          0          0          0          0\n",
      "\n",
      "      Epoch    GPU_mem   box_loss   cls_loss   dfl_loss  Instances       Size\n"
     ]
    },
    {
     "name": "stderr",
     "output_type": "stream",
     "text": [
      "\n",
      "      14/50         0G      4.197       5.56      1.489          5        640: 100%|██████████| 59/59 [01:33<00:00,  1.\n",
      "                 Class     Images  Instances      Box(P          R      mAP50  mAP50-95): 100%|██████████| 4/4 [00:04<0"
     ]
    },
    {
     "name": "stdout",
     "output_type": "stream",
     "text": [
      "                   all         59         46    0.00199     0.0435    0.00169   0.000803\n",
      "\n",
      "      Epoch    GPU_mem   box_loss   cls_loss   dfl_loss  Instances       Size\n"
     ]
    },
    {
     "name": "stderr",
     "output_type": "stream",
     "text": [
      "\n",
      "      15/50         0G      4.159      5.322      1.566          5        640: 100%|██████████| 59/59 [01:32<00:00,  1.\n",
      "                 Class     Images  Instances      Box(P          R      mAP50  mAP50-95): 100%|██████████| 4/4 [00:04<0"
     ]
    },
    {
     "name": "stdout",
     "output_type": "stream",
     "text": [
      "                   all         59         46    0.00189     0.0652    0.00101   0.000265\n",
      "\n",
      "      Epoch    GPU_mem   box_loss   cls_loss   dfl_loss  Instances       Size\n"
     ]
    },
    {
     "name": "stderr",
     "output_type": "stream",
     "text": [
      "\n",
      "      16/50         0G      4.315      5.178      1.561          5        640: 100%|██████████| 59/59 [01:32<00:00,  1.\n",
      "                 Class     Images  Instances      Box(P          R      mAP50  mAP50-95): 100%|██████████| 4/4 [00:04<0"
     ]
    },
    {
     "name": "stdout",
     "output_type": "stream",
     "text": [
      "                   all         59         46    0.00246     0.0652    0.00135   0.000358\n",
      "\n",
      "      Epoch    GPU_mem   box_loss   cls_loss   dfl_loss  Instances       Size\n"
     ]
    },
    {
     "name": "stderr",
     "output_type": "stream",
     "text": [
      "\n",
      "      17/50         0G      4.304      5.177      1.581          7        640: 100%|██████████| 59/59 [01:32<00:00,  1.\n",
      "                 Class     Images  Instances      Box(P          R      mAP50  mAP50-95): 100%|██████████| 4/4 [00:04<0"
     ]
    },
    {
     "name": "stdout",
     "output_type": "stream",
     "text": [
      "                   all         59         46          0          0          0          0\n",
      "\n",
      "      Epoch    GPU_mem   box_loss   cls_loss   dfl_loss  Instances       Size\n"
     ]
    },
    {
     "name": "stderr",
     "output_type": "stream",
     "text": [
      "\n",
      "      18/50         0G      4.182       4.92      1.448          7        640: 100%|██████████| 59/59 [01:32<00:00,  1.\n",
      "                 Class     Images  Instances      Box(P          R      mAP50  mAP50-95): 100%|██████████| 4/4 [00:04<0"
     ]
    },
    {
     "name": "stdout",
     "output_type": "stream",
     "text": [
      "                   all         59         46    0.00415      0.196    0.00272   0.000863\n"
     ]
    },
    {
     "name": "stderr",
     "output_type": "stream",
     "text": [
      "\n"
     ]
    },
    {
     "name": "stdout",
     "output_type": "stream",
     "text": [
      "\n",
      "      Epoch    GPU_mem   box_loss   cls_loss   dfl_loss  Instances       Size\n"
     ]
    },
    {
     "name": "stderr",
     "output_type": "stream",
     "text": [
      "      19/50         0G      4.152      4.575      1.462          6        640: 100%|██████████| 59/59 [01:32<00:00,  1.\n",
      "                 Class     Images  Instances      Box(P          R      mAP50  mAP50-95): 100%|██████████| 4/4 [00:04<0"
     ]
    },
    {
     "name": "stdout",
     "output_type": "stream",
     "text": [
      "                   all         59         46    0.00605      0.261    0.00642    0.00164\n",
      "\n",
      "      Epoch    GPU_mem   box_loss   cls_loss   dfl_loss  Instances       Size\n"
     ]
    },
    {
     "name": "stderr",
     "output_type": "stream",
     "text": [
      "\n",
      "      20/50         0G      4.105      4.586      1.498          6        640: 100%|██████████| 59/59 [01:32<00:00,  1.\n",
      "                 Class     Images  Instances      Box(P          R      mAP50  mAP50-95): 100%|██████████| 4/4 [00:04<0"
     ]
    },
    {
     "name": "stdout",
     "output_type": "stream",
     "text": [
      "                   all         59         46    0.00176      0.391    0.00531    0.00138\n",
      "\n",
      "      Epoch    GPU_mem   box_loss   cls_loss   dfl_loss  Instances       Size\n"
     ]
    },
    {
     "name": "stderr",
     "output_type": "stream",
     "text": [
      "\n",
      "      21/50         0G      3.979      4.338      1.378          7        640: 100%|██████████| 59/59 [01:32<00:00,  1.\n",
      "                 Class     Images  Instances      Box(P          R      mAP50  mAP50-95): 100%|██████████| 4/4 [00:04<0"
     ]
    },
    {
     "name": "stdout",
     "output_type": "stream",
     "text": [
      "                   all         59         46    0.00784      0.348     0.0154    0.00416\n",
      "\n",
      "      Epoch    GPU_mem   box_loss   cls_loss   dfl_loss  Instances       Size\n"
     ]
    },
    {
     "name": "stderr",
     "output_type": "stream",
     "text": [
      "\n",
      "      22/50         0G       3.86      4.213      1.474          5        640: 100%|██████████| 59/59 [01:32<00:00,  1.\n",
      "                 Class     Images  Instances      Box(P          R      mAP50  mAP50-95): 100%|██████████| 4/4 [00:04<0"
     ]
    },
    {
     "name": "stdout",
     "output_type": "stream",
     "text": [
      "                   all         59         46    0.00483       0.37     0.0384    0.00898\n"
     ]
    },
    {
     "name": "stderr",
     "output_type": "stream",
     "text": [
      "\n"
     ]
    },
    {
     "name": "stdout",
     "output_type": "stream",
     "text": [
      "\n",
      "      Epoch    GPU_mem   box_loss   cls_loss   dfl_loss  Instances       Size\n"
     ]
    },
    {
     "name": "stderr",
     "output_type": "stream",
     "text": [
      "      23/50         0G      3.791      4.132      1.405          4        640: 100%|██████████| 59/59 [01:32<00:00,  1.\n",
      "                 Class     Images  Instances      Box(P          R      mAP50  mAP50-95): 100%|██████████| 4/4 [00:04<0"
     ]
    },
    {
     "name": "stdout",
     "output_type": "stream",
     "text": [
      "                   all         59         46    0.00506      0.413     0.0175    0.00509\n",
      "\n",
      "      Epoch    GPU_mem   box_loss   cls_loss   dfl_loss  Instances       Size\n"
     ]
    },
    {
     "name": "stderr",
     "output_type": "stream",
     "text": [
      "\n",
      "      24/50         0G      3.631      3.963      1.318          3        640: 100%|██████████| 59/59 [01:39<00:00,  1.\n",
      "                 Class     Images  Instances      Box(P          R      mAP50  mAP50-95): 100%|██████████| 4/4 [00:04<0"
     ]
    },
    {
     "name": "stdout",
     "output_type": "stream",
     "text": [
      "                   all         59         46    0.00627      0.457     0.0584     0.0125\n",
      "\n",
      "      Epoch    GPU_mem   box_loss   cls_loss   dfl_loss  Instances       Size\n"
     ]
    },
    {
     "name": "stderr",
     "output_type": "stream",
     "text": [
      "\n",
      "      25/50         0G      3.538       3.94      1.304          3        640: 100%|██████████| 59/59 [01:33<00:00,  1.\n",
      "                 Class     Images  Instances      Box(P          R      mAP50  mAP50-95): 100%|██████████| 4/4 [00:04<0"
     ]
    },
    {
     "name": "stdout",
     "output_type": "stream",
     "text": [
      "                   all         59         46    0.00338      0.478     0.0759     0.0236\n"
     ]
    },
    {
     "name": "stderr",
     "output_type": "stream",
     "text": [
      "\n"
     ]
    },
    {
     "name": "stdout",
     "output_type": "stream",
     "text": [
      "\n",
      "      Epoch    GPU_mem   box_loss   cls_loss   dfl_loss  Instances       Size\n"
     ]
    },
    {
     "name": "stderr",
     "output_type": "stream",
     "text": [
      "      26/50         0G      3.484      3.924      1.261          4        640: 100%|██████████| 59/59 [01:32<00:00,  1.\n",
      "                 Class     Images  Instances      Box(P          R      mAP50  mAP50-95): 100%|██████████| 4/4 [00:04<0"
     ]
    },
    {
     "name": "stdout",
     "output_type": "stream",
     "text": [
      "                   all         59         46     0.0228      0.283     0.0682     0.0182\n",
      "\n",
      "      Epoch    GPU_mem   box_loss   cls_loss   dfl_loss  Instances       Size\n"
     ]
    },
    {
     "name": "stderr",
     "output_type": "stream",
     "text": [
      "\n",
      "      27/50         0G      3.523      3.873      1.288          3        640: 100%|██████████| 59/59 [01:33<00:00,  1.\n",
      "                 Class     Images  Instances      Box(P          R      mAP50  mAP50-95): 100%|██████████| 4/4 [00:04<0"
     ]
    },
    {
     "name": "stdout",
     "output_type": "stream",
     "text": [
      "                   all         59         46     0.0891      0.152     0.0649     0.0242\n",
      "\n",
      "      Epoch    GPU_mem   box_loss   cls_loss   dfl_loss  Instances       Size\n"
     ]
    },
    {
     "name": "stderr",
     "output_type": "stream",
     "text": [
      "\n",
      "      28/50         0G      3.493      3.807      1.281          4        640: 100%|██████████| 59/59 [01:31<00:00,  1.\n",
      "                 Class     Images  Instances      Box(P          R      mAP50  mAP50-95): 100%|██████████| 4/4 [00:04<0"
     ]
    },
    {
     "name": "stdout",
     "output_type": "stream",
     "text": [
      "                   all         59         46      0.331      0.152      0.103     0.0278\n"
     ]
    },
    {
     "name": "stderr",
     "output_type": "stream",
     "text": [
      "\n"
     ]
    },
    {
     "name": "stdout",
     "output_type": "stream",
     "text": [
      "\n",
      "      Epoch    GPU_mem   box_loss   cls_loss   dfl_loss  Instances       Size\n"
     ]
    },
    {
     "name": "stderr",
     "output_type": "stream",
     "text": [
      "      29/50         0G      3.436      3.659      1.297          4        640: 100%|██████████| 59/59 [01:33<00:00,  1.\n",
      "                 Class     Images  Instances      Box(P          R      mAP50  mAP50-95): 100%|██████████| 4/4 [00:04<0"
     ]
    },
    {
     "name": "stdout",
     "output_type": "stream",
     "text": [
      "                   all         59         46      0.346      0.087     0.0965     0.0308\n"
     ]
    },
    {
     "name": "stderr",
     "output_type": "stream",
     "text": [
      "\n"
     ]
    },
    {
     "name": "stdout",
     "output_type": "stream",
     "text": [
      "\n",
      "      Epoch    GPU_mem   box_loss   cls_loss   dfl_loss  Instances       Size\n"
     ]
    },
    {
     "name": "stderr",
     "output_type": "stream",
     "text": [
      "      30/50         0G      3.448      3.663      1.203          3        640: 100%|██████████| 59/59 [01:36<00:00,  1.\n",
      "                 Class     Images  Instances      Box(P          R      mAP50  mAP50-95): 100%|██████████| 4/4 [00:04<0"
     ]
    },
    {
     "name": "stdout",
     "output_type": "stream",
     "text": [
      "                   all         59         46      0.363     0.0995     0.0838     0.0261\n"
     ]
    },
    {
     "name": "stderr",
     "output_type": "stream",
     "text": [
      "\n"
     ]
    },
    {
     "name": "stdout",
     "output_type": "stream",
     "text": [
      "\n",
      "      Epoch    GPU_mem   box_loss   cls_loss   dfl_loss  Instances       Size\n"
     ]
    },
    {
     "name": "stderr",
     "output_type": "stream",
     "text": [
      "      31/50         0G      3.338      3.455      1.219          3        640: 100%|██████████| 59/59 [01:36<00:00,  1.\n",
      "                 Class     Images  Instances      Box(P          R      mAP50  mAP50-95): 100%|██████████| 4/4 [00:04<0"
     ]
    },
    {
     "name": "stdout",
     "output_type": "stream",
     "text": [
      "                   all         59         46      0.477      0.174      0.138     0.0523\n",
      "\n",
      "      Epoch    GPU_mem   box_loss   cls_loss   dfl_loss  Instances       Size\n"
     ]
    },
    {
     "name": "stderr",
     "output_type": "stream",
     "text": [
      "\n",
      "      32/50         0G      3.211      3.491      1.237          2        640: 100%|██████████| 59/59 [01:35<00:00,  1.\n",
      "                 Class     Images  Instances      Box(P          R      mAP50  mAP50-95): 100%|██████████| 4/4 [00:04<0"
     ]
    },
    {
     "name": "stdout",
     "output_type": "stream",
     "text": [
      "                   all         59         46      0.464      0.174      0.131     0.0434\n",
      "\n",
      "      Epoch    GPU_mem   box_loss   cls_loss   dfl_loss  Instances       Size\n"
     ]
    },
    {
     "name": "stderr",
     "output_type": "stream",
     "text": [
      "\n",
      "      33/50         0G      3.343      3.588       1.25          4        640: 100%|██████████| 59/59 [01:29<00:00,  1.\n",
      "                 Class     Images  Instances      Box(P          R      mAP50  mAP50-95): 100%|██████████| 4/4 [00:04<0"
     ]
    },
    {
     "name": "stdout",
     "output_type": "stream",
     "text": [
      "                   all         59         46      0.298      0.152       0.13     0.0353\n",
      "\n",
      "      Epoch    GPU_mem   box_loss   cls_loss   dfl_loss  Instances       Size\n"
     ]
    },
    {
     "name": "stderr",
     "output_type": "stream",
     "text": [
      "\n",
      "      34/50         0G      3.239      3.499      1.251          6        640: 100%|██████████| 59/59 [01:31<00:00,  1.\n",
      "                 Class     Images  Instances      Box(P          R      mAP50  mAP50-95): 100%|██████████| 4/4 [00:04<0"
     ]
    },
    {
     "name": "stdout",
     "output_type": "stream",
     "text": [
      "                   all         59         46      0.447      0.176      0.158     0.0545\n"
     ]
    },
    {
     "name": "stderr",
     "output_type": "stream",
     "text": [
      "\n"
     ]
    },
    {
     "name": "stdout",
     "output_type": "stream",
     "text": [
      "\n",
      "      Epoch    GPU_mem   box_loss   cls_loss   dfl_loss  Instances       Size\n"
     ]
    },
    {
     "name": "stderr",
     "output_type": "stream",
     "text": [
      "      35/50         0G      3.285      3.332      1.238          6        640: 100%|██████████| 59/59 [01:29<00:00,  1.\n",
      "                 Class     Images  Instances      Box(P          R      mAP50  mAP50-95): 100%|██████████| 4/4 [00:04<0"
     ]
    },
    {
     "name": "stdout",
     "output_type": "stream",
     "text": [
      "                   all         59         46      0.512      0.196      0.171     0.0657\n",
      "\n",
      "      Epoch    GPU_mem   box_loss   cls_loss   dfl_loss  Instances       Size\n"
     ]
    },
    {
     "name": "stderr",
     "output_type": "stream",
     "text": [
      "\n",
      "      36/50         0G      3.274      3.468      1.209          3        640: 100%|██████████| 59/59 [01:29<00:00,  1.\n",
      "                 Class     Images  Instances      Box(P          R      mAP50  mAP50-95): 100%|██████████| 4/4 [00:04<0"
     ]
    },
    {
     "name": "stdout",
     "output_type": "stream",
     "text": [
      "                   all         59         46      0.409      0.152      0.134     0.0461\n",
      "\n",
      "      Epoch    GPU_mem   box_loss   cls_loss   dfl_loss  Instances       Size\n"
     ]
    },
    {
     "name": "stderr",
     "output_type": "stream",
     "text": [
      "\n",
      "      37/50         0G      3.138       3.22      1.188          7        640: 100%|██████████| 59/59 [01:28<00:00,  1.\n",
      "                 Class     Images  Instances      Box(P          R      mAP50  mAP50-95): 100%|██████████| 4/4 [00:04<0"
     ]
    },
    {
     "name": "stdout",
     "output_type": "stream",
     "text": [
      "                   all         59         46      0.721      0.169       0.18     0.0656\n",
      "\n",
      "      Epoch    GPU_mem   box_loss   cls_loss   dfl_loss  Instances       Size\n"
     ]
    },
    {
     "name": "stderr",
     "output_type": "stream",
     "text": [
      "\n",
      "      38/50         0G      3.272      3.241      1.221          7        640: 100%|██████████| 59/59 [01:29<00:00,  1.\n",
      "                 Class     Images  Instances      Box(P          R      mAP50  mAP50-95): 100%|██████████| 4/4 [00:04<0"
     ]
    },
    {
     "name": "stdout",
     "output_type": "stream",
     "text": [
      "                   all         59         46      0.437      0.152      0.169      0.041\n",
      "\n",
      "      Epoch    GPU_mem   box_loss   cls_loss   dfl_loss  Instances       Size\n"
     ]
    },
    {
     "name": "stderr",
     "output_type": "stream",
     "text": [
      "\n",
      "      39/50         0G      3.277      3.184      1.191          7        640: 100%|██████████| 59/59 [01:30<00:00,  1.\n",
      "                 Class     Images  Instances      Box(P          R      mAP50  mAP50-95): 100%|██████████| 4/4 [00:04<0"
     ]
    },
    {
     "name": "stdout",
     "output_type": "stream",
     "text": [
      "                   all         59         46      0.682      0.196      0.206     0.0684\n"
     ]
    },
    {
     "name": "stderr",
     "output_type": "stream",
     "text": [
      "\n"
     ]
    },
    {
     "name": "stdout",
     "output_type": "stream",
     "text": [
      "\n",
      "      Epoch    GPU_mem   box_loss   cls_loss   dfl_loss  Instances       Size\n"
     ]
    },
    {
     "name": "stderr",
     "output_type": "stream",
     "text": [
      "      40/50         0G      3.301      3.327      1.238          5        640: 100%|██████████| 59/59 [01:25<00:00,  1.\n",
      "                 Class     Images  Instances      Box(P          R      mAP50  mAP50-95): 100%|██████████| 4/4 [00:03<0"
     ]
    },
    {
     "name": "stdout",
     "output_type": "stream",
     "text": [
      "                   all         59         46      0.518      0.187      0.195     0.0586\n",
      "Closing dataloader mosaic\n"
     ]
    },
    {
     "name": "stderr",
     "output_type": "stream",
     "text": [
      "\n"
     ]
    },
    {
     "name": "stdout",
     "output_type": "stream",
     "text": [
      "\n",
      "      Epoch    GPU_mem   box_loss   cls_loss   dfl_loss  Instances       Size\n"
     ]
    },
    {
     "name": "stderr",
     "output_type": "stream",
     "text": [
      "      41/50         0G      3.059      3.139      1.235          4        640: 100%|██████████| 59/59 [01:27<00:00,  1.\n",
      "                 Class     Images  Instances      Box(P          R      mAP50  mAP50-95): 100%|██████████| 4/4 [00:04<0"
     ]
    },
    {
     "name": "stdout",
     "output_type": "stream",
     "text": [
      "                   all         59         46      0.536      0.239      0.227     0.0734\n",
      "\n",
      "      Epoch    GPU_mem   box_loss   cls_loss   dfl_loss  Instances       Size\n"
     ]
    },
    {
     "name": "stderr",
     "output_type": "stream",
     "text": [
      "\n",
      "      42/50         0G      3.033      2.976      1.265          4        640: 100%|██████████| 59/59 [01:27<00:00,  1.\n",
      "                 Class     Images  Instances      Box(P          R      mAP50  mAP50-95): 100%|██████████| 4/4 [00:04<0"
     ]
    },
    {
     "name": "stdout",
     "output_type": "stream",
     "text": [
      "                   all         59         46      0.468      0.239       0.22     0.0841\n"
     ]
    },
    {
     "name": "stderr",
     "output_type": "stream",
     "text": [
      "\n"
     ]
    },
    {
     "name": "stdout",
     "output_type": "stream",
     "text": [
      "\n",
      "      Epoch    GPU_mem   box_loss   cls_loss   dfl_loss  Instances       Size\n"
     ]
    },
    {
     "name": "stderr",
     "output_type": "stream",
     "text": [
      "      43/50         0G      3.119      3.025       1.26          3        640: 100%|██████████| 59/59 [01:27<00:00,  1.\n",
      "                 Class     Images  Instances      Box(P          R      mAP50  mAP50-95): 100%|██████████| 4/4 [00:04<0"
     ]
    },
    {
     "name": "stdout",
     "output_type": "stream",
     "text": [
      "                   all         59         46      0.598      0.261      0.253     0.0815\n",
      "\n",
      "      Epoch    GPU_mem   box_loss   cls_loss   dfl_loss  Instances       Size\n"
     ]
    },
    {
     "name": "stderr",
     "output_type": "stream",
     "text": [
      "\n",
      "      44/50         0G      3.002      2.866      1.256          4        640: 100%|██████████| 59/59 [01:28<00:00,  1.\n",
      "                 Class     Images  Instances      Box(P          R      mAP50  mAP50-95): 100%|██████████| 4/4 [00:04<0"
     ]
    },
    {
     "name": "stdout",
     "output_type": "stream",
     "text": [
      "                   all         59         46        0.8       0.26      0.268        0.1\n"
     ]
    },
    {
     "name": "stderr",
     "output_type": "stream",
     "text": [
      "\n"
     ]
    },
    {
     "name": "stdout",
     "output_type": "stream",
     "text": [
      "\n",
      "      Epoch    GPU_mem   box_loss   cls_loss   dfl_loss  Instances       Size\n"
     ]
    },
    {
     "name": "stderr",
     "output_type": "stream",
     "text": [
      "      45/50         0G      3.001      2.873       1.24          4        640: 100%|██████████| 59/59 [01:28<00:00,  1.\n",
      "                 Class     Images  Instances      Box(P          R      mAP50  mAP50-95): 100%|██████████| 4/4 [00:04<0"
     ]
    },
    {
     "name": "stdout",
     "output_type": "stream",
     "text": [
      "                   all         59         46      0.737      0.261      0.262      0.084\n",
      "\n",
      "      Epoch    GPU_mem   box_loss   cls_loss   dfl_loss  Instances       Size\n"
     ]
    },
    {
     "name": "stderr",
     "output_type": "stream",
     "text": [
      "\n",
      "      46/50         0G      2.927      2.823      1.229          3        640: 100%|██████████| 59/59 [01:27<00:00,  1.\n",
      "                 Class     Images  Instances      Box(P          R      mAP50  mAP50-95): 100%|██████████| 4/4 [00:04<0"
     ]
    },
    {
     "name": "stdout",
     "output_type": "stream",
     "text": [
      "                   all         59         46      0.727      0.261      0.259     0.0798\n",
      "\n",
      "      Epoch    GPU_mem   box_loss   cls_loss   dfl_loss  Instances       Size\n"
     ]
    },
    {
     "name": "stderr",
     "output_type": "stream",
     "text": [
      "\n",
      "      47/50         0G      2.926      2.858      1.219          3        640: 100%|██████████| 59/59 [01:27<00:00,  1.\n",
      "                 Class     Images  Instances      Box(P          R      mAP50  mAP50-95): 100%|██████████| 4/4 [00:04<0"
     ]
    },
    {
     "name": "stdout",
     "output_type": "stream",
     "text": [
      "                   all         59         46      0.738      0.261      0.274     0.0888\n",
      "\n",
      "      Epoch    GPU_mem   box_loss   cls_loss   dfl_loss  Instances       Size\n"
     ]
    },
    {
     "name": "stderr",
     "output_type": "stream",
     "text": [
      "\n",
      "      48/50         0G      2.923      2.827      1.212          3        640: 100%|██████████| 59/59 [01:27<00:00,  1.\n",
      "                 Class     Images  Instances      Box(P          R      mAP50  mAP50-95): 100%|██████████| 4/4 [00:04<0"
     ]
    },
    {
     "name": "stdout",
     "output_type": "stream",
     "text": [
      "                   all         59         46      0.675      0.261      0.277      0.102\n"
     ]
    },
    {
     "name": "stderr",
     "output_type": "stream",
     "text": [
      "\n"
     ]
    },
    {
     "name": "stdout",
     "output_type": "stream",
     "text": [
      "\n",
      "      Epoch    GPU_mem   box_loss   cls_loss   dfl_loss  Instances       Size\n"
     ]
    },
    {
     "name": "stderr",
     "output_type": "stream",
     "text": [
      "      49/50         0G      2.924      2.768      1.228          4        640: 100%|██████████| 59/59 [01:28<00:00,  1.\n",
      "                 Class     Images  Instances      Box(P          R      mAP50  mAP50-95): 100%|██████████| 4/4 [00:04<0"
     ]
    },
    {
     "name": "stdout",
     "output_type": "stream",
     "text": [
      "                   all         59         46       0.74      0.261      0.275     0.0944\n",
      "\n",
      "      Epoch    GPU_mem   box_loss   cls_loss   dfl_loss  Instances       Size\n"
     ]
    },
    {
     "name": "stderr",
     "output_type": "stream",
     "text": [
      "\n",
      "      50/50         0G      2.881      2.849      1.215          4        640: 100%|██████████| 59/59 [01:31<00:00,  1.\n",
      "                 Class     Images  Instances      Box(P          R      mAP50  mAP50-95): 100%|██████████| 4/4 [00:04<0"
     ]
    },
    {
     "name": "stdout",
     "output_type": "stream",
     "text": [
      "                   all         59         46      0.784      0.261      0.296       0.11\n",
      "\n",
      "50 epochs completed in 1.350 hours.\n"
     ]
    },
    {
     "name": "stderr",
     "output_type": "stream",
     "text": [
      "\n"
     ]
    },
    {
     "name": "stdout",
     "output_type": "stream",
     "text": [
      "Optimizer stripped from runs\\detect\\nfl-ball-detector3\\weights\\last.pt, 6.2MB\n",
      "Optimizer stripped from runs\\detect\\nfl-ball-detector3\\weights\\best.pt, 6.2MB\n",
      "\n",
      "Validating runs\\detect\\nfl-ball-detector3\\weights\\best.pt...\n",
      "Ultralytics 8.3.101  Python-3.10.9 torch-2.6.0+cpu CPU (AMD Ryzen 7 5700X 8-Core Processor)\n",
      "YOLOv8n summary (fused): 72 layers, 3,005,843 parameters, 0 gradients, 8.1 GFLOPs\n"
     ]
    },
    {
     "name": "stderr",
     "output_type": "stream",
     "text": [
      "                 Class     Images  Instances      Box(P          R      mAP50  mAP50-95): 100%|██████████| 4/4 [00:03<0\n"
     ]
    },
    {
     "name": "stdout",
     "output_type": "stream",
     "text": [
      "                   all         59         46      0.783      0.261      0.296       0.11\n",
      "Speed: 1.7ms preprocess, 57.7ms inference, 0.0ms loss, 0.3ms postprocess per image\n",
      "Results saved to \u001b[1mruns\\detect\\nfl-ball-detector3\u001b[0m\n"
     ]
    },
    {
     "data": {
      "text/plain": [
       "ultralytics.utils.metrics.DetMetrics object with attributes:\n",
       "\n",
       "ap_class_index: array([0])\n",
       "box: ultralytics.utils.metrics.Metric object\n",
       "confusion_matrix: <ultralytics.utils.metrics.ConfusionMatrix object at 0x0000027D4C006530>\n",
       "curves: ['Precision-Recall(B)', 'F1-Confidence(B)', 'Precision-Confidence(B)', 'Recall-Confidence(B)']\n",
       "curves_results: [[array([          0,    0.001001,    0.002002,    0.003003,    0.004004,    0.005005,    0.006006,    0.007007,    0.008008,    0.009009,     0.01001,    0.011011,    0.012012,    0.013013,    0.014014,    0.015015,    0.016016,    0.017017,    0.018018,    0.019019,     0.02002,    0.021021,    0.022022,    0.023023,\n",
       "          0.024024,    0.025025,    0.026026,    0.027027,    0.028028,    0.029029,     0.03003,    0.031031,    0.032032,    0.033033,    0.034034,    0.035035,    0.036036,    0.037037,    0.038038,    0.039039,     0.04004,    0.041041,    0.042042,    0.043043,    0.044044,    0.045045,    0.046046,    0.047047,\n",
       "          0.048048,    0.049049,     0.05005,    0.051051,    0.052052,    0.053053,    0.054054,    0.055055,    0.056056,    0.057057,    0.058058,    0.059059,     0.06006,    0.061061,    0.062062,    0.063063,    0.064064,    0.065065,    0.066066,    0.067067,    0.068068,    0.069069,     0.07007,    0.071071,\n",
       "          0.072072,    0.073073,    0.074074,    0.075075,    0.076076,    0.077077,    0.078078,    0.079079,     0.08008,    0.081081,    0.082082,    0.083083,    0.084084,    0.085085,    0.086086,    0.087087,    0.088088,    0.089089,     0.09009,    0.091091,    0.092092,    0.093093,    0.094094,    0.095095,\n",
       "          0.096096,    0.097097,    0.098098,    0.099099,      0.1001,      0.1011,      0.1021,      0.1031,      0.1041,     0.10511,     0.10611,     0.10711,     0.10811,     0.10911,     0.11011,     0.11111,     0.11211,     0.11311,     0.11411,     0.11512,     0.11612,     0.11712,     0.11812,     0.11912,\n",
       "           0.12012,     0.12112,     0.12212,     0.12312,     0.12412,     0.12513,     0.12613,     0.12713,     0.12813,     0.12913,     0.13013,     0.13113,     0.13213,     0.13313,     0.13413,     0.13514,     0.13614,     0.13714,     0.13814,     0.13914,     0.14014,     0.14114,     0.14214,     0.14314,\n",
       "           0.14414,     0.14515,     0.14615,     0.14715,     0.14815,     0.14915,     0.15015,     0.15115,     0.15215,     0.15315,     0.15415,     0.15516,     0.15616,     0.15716,     0.15816,     0.15916,     0.16016,     0.16116,     0.16216,     0.16316,     0.16416,     0.16517,     0.16617,     0.16717,\n",
       "           0.16817,     0.16917,     0.17017,     0.17117,     0.17217,     0.17317,     0.17417,     0.17518,     0.17618,     0.17718,     0.17818,     0.17918,     0.18018,     0.18118,     0.18218,     0.18318,     0.18418,     0.18519,     0.18619,     0.18719,     0.18819,     0.18919,     0.19019,     0.19119,\n",
       "           0.19219,     0.19319,     0.19419,      0.1952,      0.1962,      0.1972,      0.1982,      0.1992,      0.2002,      0.2012,      0.2022,      0.2032,      0.2042,     0.20521,     0.20621,     0.20721,     0.20821,     0.20921,     0.21021,     0.21121,     0.21221,     0.21321,     0.21421,     0.21522,\n",
       "           0.21622,     0.21722,     0.21822,     0.21922,     0.22022,     0.22122,     0.22222,     0.22322,     0.22422,     0.22523,     0.22623,     0.22723,     0.22823,     0.22923,     0.23023,     0.23123,     0.23223,     0.23323,     0.23423,     0.23524,     0.23624,     0.23724,     0.23824,     0.23924,\n",
       "           0.24024,     0.24124,     0.24224,     0.24324,     0.24424,     0.24525,     0.24625,     0.24725,     0.24825,     0.24925,     0.25025,     0.25125,     0.25225,     0.25325,     0.25425,     0.25526,     0.25626,     0.25726,     0.25826,     0.25926,     0.26026,     0.26126,     0.26226,     0.26326,\n",
       "           0.26426,     0.26527,     0.26627,     0.26727,     0.26827,     0.26927,     0.27027,     0.27127,     0.27227,     0.27327,     0.27427,     0.27528,     0.27628,     0.27728,     0.27828,     0.27928,     0.28028,     0.28128,     0.28228,     0.28328,     0.28428,     0.28529,     0.28629,     0.28729,\n",
       "           0.28829,     0.28929,     0.29029,     0.29129,     0.29229,     0.29329,     0.29429,      0.2953,      0.2963,      0.2973,      0.2983,      0.2993,      0.3003,      0.3013,      0.3023,      0.3033,      0.3043,     0.30531,     0.30631,     0.30731,     0.30831,     0.30931,     0.31031,     0.31131,\n",
       "           0.31231,     0.31331,     0.31431,     0.31532,     0.31632,     0.31732,     0.31832,     0.31932,     0.32032,     0.32132,     0.32232,     0.32332,     0.32432,     0.32533,     0.32633,     0.32733,     0.32833,     0.32933,     0.33033,     0.33133,     0.33233,     0.33333,     0.33433,     0.33534,\n",
       "           0.33634,     0.33734,     0.33834,     0.33934,     0.34034,     0.34134,     0.34234,     0.34334,     0.34434,     0.34535,     0.34635,     0.34735,     0.34835,     0.34935,     0.35035,     0.35135,     0.35235,     0.35335,     0.35435,     0.35536,     0.35636,     0.35736,     0.35836,     0.35936,\n",
       "           0.36036,     0.36136,     0.36236,     0.36336,     0.36436,     0.36537,     0.36637,     0.36737,     0.36837,     0.36937,     0.37037,     0.37137,     0.37237,     0.37337,     0.37437,     0.37538,     0.37638,     0.37738,     0.37838,     0.37938,     0.38038,     0.38138,     0.38238,     0.38338,\n",
       "           0.38438,     0.38539,     0.38639,     0.38739,     0.38839,     0.38939,     0.39039,     0.39139,     0.39239,     0.39339,     0.39439,      0.3954,      0.3964,      0.3974,      0.3984,      0.3994,      0.4004,      0.4014,      0.4024,      0.4034,      0.4044,     0.40541,     0.40641,     0.40741,\n",
       "           0.40841,     0.40941,     0.41041,     0.41141,     0.41241,     0.41341,     0.41441,     0.41542,     0.41642,     0.41742,     0.41842,     0.41942,     0.42042,     0.42142,     0.42242,     0.42342,     0.42442,     0.42543,     0.42643,     0.42743,     0.42843,     0.42943,     0.43043,     0.43143,\n",
       "           0.43243,     0.43343,     0.43443,     0.43544,     0.43644,     0.43744,     0.43844,     0.43944,     0.44044,     0.44144,     0.44244,     0.44344,     0.44444,     0.44545,     0.44645,     0.44745,     0.44845,     0.44945,     0.45045,     0.45145,     0.45245,     0.45345,     0.45445,     0.45546,\n",
       "           0.45646,     0.45746,     0.45846,     0.45946,     0.46046,     0.46146,     0.46246,     0.46346,     0.46446,     0.46547,     0.46647,     0.46747,     0.46847,     0.46947,     0.47047,     0.47147,     0.47247,     0.47347,     0.47447,     0.47548,     0.47648,     0.47748,     0.47848,     0.47948,\n",
       "           0.48048,     0.48148,     0.48248,     0.48348,     0.48448,     0.48549,     0.48649,     0.48749,     0.48849,     0.48949,     0.49049,     0.49149,     0.49249,     0.49349,     0.49449,      0.4955,      0.4965,      0.4975,      0.4985,      0.4995,      0.5005,      0.5015,      0.5025,      0.5035,\n",
       "            0.5045,     0.50551,     0.50651,     0.50751,     0.50851,     0.50951,     0.51051,     0.51151,     0.51251,     0.51351,     0.51451,     0.51552,     0.51652,     0.51752,     0.51852,     0.51952,     0.52052,     0.52152,     0.52252,     0.52352,     0.52452,     0.52553,     0.52653,     0.52753,\n",
       "           0.52853,     0.52953,     0.53053,     0.53153,     0.53253,     0.53353,     0.53453,     0.53554,     0.53654,     0.53754,     0.53854,     0.53954,     0.54054,     0.54154,     0.54254,     0.54354,     0.54454,     0.54555,     0.54655,     0.54755,     0.54855,     0.54955,     0.55055,     0.55155,\n",
       "           0.55255,     0.55355,     0.55455,     0.55556,     0.55656,     0.55756,     0.55856,     0.55956,     0.56056,     0.56156,     0.56256,     0.56356,     0.56456,     0.56557,     0.56657,     0.56757,     0.56857,     0.56957,     0.57057,     0.57157,     0.57257,     0.57357,     0.57457,     0.57558,\n",
       "           0.57658,     0.57758,     0.57858,     0.57958,     0.58058,     0.58158,     0.58258,     0.58358,     0.58458,     0.58559,     0.58659,     0.58759,     0.58859,     0.58959,     0.59059,     0.59159,     0.59259,     0.59359,     0.59459,      0.5956,      0.5966,      0.5976,      0.5986,      0.5996,\n",
       "            0.6006,      0.6016,      0.6026,      0.6036,      0.6046,     0.60561,     0.60661,     0.60761,     0.60861,     0.60961,     0.61061,     0.61161,     0.61261,     0.61361,     0.61461,     0.61562,     0.61662,     0.61762,     0.61862,     0.61962,     0.62062,     0.62162,     0.62262,     0.62362,\n",
       "           0.62462,     0.62563,     0.62663,     0.62763,     0.62863,     0.62963,     0.63063,     0.63163,     0.63263,     0.63363,     0.63463,     0.63564,     0.63664,     0.63764,     0.63864,     0.63964,     0.64064,     0.64164,     0.64264,     0.64364,     0.64464,     0.64565,     0.64665,     0.64765,\n",
       "           0.64865,     0.64965,     0.65065,     0.65165,     0.65265,     0.65365,     0.65465,     0.65566,     0.65666,     0.65766,     0.65866,     0.65966,     0.66066,     0.66166,     0.66266,     0.66366,     0.66466,     0.66567,     0.66667,     0.66767,     0.66867,     0.66967,     0.67067,     0.67167,\n",
       "           0.67267,     0.67367,     0.67467,     0.67568,     0.67668,     0.67768,     0.67868,     0.67968,     0.68068,     0.68168,     0.68268,     0.68368,     0.68468,     0.68569,     0.68669,     0.68769,     0.68869,     0.68969,     0.69069,     0.69169,     0.69269,     0.69369,     0.69469,      0.6957,\n",
       "            0.6967,      0.6977,      0.6987,      0.6997,      0.7007,      0.7017,      0.7027,      0.7037,      0.7047,     0.70571,     0.70671,     0.70771,     0.70871,     0.70971,     0.71071,     0.71171,     0.71271,     0.71371,     0.71471,     0.71572,     0.71672,     0.71772,     0.71872,     0.71972,\n",
       "           0.72072,     0.72172,     0.72272,     0.72372,     0.72472,     0.72573,     0.72673,     0.72773,     0.72873,     0.72973,     0.73073,     0.73173,     0.73273,     0.73373,     0.73473,     0.73574,     0.73674,     0.73774,     0.73874,     0.73974,     0.74074,     0.74174,     0.74274,     0.74374,\n",
       "           0.74474,     0.74575,     0.74675,     0.74775,     0.74875,     0.74975,     0.75075,     0.75175,     0.75275,     0.75375,     0.75475,     0.75576,     0.75676,     0.75776,     0.75876,     0.75976,     0.76076,     0.76176,     0.76276,     0.76376,     0.76476,     0.76577,     0.76677,     0.76777,\n",
       "           0.76877,     0.76977,     0.77077,     0.77177,     0.77277,     0.77377,     0.77477,     0.77578,     0.77678,     0.77778,     0.77878,     0.77978,     0.78078,     0.78178,     0.78278,     0.78378,     0.78478,     0.78579,     0.78679,     0.78779,     0.78879,     0.78979,     0.79079,     0.79179,\n",
       "           0.79279,     0.79379,     0.79479,      0.7958,      0.7968,      0.7978,      0.7988,      0.7998,      0.8008,      0.8018,      0.8028,      0.8038,      0.8048,     0.80581,     0.80681,     0.80781,     0.80881,     0.80981,     0.81081,     0.81181,     0.81281,     0.81381,     0.81481,     0.81582,\n",
       "           0.81682,     0.81782,     0.81882,     0.81982,     0.82082,     0.82182,     0.82282,     0.82382,     0.82482,     0.82583,     0.82683,     0.82783,     0.82883,     0.82983,     0.83083,     0.83183,     0.83283,     0.83383,     0.83483,     0.83584,     0.83684,     0.83784,     0.83884,     0.83984,\n",
       "           0.84084,     0.84184,     0.84284,     0.84384,     0.84484,     0.84585,     0.84685,     0.84785,     0.84885,     0.84985,     0.85085,     0.85185,     0.85285,     0.85385,     0.85485,     0.85586,     0.85686,     0.85786,     0.85886,     0.85986,     0.86086,     0.86186,     0.86286,     0.86386,\n",
       "           0.86486,     0.86587,     0.86687,     0.86787,     0.86887,     0.86987,     0.87087,     0.87187,     0.87287,     0.87387,     0.87487,     0.87588,     0.87688,     0.87788,     0.87888,     0.87988,     0.88088,     0.88188,     0.88288,     0.88388,     0.88488,     0.88589,     0.88689,     0.88789,\n",
       "           0.88889,     0.88989,     0.89089,     0.89189,     0.89289,     0.89389,     0.89489,      0.8959,      0.8969,      0.8979,      0.8989,      0.8999,      0.9009,      0.9019,      0.9029,      0.9039,      0.9049,     0.90591,     0.90691,     0.90791,     0.90891,     0.90991,     0.91091,     0.91191,\n",
       "           0.91291,     0.91391,     0.91491,     0.91592,     0.91692,     0.91792,     0.91892,     0.91992,     0.92092,     0.92192,     0.92292,     0.92392,     0.92492,     0.92593,     0.92693,     0.92793,     0.92893,     0.92993,     0.93093,     0.93193,     0.93293,     0.93393,     0.93493,     0.93594,\n",
       "           0.93694,     0.93794,     0.93894,     0.93994,     0.94094,     0.94194,     0.94294,     0.94394,     0.94494,     0.94595,     0.94695,     0.94795,     0.94895,     0.94995,     0.95095,     0.95195,     0.95295,     0.95395,     0.95495,     0.95596,     0.95696,     0.95796,     0.95896,     0.95996,\n",
       "           0.96096,     0.96196,     0.96296,     0.96396,     0.96496,     0.96597,     0.96697,     0.96797,     0.96897,     0.96997,     0.97097,     0.97197,     0.97297,     0.97397,     0.97497,     0.97598,     0.97698,     0.97798,     0.97898,     0.97998,     0.98098,     0.98198,     0.98298,     0.98398,\n",
       "           0.98498,     0.98599,     0.98699,     0.98799,     0.98899,     0.98999,     0.99099,     0.99199,     0.99299,     0.99399,     0.99499,       0.996,       0.997,       0.998,       0.999,           1]), array([[          1,           1,           1,           1,           1,           1,           1,           1,           1,           1,           1,           1,           1,           1,           1,           1,           1,           1,           1,           1,           1,           1,           1,\n",
       "                  1,           1,           1,           1,           1,           1,           1,           1,           1,           1,           1,           1,           1,           1,           1,           1,           1,           1,           1,           1,           1,           1,           1,\n",
       "                  1,           1,           1,           1,           1,           1,           1,           1,           1,           1,           1,           1,           1,           1,           1,           1,           1,           1,           1,           1,           1,           1,           1,\n",
       "                  1,           1,           1,           1,           1,           1,           1,           1,           1,           1,           1,           1,           1,           1,           1,           1,           1,           1,           1,           1,           1,           1,           1,\n",
       "                  1,           1,           1,           1,           1,           1,           1,           1,           1,           1,           1,           1,           1,           1,           1,           1,           1,           1,           1,           1,           1,           1,           1,\n",
       "                  1,           1,           1,           1,           1,           1,           1,           1,           1,           1,           1,           1,           1,           1,           1,           1,           1,           1,           1,           1,           1,           1,           1,\n",
       "                  1,           1,           1,           1,           1,           1,           1,           1,           1,           1,           1,           1,           1,           1,           1,           1,           1,           1,           1,           1,           1,           1,           1,\n",
       "                  1,           1,           1,           1,           1,           1,           1,           1,           1,           1,           1,           1,           1,           1,           1,           1,           1,           1,           1,           1,           1,           1,           1,\n",
       "                  1,           1,           1,           1,           1,           1,           1,           1,           1,           1,           1,           1,     0.91667,     0.91667,     0.91667,     0.91667,     0.91667,     0.91667,     0.91667,     0.91667,     0.91667,     0.91667,     0.91667,\n",
       "            0.91667,     0.91667,     0.91667,     0.91667,     0.91667,     0.91667,     0.91667,     0.91667,     0.91667,     0.91667,     0.91667,     0.91667,     0.91667,     0.91667,     0.91667,     0.91667,     0.91667,     0.91667,     0.91667,     0.91667,     0.91667,     0.91667,     0.91667,\n",
       "            0.91667,     0.91667,     0.91667,     0.91667,     0.91667,     0.91667,     0.91667,     0.91667,     0.91667,     0.85714,     0.85714,     0.85714,     0.85714,     0.85714,     0.85714,     0.85714,     0.85714,     0.85714,     0.85714,     0.85714,     0.85714,     0.85714,     0.85714,\n",
       "            0.85714,     0.85714,     0.85714,     0.85714,     0.85714,     0.85714,     0.85714,     0.85714,     0.68421,     0.68421,     0.68421,     0.68421,     0.68421,     0.68421,     0.68421,     0.68421,     0.68421,     0.68421,     0.68421,     0.68421,     0.68421,     0.68421,     0.68421,\n",
       "            0.68421,     0.68421,     0.68421,     0.68421,     0.68421,     0.68421,     0.68421,     0.18919,     0.18919,     0.18919,     0.18919,     0.18919,     0.18919,     0.18919,     0.18919,     0.18919,     0.18919,     0.18919,     0.18919,     0.18919,     0.18919,     0.18919,     0.18919,\n",
       "            0.18919,     0.18919,     0.18919,     0.18919,     0.18919,     0.18919,     0.16129,     0.16129,     0.16129,     0.16129,     0.16129,     0.16129,     0.16129,     0.16129,     0.16129,     0.16129,     0.16129,     0.16129,     0.16129,     0.16129,     0.16129,     0.16129,     0.16129,\n",
       "            0.16129,     0.16129,     0.16129,     0.16129,     0.13675,     0.13675,     0.13675,     0.13675,     0.13675,     0.13675,     0.13675,     0.13675,     0.13675,     0.13675,     0.13675,     0.13675,     0.13675,     0.13675,     0.13675,     0.13675,     0.13675,     0.13675,     0.13675,\n",
       "            0.13675,     0.13675,     0.13675,       0.136,       0.136,       0.136,       0.136,       0.136,       0.136,       0.136,       0.136,       0.136,       0.136,       0.136,       0.136,       0.136,       0.136,       0.136,       0.136,       0.136,       0.136,       0.136,       0.136,\n",
       "              0.136,       0.136,    0.093264,    0.093264,    0.093264,    0.093264,    0.093264,    0.093264,    0.093264,    0.093264,    0.093264,    0.093264,    0.093264,    0.093264,    0.093264,    0.093264,    0.093264,    0.093264,    0.093264,    0.093264,    0.093264,    0.093264,    0.093264,\n",
       "           0.092683,    0.092683,    0.092683,    0.092683,    0.092683,    0.092683,    0.092683,    0.092683,    0.092683,    0.092683,    0.092683,    0.092683,    0.092683,    0.092683,    0.092683,    0.092683,    0.092683,    0.092683,    0.092683,    0.092683,    0.092683,    0.092683,    0.061728,\n",
       "           0.061728,    0.061728,    0.061728,    0.061728,    0.061728,    0.061728,    0.061728,    0.061728,    0.061728,    0.061728,    0.061728,    0.061728,    0.061728,    0.061728,    0.061728,    0.061728,    0.061728,    0.061728,    0.061728,    0.061728,    0.061728,    0.061584,    0.061584,\n",
       "           0.061584,    0.061584,    0.061584,    0.061584,    0.061584,    0.061584,    0.061584,    0.061584,    0.061584,    0.061584,    0.061584,    0.061584,    0.061584,    0.061584,    0.061584,    0.061584,    0.061584,    0.061584,    0.061584,    0.061584,     0.05914,     0.05914,     0.05914,\n",
       "            0.05914,     0.05914,     0.05914,     0.05914,     0.05914,     0.05914,     0.05914,     0.05914,     0.05914,     0.05914,     0.05914,     0.05914,     0.05914,     0.05914,     0.05914,     0.05914,     0.05914,     0.05914,     0.02829,     0.02829,     0.02829,     0.02829,     0.02829,\n",
       "            0.02829,     0.02829,     0.02829,     0.02829,     0.02829,     0.02829,     0.02829,     0.02829,     0.02829,     0.02829,     0.02829,     0.02829,     0.02829,     0.02829,     0.02829,     0.02829,     0.02829,    0.021918,    0.021918,    0.021918,    0.021918,    0.021918,    0.021918,\n",
       "           0.021918,    0.021918,    0.021918,    0.021918,    0.021918,    0.021918,    0.021918,    0.021918,    0.021918,    0.021918,    0.021918,    0.021918,    0.021918,    0.021918,    0.021918,    0.021918,    0.019011,    0.019011,    0.019011,    0.019011,    0.019011,    0.019011,    0.019011,\n",
       "           0.019011,    0.019011,    0.019011,    0.019011,    0.019011,    0.019011,    0.019011,    0.019011,    0.019011,    0.019011,    0.019011,    0.019011,    0.019011,    0.019011,    0.010784,     0.01076,    0.010736,    0.010713,    0.010689,    0.010665,    0.010642,    0.010618,    0.010594,\n",
       "           0.010571,    0.010547,    0.010523,      0.0105,    0.010476,    0.010453,    0.010429,    0.010405,    0.010382,    0.010358,    0.010334,    0.010311,    0.010287,    0.010263,     0.01024,    0.010216,    0.010192,    0.010169,    0.010145,    0.010121,    0.010098,    0.010074,    0.010051,\n",
       "           0.010027,    0.010003,   0.0099796,   0.0099559,   0.0099323,   0.0099086,    0.009885,   0.0098613,   0.0098377,    0.009814,   0.0097904,   0.0097667,   0.0097431,   0.0097194,   0.0096958,   0.0096721,   0.0096485,   0.0096249,   0.0096012,   0.0095776,   0.0095539,   0.0095303,   0.0095066,\n",
       "           0.009483,   0.0094593,   0.0094357,    0.009412,   0.0093884,   0.0093647,   0.0093411,   0.0093174,   0.0092938,   0.0092701,   0.0092465,   0.0092228,   0.0091992,   0.0091755,   0.0091519,   0.0091282,   0.0091046,   0.0090809,   0.0090573,   0.0090336,     0.00901,   0.0089863,   0.0089627,\n",
       "          0.0089391,   0.0089154,   0.0088918,   0.0088681,   0.0088445,   0.0088208,   0.0087972,   0.0087735,   0.0087499,   0.0087262,   0.0087026,   0.0086789,   0.0086553,   0.0086316,    0.008608,   0.0085843,   0.0085607,    0.008537,   0.0085134,   0.0084897,   0.0084661,   0.0084424,   0.0084188,\n",
       "          0.0083951,   0.0083715,   0.0083478,   0.0083242,   0.0083005,   0.0082769,   0.0082533,   0.0082296,    0.008206,   0.0081823,   0.0081587,    0.008135,   0.0081114,   0.0080877,   0.0080641,   0.0080404,   0.0080168,   0.0079931,   0.0079695,   0.0079458,   0.0079222,   0.0078985,   0.0078749,\n",
       "          0.0078512,   0.0078276,   0.0078039,   0.0077803,   0.0077566,    0.007733,   0.0077093,   0.0076857,    0.007662,   0.0076384,   0.0076147,   0.0075911,   0.0075675,   0.0075438,   0.0075202,   0.0074965,   0.0074729,   0.0074492,   0.0074256,   0.0074019,   0.0073783,   0.0073546,    0.007331,\n",
       "          0.0073073,   0.0072837,     0.00726,   0.0072364,   0.0072127,   0.0071891,   0.0071654,   0.0071418,   0.0071181,   0.0070945,   0.0070708,   0.0070472,   0.0070235,   0.0069999,   0.0069762,   0.0069526,   0.0069289,   0.0069053,   0.0068817,    0.006858,   0.0068344,   0.0068107,   0.0067871,\n",
       "          0.0067634,   0.0067398,   0.0067161,   0.0066925,   0.0066688,   0.0066452,   0.0066215,   0.0065979,   0.0065742,   0.0065506,   0.0065269,   0.0065033,   0.0064796,    0.006456,   0.0064323,   0.0064087,    0.006385,   0.0063614,   0.0063377,   0.0063141,   0.0062904,   0.0062668,   0.0062431,\n",
       "          0.0062195,   0.0061959,   0.0061722,   0.0061486,   0.0061249,   0.0061013,   0.0060776,    0.006054,   0.0060303,   0.0060067,    0.005983,   0.0059594,   0.0059357,   0.0059121,   0.0058884,   0.0058648,   0.0058411,   0.0058175,   0.0057938,   0.0057702,   0.0057465,   0.0057229,   0.0056992,\n",
       "          0.0056756,   0.0056519,   0.0056283,   0.0056046,    0.005581,   0.0055573,   0.0055337,   0.0055101,   0.0054864,   0.0054628,   0.0054391,   0.0054155,   0.0053918,   0.0053682,   0.0053445,   0.0053209,   0.0052972,   0.0052736,   0.0052499,   0.0052263,   0.0052026,    0.005179,   0.0051553,\n",
       "          0.0051317,    0.005108,   0.0050844,   0.0050607,   0.0050371,   0.0050134,   0.0049898,   0.0049661,   0.0049425,   0.0049188,   0.0048952,   0.0048715,   0.0048479,   0.0048242,   0.0048006,    0.004777,   0.0047533,   0.0047297,    0.004706,   0.0046824,   0.0046587,   0.0046351,   0.0046114,\n",
       "          0.0045878,   0.0045641,   0.0045405,   0.0045168,   0.0044932,   0.0044695,   0.0044459,   0.0044222,   0.0043986,   0.0043749,   0.0043513,   0.0043276,    0.004304,   0.0042803,   0.0042567,    0.004233,   0.0042094,   0.0041857,   0.0041621,   0.0041384,   0.0041148,   0.0040912,   0.0040675,\n",
       "          0.0040439,   0.0040202,   0.0039966,   0.0039729,   0.0039493,   0.0039256,    0.003902,   0.0038783,   0.0038547,    0.003831,   0.0038074,   0.0037837,   0.0037601,   0.0037364,   0.0037128,   0.0036891,   0.0036655,   0.0036418,   0.0036182,   0.0035945,   0.0035709,   0.0035472,   0.0035236,\n",
       "          0.0034999,   0.0034763,   0.0034526,    0.003429,   0.0034054,   0.0033817,   0.0033581,   0.0033344,   0.0033108,   0.0032871,   0.0032635,   0.0032398,   0.0032162,   0.0031925,   0.0031689,   0.0031452,   0.0031216,   0.0030979,   0.0030743,   0.0030506,    0.003027,   0.0030033,   0.0029797,\n",
       "           0.002956,   0.0029324,   0.0029087,   0.0028851,   0.0028614,   0.0028378,   0.0028141,   0.0027905,   0.0027668,   0.0027432,   0.0027196,   0.0026959,   0.0026723,   0.0026486,    0.002625,   0.0026013,   0.0025777,    0.002554,   0.0025304,   0.0025067,   0.0024831,   0.0024594,   0.0024358,\n",
       "          0.0024121,   0.0023885,   0.0023648,   0.0023412,   0.0023175,   0.0022939,   0.0022702,   0.0022466,   0.0022229,   0.0021993,   0.0021756,    0.002152,   0.0021283,   0.0021047,    0.002081,   0.0020574,   0.0020338,   0.0020101,   0.0019865,   0.0019628,   0.0019392,   0.0019155,   0.0018919,\n",
       "          0.0018682,   0.0018446,   0.0018209,   0.0017973,   0.0017736,     0.00175,   0.0017263,   0.0017027,    0.001679,   0.0016554,   0.0016317,   0.0016081,   0.0015844,   0.0015608,   0.0015371,   0.0015135,   0.0014898,   0.0014662,   0.0014425,   0.0014189,   0.0013952,   0.0013716,    0.001348,\n",
       "          0.0013243,   0.0013007,    0.001277,   0.0012534,   0.0012297,   0.0012061,   0.0011824,   0.0011588,   0.0011351,   0.0011115,   0.0010878,   0.0010642,   0.0010405,   0.0010169,  0.00099323,  0.00096958,  0.00094593,  0.00092228,  0.00089863,  0.00087499,  0.00085134,  0.00082769,  0.00080404,\n",
       "         0.00078039,  0.00075675,   0.0007331,  0.00070945,   0.0006858,  0.00066215,   0.0006385,  0.00061486,  0.00059121,  0.00056756,  0.00054391,  0.00052026,  0.00049661,  0.00047297,  0.00044932,  0.00042567,  0.00040202,  0.00037837,  0.00035472,  0.00033108,  0.00030743,  0.00028378,  0.00026013,\n",
       "         0.00023648,  0.00021283,  0.00018919,  0.00016554,  0.00014189,  0.00011824,  9.4593e-05,  7.0945e-05,  4.7297e-05,  2.3648e-05,           0]]), 'Recall', 'Precision'], [array([          0,    0.001001,    0.002002,    0.003003,    0.004004,    0.005005,    0.006006,    0.007007,    0.008008,    0.009009,     0.01001,    0.011011,    0.012012,    0.013013,    0.014014,    0.015015,    0.016016,    0.017017,    0.018018,    0.019019,     0.02002,    0.021021,    0.022022,    0.023023,\n",
       "          0.024024,    0.025025,    0.026026,    0.027027,    0.028028,    0.029029,     0.03003,    0.031031,    0.032032,    0.033033,    0.034034,    0.035035,    0.036036,    0.037037,    0.038038,    0.039039,     0.04004,    0.041041,    0.042042,    0.043043,    0.044044,    0.045045,    0.046046,    0.047047,\n",
       "          0.048048,    0.049049,     0.05005,    0.051051,    0.052052,    0.053053,    0.054054,    0.055055,    0.056056,    0.057057,    0.058058,    0.059059,     0.06006,    0.061061,    0.062062,    0.063063,    0.064064,    0.065065,    0.066066,    0.067067,    0.068068,    0.069069,     0.07007,    0.071071,\n",
       "          0.072072,    0.073073,    0.074074,    0.075075,    0.076076,    0.077077,    0.078078,    0.079079,     0.08008,    0.081081,    0.082082,    0.083083,    0.084084,    0.085085,    0.086086,    0.087087,    0.088088,    0.089089,     0.09009,    0.091091,    0.092092,    0.093093,    0.094094,    0.095095,\n",
       "          0.096096,    0.097097,    0.098098,    0.099099,      0.1001,      0.1011,      0.1021,      0.1031,      0.1041,     0.10511,     0.10611,     0.10711,     0.10811,     0.10911,     0.11011,     0.11111,     0.11211,     0.11311,     0.11411,     0.11512,     0.11612,     0.11712,     0.11812,     0.11912,\n",
       "           0.12012,     0.12112,     0.12212,     0.12312,     0.12412,     0.12513,     0.12613,     0.12713,     0.12813,     0.12913,     0.13013,     0.13113,     0.13213,     0.13313,     0.13413,     0.13514,     0.13614,     0.13714,     0.13814,     0.13914,     0.14014,     0.14114,     0.14214,     0.14314,\n",
       "           0.14414,     0.14515,     0.14615,     0.14715,     0.14815,     0.14915,     0.15015,     0.15115,     0.15215,     0.15315,     0.15415,     0.15516,     0.15616,     0.15716,     0.15816,     0.15916,     0.16016,     0.16116,     0.16216,     0.16316,     0.16416,     0.16517,     0.16617,     0.16717,\n",
       "           0.16817,     0.16917,     0.17017,     0.17117,     0.17217,     0.17317,     0.17417,     0.17518,     0.17618,     0.17718,     0.17818,     0.17918,     0.18018,     0.18118,     0.18218,     0.18318,     0.18418,     0.18519,     0.18619,     0.18719,     0.18819,     0.18919,     0.19019,     0.19119,\n",
       "           0.19219,     0.19319,     0.19419,      0.1952,      0.1962,      0.1972,      0.1982,      0.1992,      0.2002,      0.2012,      0.2022,      0.2032,      0.2042,     0.20521,     0.20621,     0.20721,     0.20821,     0.20921,     0.21021,     0.21121,     0.21221,     0.21321,     0.21421,     0.21522,\n",
       "           0.21622,     0.21722,     0.21822,     0.21922,     0.22022,     0.22122,     0.22222,     0.22322,     0.22422,     0.22523,     0.22623,     0.22723,     0.22823,     0.22923,     0.23023,     0.23123,     0.23223,     0.23323,     0.23423,     0.23524,     0.23624,     0.23724,     0.23824,     0.23924,\n",
       "           0.24024,     0.24124,     0.24224,     0.24324,     0.24424,     0.24525,     0.24625,     0.24725,     0.24825,     0.24925,     0.25025,     0.25125,     0.25225,     0.25325,     0.25425,     0.25526,     0.25626,     0.25726,     0.25826,     0.25926,     0.26026,     0.26126,     0.26226,     0.26326,\n",
       "           0.26426,     0.26527,     0.26627,     0.26727,     0.26827,     0.26927,     0.27027,     0.27127,     0.27227,     0.27327,     0.27427,     0.27528,     0.27628,     0.27728,     0.27828,     0.27928,     0.28028,     0.28128,     0.28228,     0.28328,     0.28428,     0.28529,     0.28629,     0.28729,\n",
       "           0.28829,     0.28929,     0.29029,     0.29129,     0.29229,     0.29329,     0.29429,      0.2953,      0.2963,      0.2973,      0.2983,      0.2993,      0.3003,      0.3013,      0.3023,      0.3033,      0.3043,     0.30531,     0.30631,     0.30731,     0.30831,     0.30931,     0.31031,     0.31131,\n",
       "           0.31231,     0.31331,     0.31431,     0.31532,     0.31632,     0.31732,     0.31832,     0.31932,     0.32032,     0.32132,     0.32232,     0.32332,     0.32432,     0.32533,     0.32633,     0.32733,     0.32833,     0.32933,     0.33033,     0.33133,     0.33233,     0.33333,     0.33433,     0.33534,\n",
       "           0.33634,     0.33734,     0.33834,     0.33934,     0.34034,     0.34134,     0.34234,     0.34334,     0.34434,     0.34535,     0.34635,     0.34735,     0.34835,     0.34935,     0.35035,     0.35135,     0.35235,     0.35335,     0.35435,     0.35536,     0.35636,     0.35736,     0.35836,     0.35936,\n",
       "           0.36036,     0.36136,     0.36236,     0.36336,     0.36436,     0.36537,     0.36637,     0.36737,     0.36837,     0.36937,     0.37037,     0.37137,     0.37237,     0.37337,     0.37437,     0.37538,     0.37638,     0.37738,     0.37838,     0.37938,     0.38038,     0.38138,     0.38238,     0.38338,\n",
       "           0.38438,     0.38539,     0.38639,     0.38739,     0.38839,     0.38939,     0.39039,     0.39139,     0.39239,     0.39339,     0.39439,      0.3954,      0.3964,      0.3974,      0.3984,      0.3994,      0.4004,      0.4014,      0.4024,      0.4034,      0.4044,     0.40541,     0.40641,     0.40741,\n",
       "           0.40841,     0.40941,     0.41041,     0.41141,     0.41241,     0.41341,     0.41441,     0.41542,     0.41642,     0.41742,     0.41842,     0.41942,     0.42042,     0.42142,     0.42242,     0.42342,     0.42442,     0.42543,     0.42643,     0.42743,     0.42843,     0.42943,     0.43043,     0.43143,\n",
       "           0.43243,     0.43343,     0.43443,     0.43544,     0.43644,     0.43744,     0.43844,     0.43944,     0.44044,     0.44144,     0.44244,     0.44344,     0.44444,     0.44545,     0.44645,     0.44745,     0.44845,     0.44945,     0.45045,     0.45145,     0.45245,     0.45345,     0.45445,     0.45546,\n",
       "           0.45646,     0.45746,     0.45846,     0.45946,     0.46046,     0.46146,     0.46246,     0.46346,     0.46446,     0.46547,     0.46647,     0.46747,     0.46847,     0.46947,     0.47047,     0.47147,     0.47247,     0.47347,     0.47447,     0.47548,     0.47648,     0.47748,     0.47848,     0.47948,\n",
       "           0.48048,     0.48148,     0.48248,     0.48348,     0.48448,     0.48549,     0.48649,     0.48749,     0.48849,     0.48949,     0.49049,     0.49149,     0.49249,     0.49349,     0.49449,      0.4955,      0.4965,      0.4975,      0.4985,      0.4995,      0.5005,      0.5015,      0.5025,      0.5035,\n",
       "            0.5045,     0.50551,     0.50651,     0.50751,     0.50851,     0.50951,     0.51051,     0.51151,     0.51251,     0.51351,     0.51451,     0.51552,     0.51652,     0.51752,     0.51852,     0.51952,     0.52052,     0.52152,     0.52252,     0.52352,     0.52452,     0.52553,     0.52653,     0.52753,\n",
       "           0.52853,     0.52953,     0.53053,     0.53153,     0.53253,     0.53353,     0.53453,     0.53554,     0.53654,     0.53754,     0.53854,     0.53954,     0.54054,     0.54154,     0.54254,     0.54354,     0.54454,     0.54555,     0.54655,     0.54755,     0.54855,     0.54955,     0.55055,     0.55155,\n",
       "           0.55255,     0.55355,     0.55455,     0.55556,     0.55656,     0.55756,     0.55856,     0.55956,     0.56056,     0.56156,     0.56256,     0.56356,     0.56456,     0.56557,     0.56657,     0.56757,     0.56857,     0.56957,     0.57057,     0.57157,     0.57257,     0.57357,     0.57457,     0.57558,\n",
       "           0.57658,     0.57758,     0.57858,     0.57958,     0.58058,     0.58158,     0.58258,     0.58358,     0.58458,     0.58559,     0.58659,     0.58759,     0.58859,     0.58959,     0.59059,     0.59159,     0.59259,     0.59359,     0.59459,      0.5956,      0.5966,      0.5976,      0.5986,      0.5996,\n",
       "            0.6006,      0.6016,      0.6026,      0.6036,      0.6046,     0.60561,     0.60661,     0.60761,     0.60861,     0.60961,     0.61061,     0.61161,     0.61261,     0.61361,     0.61461,     0.61562,     0.61662,     0.61762,     0.61862,     0.61962,     0.62062,     0.62162,     0.62262,     0.62362,\n",
       "           0.62462,     0.62563,     0.62663,     0.62763,     0.62863,     0.62963,     0.63063,     0.63163,     0.63263,     0.63363,     0.63463,     0.63564,     0.63664,     0.63764,     0.63864,     0.63964,     0.64064,     0.64164,     0.64264,     0.64364,     0.64464,     0.64565,     0.64665,     0.64765,\n",
       "           0.64865,     0.64965,     0.65065,     0.65165,     0.65265,     0.65365,     0.65465,     0.65566,     0.65666,     0.65766,     0.65866,     0.65966,     0.66066,     0.66166,     0.66266,     0.66366,     0.66466,     0.66567,     0.66667,     0.66767,     0.66867,     0.66967,     0.67067,     0.67167,\n",
       "           0.67267,     0.67367,     0.67467,     0.67568,     0.67668,     0.67768,     0.67868,     0.67968,     0.68068,     0.68168,     0.68268,     0.68368,     0.68468,     0.68569,     0.68669,     0.68769,     0.68869,     0.68969,     0.69069,     0.69169,     0.69269,     0.69369,     0.69469,      0.6957,\n",
       "            0.6967,      0.6977,      0.6987,      0.6997,      0.7007,      0.7017,      0.7027,      0.7037,      0.7047,     0.70571,     0.70671,     0.70771,     0.70871,     0.70971,     0.71071,     0.71171,     0.71271,     0.71371,     0.71471,     0.71572,     0.71672,     0.71772,     0.71872,     0.71972,\n",
       "           0.72072,     0.72172,     0.72272,     0.72372,     0.72472,     0.72573,     0.72673,     0.72773,     0.72873,     0.72973,     0.73073,     0.73173,     0.73273,     0.73373,     0.73473,     0.73574,     0.73674,     0.73774,     0.73874,     0.73974,     0.74074,     0.74174,     0.74274,     0.74374,\n",
       "           0.74474,     0.74575,     0.74675,     0.74775,     0.74875,     0.74975,     0.75075,     0.75175,     0.75275,     0.75375,     0.75475,     0.75576,     0.75676,     0.75776,     0.75876,     0.75976,     0.76076,     0.76176,     0.76276,     0.76376,     0.76476,     0.76577,     0.76677,     0.76777,\n",
       "           0.76877,     0.76977,     0.77077,     0.77177,     0.77277,     0.77377,     0.77477,     0.77578,     0.77678,     0.77778,     0.77878,     0.77978,     0.78078,     0.78178,     0.78278,     0.78378,     0.78478,     0.78579,     0.78679,     0.78779,     0.78879,     0.78979,     0.79079,     0.79179,\n",
       "           0.79279,     0.79379,     0.79479,      0.7958,      0.7968,      0.7978,      0.7988,      0.7998,      0.8008,      0.8018,      0.8028,      0.8038,      0.8048,     0.80581,     0.80681,     0.80781,     0.80881,     0.80981,     0.81081,     0.81181,     0.81281,     0.81381,     0.81481,     0.81582,\n",
       "           0.81682,     0.81782,     0.81882,     0.81982,     0.82082,     0.82182,     0.82282,     0.82382,     0.82482,     0.82583,     0.82683,     0.82783,     0.82883,     0.82983,     0.83083,     0.83183,     0.83283,     0.83383,     0.83483,     0.83584,     0.83684,     0.83784,     0.83884,     0.83984,\n",
       "           0.84084,     0.84184,     0.84284,     0.84384,     0.84484,     0.84585,     0.84685,     0.84785,     0.84885,     0.84985,     0.85085,     0.85185,     0.85285,     0.85385,     0.85485,     0.85586,     0.85686,     0.85786,     0.85886,     0.85986,     0.86086,     0.86186,     0.86286,     0.86386,\n",
       "           0.86486,     0.86587,     0.86687,     0.86787,     0.86887,     0.86987,     0.87087,     0.87187,     0.87287,     0.87387,     0.87487,     0.87588,     0.87688,     0.87788,     0.87888,     0.87988,     0.88088,     0.88188,     0.88288,     0.88388,     0.88488,     0.88589,     0.88689,     0.88789,\n",
       "           0.88889,     0.88989,     0.89089,     0.89189,     0.89289,     0.89389,     0.89489,      0.8959,      0.8969,      0.8979,      0.8989,      0.8999,      0.9009,      0.9019,      0.9029,      0.9039,      0.9049,     0.90591,     0.90691,     0.90791,     0.90891,     0.90991,     0.91091,     0.91191,\n",
       "           0.91291,     0.91391,     0.91491,     0.91592,     0.91692,     0.91792,     0.91892,     0.91992,     0.92092,     0.92192,     0.92292,     0.92392,     0.92492,     0.92593,     0.92693,     0.92793,     0.92893,     0.92993,     0.93093,     0.93193,     0.93293,     0.93393,     0.93493,     0.93594,\n",
       "           0.93694,     0.93794,     0.93894,     0.93994,     0.94094,     0.94194,     0.94294,     0.94394,     0.94494,     0.94595,     0.94695,     0.94795,     0.94895,     0.94995,     0.95095,     0.95195,     0.95295,     0.95395,     0.95495,     0.95596,     0.95696,     0.95796,     0.95896,     0.95996,\n",
       "           0.96096,     0.96196,     0.96296,     0.96396,     0.96496,     0.96597,     0.96697,     0.96797,     0.96897,     0.96997,     0.97097,     0.97197,     0.97297,     0.97397,     0.97497,     0.97598,     0.97698,     0.97798,     0.97898,     0.97998,     0.98098,     0.98198,     0.98298,     0.98398,\n",
       "           0.98498,     0.98599,     0.98699,     0.98799,     0.98899,     0.98999,     0.99099,     0.99199,     0.99299,     0.99399,     0.99499,       0.996,       0.997,       0.998,       0.999,           1]), array([[   0.021151,    0.021157,    0.036612,    0.050449,    0.061056,    0.072969,     0.08449,    0.096107,      0.1043,     0.10661,     0.10438,     0.11349,     0.12166,      0.1255,     0.13313,     0.13945,     0.14724,     0.14595,      0.1496,     0.14754,     0.15201,     0.15916,     0.16255,\n",
       "            0.16946,      0.1764,     0.18045,     0.18647,     0.19532,     0.19737,      0.1903,     0.19246,     0.19129,     0.19728,     0.20149,     0.20321,      0.2076,     0.21331,     0.20302,     0.20463,     0.20699,     0.21166,     0.21374,     0.21641,     0.21799,     0.21928,     0.22008,\n",
       "            0.22288,     0.22591,     0.22651,     0.22711,     0.22781,     0.22932,     0.23052,     0.23216,     0.22093,     0.22338,     0.22661,     0.22788,     0.23268,     0.23406,     0.23725,     0.23842,     0.24085,     0.24162,      0.2424,     0.24331,     0.24465,     0.24774,     0.24858,\n",
       "            0.24941,     0.25148,     0.25675,     0.26051,     0.26153,     0.26255,     0.26612,     0.26752,     0.26936,     0.27677,     0.27838,     0.28173,     0.28728,     0.28902,     0.29001,     0.29099,     0.29197,     0.29669,     0.29835,     0.30352,     0.30527,     0.30755,     0.31021,\n",
       "            0.31321,     0.31493,     0.31661,     0.31908,     0.32206,     0.32509,     0.32568,     0.32627,     0.32685,     0.32744,     0.32802,     0.32859,      0.3292,     0.33013,     0.33106,     0.33197,     0.33288,      0.3338,     0.33473,     0.33565,     0.33656,     0.33746,     0.33953,\n",
       "            0.34189,      0.3478,     0.34915,     0.35048,      0.3523,     0.35507,     0.35648,     0.35701,     0.35754,     0.35807,     0.35859,     0.35911,     0.35962,     0.36014,     0.36065,     0.36115,     0.36158,     0.36201,     0.36244,     0.36287,     0.36329,     0.36371,     0.36414,\n",
       "            0.36455,     0.36497,     0.36539,      0.3658,     0.36623,     0.36697,     0.36771,     0.36845,     0.36918,     0.36991,     0.37063,     0.37134,     0.37274,     0.37422,     0.37568,     0.37693,     0.37748,     0.37803,     0.37857,     0.37912,     0.37966,     0.38019,     0.38073,\n",
       "            0.38126,     0.38179,     0.38231,     0.38967,     0.39314,     0.39513,     0.39667,     0.39818,     0.39966,     0.39948,      0.3988,     0.39811,     0.39743,     0.39675,     0.39607,     0.39539,     0.39471,     0.39402,     0.39334,     0.39266,     0.39197,     0.39129,      0.3906,\n",
       "            0.38992,     0.38923,     0.38855,     0.38786,     0.38718,     0.38649,      0.3858,     0.38512,     0.38443,     0.38374,     0.38305,     0.38236,     0.38167,     0.38098,     0.38029,      0.3796,     0.37891,     0.37822,     0.37753,     0.37684,     0.37615,     0.37546,     0.37524,\n",
       "            0.37595,     0.37665,     0.37734,     0.37803,     0.37871,     0.37938,     0.38004,      0.3807,     0.38344,     0.38711,      0.3873,     0.38749,     0.38768,     0.38787,     0.38806,     0.38825,     0.38844,     0.38863,     0.38881,       0.389,     0.38919,     0.38937,     0.38956,\n",
       "            0.38974,     0.38993,     0.39011,      0.3903,     0.39048,     0.39066,     0.39084,     0.39103,     0.39121,     0.39139,     0.39157,     0.39175,     0.39193,      0.3921,     0.39228,     0.39246,     0.39264,     0.39281,     0.39299,     0.39316,     0.39334,     0.39352,     0.39369,\n",
       "            0.39387,     0.39405,     0.39422,      0.3944,     0.39457,     0.39475,     0.39492,      0.3951,     0.39527,     0.39544,     0.39561,     0.39579,     0.39596,     0.39613,      0.3963,     0.39647,     0.39664,     0.39681,     0.39698,     0.39714,     0.39731,     0.39748,     0.39765,\n",
       "            0.39781,     0.39798,     0.39814,     0.39831,     0.39847,     0.39864,      0.3988,     0.39896,     0.39913,     0.39929,     0.39945,     0.39961,     0.39977,     0.39993,     0.37303,     0.37382,     0.37474,     0.37565,     0.37654,     0.37741,     0.37827,     0.37912,     0.37751,\n",
       "            0.37518,     0.37284,     0.37049,     0.36814,     0.36579,     0.36342,     0.36105,     0.35868,      0.3563,     0.35391,     0.35152,     0.34978,     0.34828,     0.34678,     0.34527,     0.34377,     0.34226,     0.34074,     0.33923,     0.33771,     0.33619,     0.33467,     0.33315,\n",
       "            0.33162,     0.33009,     0.32856,     0.32703,     0.32549,     0.32395,     0.32241,      0.3215,     0.32168,     0.32187,     0.32205,     0.32223,     0.32241,     0.32259,     0.32277,     0.32295,     0.32313,      0.3233,     0.32348,     0.32365,     0.32383,       0.324,     0.32417,\n",
       "            0.32434,     0.32451,     0.32468,     0.32485,     0.32502,     0.32519,     0.32535,     0.32552,     0.32568,     0.32585,     0.32601,     0.32617,     0.32633,     0.32649,     0.32665,     0.32681,     0.32697,     0.32713,     0.32597,     0.30535,     0.29291,     0.28691,     0.28087,\n",
       "            0.27478,     0.26866,     0.26385,     0.26275,     0.26164,     0.26053,     0.25942,     0.25831,      0.2572,     0.25609,     0.25497,     0.25385,     0.25274,     0.25162,      0.2505,     0.24937,     0.24825,     0.24712,       0.246,     0.24487,     0.24374,     0.24261,     0.24147,\n",
       "            0.24034,      0.2392,     0.23807,     0.23693,     0.23579,     0.23465,      0.2335,     0.23236,     0.23121,     0.22868,     0.22526,     0.22182,     0.21837,     0.21491,     0.21144,     0.20795,     0.20444,     0.20093,      0.1974,     0.19186,     0.18509,     0.17827,      0.1714,\n",
       "            0.16448,     0.15989,     0.15957,     0.15925,     0.15893,     0.15861,      0.1583,     0.15798,     0.15766,     0.15734,     0.15702,      0.1567,     0.15638,     0.15607,     0.15575,     0.15543,     0.15511,     0.15479,     0.15447,     0.15415,     0.15383,     0.15351,     0.15319,\n",
       "            0.15287,     0.15255,     0.15223,     0.15191,     0.15159,     0.15127,     0.15094,     0.15062,      0.1503,     0.14998,     0.14966,     0.14934,     0.14902,      0.1487,     0.14837,     0.14805,     0.14773,     0.14741,     0.14709,     0.14676,     0.14644,     0.14612,      0.1458,\n",
       "            0.14547,     0.14515,     0.14483,      0.1445,     0.14418,     0.14386,     0.14353,     0.14321,     0.14289,     0.14256,     0.14224,     0.14192,     0.14159,     0.14127,     0.14094,     0.14062,     0.14029,     0.13997,     0.13964,     0.13932,     0.13899,     0.13867,     0.13834,\n",
       "            0.13802,     0.13769,     0.13737,     0.13704,     0.13672,     0.13639,     0.13606,     0.13574,     0.13541,     0.13509,     0.13476,     0.13443,     0.13411,     0.13378,     0.13345,     0.13313,      0.1328,     0.13247,     0.13214,     0.13182,     0.13149,     0.13116,     0.13083,\n",
       "             0.1305,     0.13018,     0.12985,     0.12952,     0.12919,     0.12886,     0.12853,     0.12821,     0.12788,     0.12755,     0.12722,     0.12689,     0.12656,     0.12623,      0.1259,     0.12557,     0.12524,     0.12491,     0.12458,     0.12425,     0.12392,     0.12359,     0.12326,\n",
       "            0.12293,      0.1226,     0.12028,     0.11632,     0.11234,     0.10834,     0.10433,      0.1003,    0.096251,    0.092185,    0.088102,    0.084002,    0.082809,    0.082181,    0.081554,    0.080926,    0.080298,    0.079669,     0.07904,     0.07841,     0.07778,     0.07715,    0.076519,\n",
       "           0.075888,    0.075256,    0.074624,    0.073992,    0.073359,    0.072726,    0.072092,    0.071458,    0.070824,    0.070189,    0.069553,    0.068917,    0.068281,    0.067645,    0.067008,     0.06637,    0.065732,    0.065094,    0.064455,    0.063816,    0.063177,    0.062537,    0.061896,\n",
       "           0.061255,    0.060614,    0.059972,     0.05933,    0.058688,    0.058045,    0.057401,    0.056758,    0.056113,    0.055469,    0.054824,    0.054178,    0.053532,    0.052886,    0.052239,    0.051592,    0.050944,    0.050296,    0.049647,    0.048998,    0.048349,    0.047699,    0.047049,\n",
       "           0.046398,    0.045747,    0.045096,    0.044444,    0.043791,    0.043138,           0,           0,           0,           0,           0,           0,           0,           0,           0,           0,           0,           0,           0,           0,           0,           0,           0,\n",
       "                  0,           0,           0,           0,           0,           0,           0,           0,           0,           0,           0,           0,           0,           0,           0,           0,           0,           0,           0,           0,           0,           0,           0,\n",
       "                  0,           0,           0,           0,           0,           0,           0,           0,           0,           0,           0,           0,           0,           0,           0,           0,           0,           0,           0,           0,           0,           0,           0,\n",
       "                  0,           0,           0,           0,           0,           0,           0,           0,           0,           0,           0,           0,           0,           0,           0,           0,           0,           0,           0,           0,           0,           0,           0,\n",
       "                  0,           0,           0,           0,           0,           0,           0,           0,           0,           0,           0,           0,           0,           0,           0,           0,           0,           0,           0,           0,           0,           0,           0,\n",
       "                  0,           0,           0,           0,           0,           0,           0,           0,           0,           0,           0,           0,           0,           0,           0,           0,           0,           0,           0,           0,           0,           0,           0,\n",
       "                  0,           0,           0,           0,           0,           0,           0,           0,           0,           0,           0,           0,           0,           0,           0,           0,           0,           0,           0,           0,           0,           0,           0,\n",
       "                  0,           0,           0,           0,           0,           0,           0,           0,           0,           0,           0,           0,           0,           0,           0,           0,           0,           0,           0,           0,           0,           0,           0,\n",
       "                  0,           0,           0,           0,           0,           0,           0,           0,           0,           0,           0,           0,           0,           0,           0,           0,           0,           0,           0,           0,           0,           0,           0,\n",
       "                  0,           0,           0,           0,           0,           0,           0,           0,           0,           0,           0,           0,           0,           0,           0,           0,           0,           0,           0,           0,           0,           0,           0,\n",
       "                  0,           0,           0,           0,           0,           0,           0,           0,           0,           0,           0,           0,           0,           0,           0,           0,           0,           0,           0,           0,           0,           0,           0,\n",
       "                  0,           0,           0,           0,           0,           0,           0,           0,           0,           0,           0,           0,           0,           0,           0,           0,           0,           0,           0,           0,           0,           0,           0,\n",
       "                  0,           0,           0,           0,           0,           0,           0,           0,           0,           0,           0,           0,           0,           0,           0,           0,           0,           0,           0,           0,           0,           0,           0,\n",
       "                  0,           0,           0,           0,           0,           0,           0,           0,           0,           0,           0,           0,           0,           0,           0,           0,           0,           0,           0,           0,           0,           0,           0,\n",
       "                  0,           0,           0,           0,           0,           0,           0,           0,           0,           0,           0,           0,           0,           0,           0,           0,           0,           0,           0,           0,           0,           0,           0,\n",
       "                  0,           0,           0,           0,           0,           0,           0,           0,           0,           0,           0,           0,           0,           0,           0,           0,           0,           0,           0,           0,           0,           0,           0,\n",
       "                  0,           0,           0,           0,           0,           0,           0,           0,           0,           0,           0,           0,           0,           0,           0,           0,           0,           0,           0,           0,           0,           0,           0,\n",
       "                  0,           0,           0,           0,           0,           0,           0,           0,           0,           0,           0]]), 'Confidence', 'F1'], [array([          0,    0.001001,    0.002002,    0.003003,    0.004004,    0.005005,    0.006006,    0.007007,    0.008008,    0.009009,     0.01001,    0.011011,    0.012012,    0.013013,    0.014014,    0.015015,    0.016016,    0.017017,    0.018018,    0.019019,     0.02002,    0.021021,    0.022022,    0.023023,\n",
       "          0.024024,    0.025025,    0.026026,    0.027027,    0.028028,    0.029029,     0.03003,    0.031031,    0.032032,    0.033033,    0.034034,    0.035035,    0.036036,    0.037037,    0.038038,    0.039039,     0.04004,    0.041041,    0.042042,    0.043043,    0.044044,    0.045045,    0.046046,    0.047047,\n",
       "          0.048048,    0.049049,     0.05005,    0.051051,    0.052052,    0.053053,    0.054054,    0.055055,    0.056056,    0.057057,    0.058058,    0.059059,     0.06006,    0.061061,    0.062062,    0.063063,    0.064064,    0.065065,    0.066066,    0.067067,    0.068068,    0.069069,     0.07007,    0.071071,\n",
       "          0.072072,    0.073073,    0.074074,    0.075075,    0.076076,    0.077077,    0.078078,    0.079079,     0.08008,    0.081081,    0.082082,    0.083083,    0.084084,    0.085085,    0.086086,    0.087087,    0.088088,    0.089089,     0.09009,    0.091091,    0.092092,    0.093093,    0.094094,    0.095095,\n",
       "          0.096096,    0.097097,    0.098098,    0.099099,      0.1001,      0.1011,      0.1021,      0.1031,      0.1041,     0.10511,     0.10611,     0.10711,     0.10811,     0.10911,     0.11011,     0.11111,     0.11211,     0.11311,     0.11411,     0.11512,     0.11612,     0.11712,     0.11812,     0.11912,\n",
       "           0.12012,     0.12112,     0.12212,     0.12312,     0.12412,     0.12513,     0.12613,     0.12713,     0.12813,     0.12913,     0.13013,     0.13113,     0.13213,     0.13313,     0.13413,     0.13514,     0.13614,     0.13714,     0.13814,     0.13914,     0.14014,     0.14114,     0.14214,     0.14314,\n",
       "           0.14414,     0.14515,     0.14615,     0.14715,     0.14815,     0.14915,     0.15015,     0.15115,     0.15215,     0.15315,     0.15415,     0.15516,     0.15616,     0.15716,     0.15816,     0.15916,     0.16016,     0.16116,     0.16216,     0.16316,     0.16416,     0.16517,     0.16617,     0.16717,\n",
       "           0.16817,     0.16917,     0.17017,     0.17117,     0.17217,     0.17317,     0.17417,     0.17518,     0.17618,     0.17718,     0.17818,     0.17918,     0.18018,     0.18118,     0.18218,     0.18318,     0.18418,     0.18519,     0.18619,     0.18719,     0.18819,     0.18919,     0.19019,     0.19119,\n",
       "           0.19219,     0.19319,     0.19419,      0.1952,      0.1962,      0.1972,      0.1982,      0.1992,      0.2002,      0.2012,      0.2022,      0.2032,      0.2042,     0.20521,     0.20621,     0.20721,     0.20821,     0.20921,     0.21021,     0.21121,     0.21221,     0.21321,     0.21421,     0.21522,\n",
       "           0.21622,     0.21722,     0.21822,     0.21922,     0.22022,     0.22122,     0.22222,     0.22322,     0.22422,     0.22523,     0.22623,     0.22723,     0.22823,     0.22923,     0.23023,     0.23123,     0.23223,     0.23323,     0.23423,     0.23524,     0.23624,     0.23724,     0.23824,     0.23924,\n",
       "           0.24024,     0.24124,     0.24224,     0.24324,     0.24424,     0.24525,     0.24625,     0.24725,     0.24825,     0.24925,     0.25025,     0.25125,     0.25225,     0.25325,     0.25425,     0.25526,     0.25626,     0.25726,     0.25826,     0.25926,     0.26026,     0.26126,     0.26226,     0.26326,\n",
       "           0.26426,     0.26527,     0.26627,     0.26727,     0.26827,     0.26927,     0.27027,     0.27127,     0.27227,     0.27327,     0.27427,     0.27528,     0.27628,     0.27728,     0.27828,     0.27928,     0.28028,     0.28128,     0.28228,     0.28328,     0.28428,     0.28529,     0.28629,     0.28729,\n",
       "           0.28829,     0.28929,     0.29029,     0.29129,     0.29229,     0.29329,     0.29429,      0.2953,      0.2963,      0.2973,      0.2983,      0.2993,      0.3003,      0.3013,      0.3023,      0.3033,      0.3043,     0.30531,     0.30631,     0.30731,     0.30831,     0.30931,     0.31031,     0.31131,\n",
       "           0.31231,     0.31331,     0.31431,     0.31532,     0.31632,     0.31732,     0.31832,     0.31932,     0.32032,     0.32132,     0.32232,     0.32332,     0.32432,     0.32533,     0.32633,     0.32733,     0.32833,     0.32933,     0.33033,     0.33133,     0.33233,     0.33333,     0.33433,     0.33534,\n",
       "           0.33634,     0.33734,     0.33834,     0.33934,     0.34034,     0.34134,     0.34234,     0.34334,     0.34434,     0.34535,     0.34635,     0.34735,     0.34835,     0.34935,     0.35035,     0.35135,     0.35235,     0.35335,     0.35435,     0.35536,     0.35636,     0.35736,     0.35836,     0.35936,\n",
       "           0.36036,     0.36136,     0.36236,     0.36336,     0.36436,     0.36537,     0.36637,     0.36737,     0.36837,     0.36937,     0.37037,     0.37137,     0.37237,     0.37337,     0.37437,     0.37538,     0.37638,     0.37738,     0.37838,     0.37938,     0.38038,     0.38138,     0.38238,     0.38338,\n",
       "           0.38438,     0.38539,     0.38639,     0.38739,     0.38839,     0.38939,     0.39039,     0.39139,     0.39239,     0.39339,     0.39439,      0.3954,      0.3964,      0.3974,      0.3984,      0.3994,      0.4004,      0.4014,      0.4024,      0.4034,      0.4044,     0.40541,     0.40641,     0.40741,\n",
       "           0.40841,     0.40941,     0.41041,     0.41141,     0.41241,     0.41341,     0.41441,     0.41542,     0.41642,     0.41742,     0.41842,     0.41942,     0.42042,     0.42142,     0.42242,     0.42342,     0.42442,     0.42543,     0.42643,     0.42743,     0.42843,     0.42943,     0.43043,     0.43143,\n",
       "           0.43243,     0.43343,     0.43443,     0.43544,     0.43644,     0.43744,     0.43844,     0.43944,     0.44044,     0.44144,     0.44244,     0.44344,     0.44444,     0.44545,     0.44645,     0.44745,     0.44845,     0.44945,     0.45045,     0.45145,     0.45245,     0.45345,     0.45445,     0.45546,\n",
       "           0.45646,     0.45746,     0.45846,     0.45946,     0.46046,     0.46146,     0.46246,     0.46346,     0.46446,     0.46547,     0.46647,     0.46747,     0.46847,     0.46947,     0.47047,     0.47147,     0.47247,     0.47347,     0.47447,     0.47548,     0.47648,     0.47748,     0.47848,     0.47948,\n",
       "           0.48048,     0.48148,     0.48248,     0.48348,     0.48448,     0.48549,     0.48649,     0.48749,     0.48849,     0.48949,     0.49049,     0.49149,     0.49249,     0.49349,     0.49449,      0.4955,      0.4965,      0.4975,      0.4985,      0.4995,      0.5005,      0.5015,      0.5025,      0.5035,\n",
       "            0.5045,     0.50551,     0.50651,     0.50751,     0.50851,     0.50951,     0.51051,     0.51151,     0.51251,     0.51351,     0.51451,     0.51552,     0.51652,     0.51752,     0.51852,     0.51952,     0.52052,     0.52152,     0.52252,     0.52352,     0.52452,     0.52553,     0.52653,     0.52753,\n",
       "           0.52853,     0.52953,     0.53053,     0.53153,     0.53253,     0.53353,     0.53453,     0.53554,     0.53654,     0.53754,     0.53854,     0.53954,     0.54054,     0.54154,     0.54254,     0.54354,     0.54454,     0.54555,     0.54655,     0.54755,     0.54855,     0.54955,     0.55055,     0.55155,\n",
       "           0.55255,     0.55355,     0.55455,     0.55556,     0.55656,     0.55756,     0.55856,     0.55956,     0.56056,     0.56156,     0.56256,     0.56356,     0.56456,     0.56557,     0.56657,     0.56757,     0.56857,     0.56957,     0.57057,     0.57157,     0.57257,     0.57357,     0.57457,     0.57558,\n",
       "           0.57658,     0.57758,     0.57858,     0.57958,     0.58058,     0.58158,     0.58258,     0.58358,     0.58458,     0.58559,     0.58659,     0.58759,     0.58859,     0.58959,     0.59059,     0.59159,     0.59259,     0.59359,     0.59459,      0.5956,      0.5966,      0.5976,      0.5986,      0.5996,\n",
       "            0.6006,      0.6016,      0.6026,      0.6036,      0.6046,     0.60561,     0.60661,     0.60761,     0.60861,     0.60961,     0.61061,     0.61161,     0.61261,     0.61361,     0.61461,     0.61562,     0.61662,     0.61762,     0.61862,     0.61962,     0.62062,     0.62162,     0.62262,     0.62362,\n",
       "           0.62462,     0.62563,     0.62663,     0.62763,     0.62863,     0.62963,     0.63063,     0.63163,     0.63263,     0.63363,     0.63463,     0.63564,     0.63664,     0.63764,     0.63864,     0.63964,     0.64064,     0.64164,     0.64264,     0.64364,     0.64464,     0.64565,     0.64665,     0.64765,\n",
       "           0.64865,     0.64965,     0.65065,     0.65165,     0.65265,     0.65365,     0.65465,     0.65566,     0.65666,     0.65766,     0.65866,     0.65966,     0.66066,     0.66166,     0.66266,     0.66366,     0.66466,     0.66567,     0.66667,     0.66767,     0.66867,     0.66967,     0.67067,     0.67167,\n",
       "           0.67267,     0.67367,     0.67467,     0.67568,     0.67668,     0.67768,     0.67868,     0.67968,     0.68068,     0.68168,     0.68268,     0.68368,     0.68468,     0.68569,     0.68669,     0.68769,     0.68869,     0.68969,     0.69069,     0.69169,     0.69269,     0.69369,     0.69469,      0.6957,\n",
       "            0.6967,      0.6977,      0.6987,      0.6997,      0.7007,      0.7017,      0.7027,      0.7037,      0.7047,     0.70571,     0.70671,     0.70771,     0.70871,     0.70971,     0.71071,     0.71171,     0.71271,     0.71371,     0.71471,     0.71572,     0.71672,     0.71772,     0.71872,     0.71972,\n",
       "           0.72072,     0.72172,     0.72272,     0.72372,     0.72472,     0.72573,     0.72673,     0.72773,     0.72873,     0.72973,     0.73073,     0.73173,     0.73273,     0.73373,     0.73473,     0.73574,     0.73674,     0.73774,     0.73874,     0.73974,     0.74074,     0.74174,     0.74274,     0.74374,\n",
       "           0.74474,     0.74575,     0.74675,     0.74775,     0.74875,     0.74975,     0.75075,     0.75175,     0.75275,     0.75375,     0.75475,     0.75576,     0.75676,     0.75776,     0.75876,     0.75976,     0.76076,     0.76176,     0.76276,     0.76376,     0.76476,     0.76577,     0.76677,     0.76777,\n",
       "           0.76877,     0.76977,     0.77077,     0.77177,     0.77277,     0.77377,     0.77477,     0.77578,     0.77678,     0.77778,     0.77878,     0.77978,     0.78078,     0.78178,     0.78278,     0.78378,     0.78478,     0.78579,     0.78679,     0.78779,     0.78879,     0.78979,     0.79079,     0.79179,\n",
       "           0.79279,     0.79379,     0.79479,      0.7958,      0.7968,      0.7978,      0.7988,      0.7998,      0.8008,      0.8018,      0.8028,      0.8038,      0.8048,     0.80581,     0.80681,     0.80781,     0.80881,     0.80981,     0.81081,     0.81181,     0.81281,     0.81381,     0.81481,     0.81582,\n",
       "           0.81682,     0.81782,     0.81882,     0.81982,     0.82082,     0.82182,     0.82282,     0.82382,     0.82482,     0.82583,     0.82683,     0.82783,     0.82883,     0.82983,     0.83083,     0.83183,     0.83283,     0.83383,     0.83483,     0.83584,     0.83684,     0.83784,     0.83884,     0.83984,\n",
       "           0.84084,     0.84184,     0.84284,     0.84384,     0.84484,     0.84585,     0.84685,     0.84785,     0.84885,     0.84985,     0.85085,     0.85185,     0.85285,     0.85385,     0.85485,     0.85586,     0.85686,     0.85786,     0.85886,     0.85986,     0.86086,     0.86186,     0.86286,     0.86386,\n",
       "           0.86486,     0.86587,     0.86687,     0.86787,     0.86887,     0.86987,     0.87087,     0.87187,     0.87287,     0.87387,     0.87487,     0.87588,     0.87688,     0.87788,     0.87888,     0.87988,     0.88088,     0.88188,     0.88288,     0.88388,     0.88488,     0.88589,     0.88689,     0.88789,\n",
       "           0.88889,     0.88989,     0.89089,     0.89189,     0.89289,     0.89389,     0.89489,      0.8959,      0.8969,      0.8979,      0.8989,      0.8999,      0.9009,      0.9019,      0.9029,      0.9039,      0.9049,     0.90591,     0.90691,     0.90791,     0.90891,     0.90991,     0.91091,     0.91191,\n",
       "           0.91291,     0.91391,     0.91491,     0.91592,     0.91692,     0.91792,     0.91892,     0.91992,     0.92092,     0.92192,     0.92292,     0.92392,     0.92492,     0.92593,     0.92693,     0.92793,     0.92893,     0.92993,     0.93093,     0.93193,     0.93293,     0.93393,     0.93493,     0.93594,\n",
       "           0.93694,     0.93794,     0.93894,     0.93994,     0.94094,     0.94194,     0.94294,     0.94394,     0.94494,     0.94595,     0.94695,     0.94795,     0.94895,     0.94995,     0.95095,     0.95195,     0.95295,     0.95395,     0.95495,     0.95596,     0.95696,     0.95796,     0.95896,     0.95996,\n",
       "           0.96096,     0.96196,     0.96296,     0.96396,     0.96496,     0.96597,     0.96697,     0.96797,     0.96897,     0.96997,     0.97097,     0.97197,     0.97297,     0.97397,     0.97497,     0.97598,     0.97698,     0.97798,     0.97898,     0.97998,     0.98098,     0.98198,     0.98298,     0.98398,\n",
       "           0.98498,     0.98599,     0.98699,     0.98799,     0.98899,     0.98999,     0.99099,     0.99199,     0.99299,     0.99399,     0.99499,       0.996,       0.997,       0.998,       0.999,           1]), array([[   0.010785,    0.010789,    0.018972,    0.026565,    0.032609,    0.039497,    0.046338,    0.053421,    0.058531,    0.060352,     0.05974,    0.065782,    0.071336,    0.073993,    0.079353,    0.083882,    0.089585,    0.089705,    0.092481,    0.092167,     0.09568,     0.10142,     0.10418,\n",
       "            0.10993,     0.11585,     0.11937,     0.12469,     0.13274,     0.13504,     0.13098,     0.13303,     0.13534,     0.14142,     0.14579,     0.14759,     0.15227,     0.15849,     0.15231,     0.15413,     0.15682,     0.16225,      0.1647,      0.1679,      0.1698,     0.17138,     0.17236,\n",
       "            0.17582,     0.17962,     0.18038,     0.18114,     0.18204,     0.18397,     0.18552,     0.18765,     0.18135,     0.18467,     0.18914,      0.1909,     0.19774,     0.19974,     0.20444,     0.20619,     0.20984,     0.21102,     0.21221,      0.2136,     0.21567,     0.22054,     0.22186,\n",
       "            0.22318,     0.22652,     0.23523,     0.24162,     0.24338,     0.24514,     0.25145,     0.25396,      0.2573,     0.27117,     0.27427,     0.28087,     0.29211,     0.29572,      0.2978,     0.29989,     0.30197,     0.31226,     0.31595,     0.32777,     0.33189,     0.33733,     0.34378,\n",
       "            0.35124,      0.3556,     0.35991,     0.36637,     0.37432,      0.3826,     0.38424,     0.38588,     0.38752,     0.38917,     0.39081,     0.39245,     0.39419,     0.39687,     0.39955,     0.40223,     0.40491,     0.40764,     0.41041,     0.41319,     0.41596,     0.41874,     0.42518,\n",
       "            0.43265,     0.45208,     0.45666,     0.46125,     0.46761,      0.4775,     0.48265,     0.48459,     0.48654,     0.48849,     0.49044,     0.49239,     0.49434,     0.49629,     0.49824,     0.50016,     0.50182,     0.50348,     0.50514,      0.5068,     0.50845,     0.51011,     0.51177,\n",
       "            0.51343,     0.51509,     0.51675,      0.5184,     0.52011,     0.52314,     0.52616,     0.52919,     0.53221,     0.53524,     0.53826,     0.54129,     0.54729,     0.55371,     0.56013,     0.56574,     0.56823,     0.57073,     0.57323,     0.57572,     0.57822,     0.58072,     0.58321,\n",
       "            0.58571,     0.58821,      0.5907,     0.62734,     0.64567,     0.65654,     0.66511,     0.67368,     0.68224,     0.68384,     0.68336,     0.68288,     0.68239,     0.68191,     0.68143,     0.68095,     0.68047,     0.67999,     0.67951,     0.67902,     0.67854,     0.67806,     0.67758,\n",
       "             0.6771,     0.67662,     0.67613,     0.67565,     0.67517,     0.67469,     0.67421,     0.67373,     0.67324,     0.67276,     0.67228,      0.6718,     0.67132,     0.67084,     0.67035,     0.66987,     0.66939,     0.66891,     0.66843,     0.66795,     0.66747,     0.66698,     0.66821,\n",
       "             0.6727,      0.6772,      0.6817,      0.6862,     0.69069,     0.69519,     0.69969,     0.70419,     0.72331,     0.75007,     0.75151,     0.75295,      0.7544,     0.75584,     0.75728,     0.75873,     0.76017,     0.76162,     0.76306,      0.7645,     0.76595,     0.76739,     0.76883,\n",
       "            0.77028,     0.77172,     0.77316,     0.77461,     0.77605,      0.7775,     0.77894,     0.78038,     0.78183,     0.78327,     0.78471,     0.78616,      0.7876,     0.78904,     0.79049,     0.79193,     0.79338,     0.79482,     0.79626,     0.79771,     0.79915,      0.8006,     0.80208,\n",
       "            0.80355,     0.80502,     0.80649,     0.80797,     0.80944,     0.81091,     0.81238,     0.81385,     0.81533,      0.8168,     0.81827,     0.81974,     0.82121,     0.82269,     0.82416,     0.82563,      0.8271,     0.82858,     0.83005,     0.83152,     0.83299,     0.83446,     0.83594,\n",
       "            0.83741,     0.83888,     0.84035,     0.84182,      0.8433,     0.84477,     0.84624,     0.84771,     0.84919,     0.85066,     0.85213,      0.8536,     0.85507,     0.85655,     0.84621,     0.85588,     0.86565,     0.87541,     0.88517,     0.89493,     0.90469,     0.91445,     0.91618,\n",
       "            0.91555,     0.91492,     0.91429,     0.91366,     0.91303,      0.9124,     0.91178,     0.91115,     0.91052,     0.90989,     0.90926,     0.90875,     0.90828,     0.90781,     0.90734,     0.90687,      0.9064,     0.90593,     0.90546,     0.90499,     0.90452,     0.90405,     0.90358,\n",
       "            0.90311,     0.90265,     0.90218,     0.90171,     0.90124,     0.90077,      0.9003,     0.90106,     0.90398,     0.90689,     0.90981,     0.91272,     0.91564,     0.91855,     0.92147,     0.92438,      0.9273,     0.93022,     0.93313,     0.93605,     0.93896,     0.94188,     0.94479,\n",
       "            0.94771,     0.95062,     0.95354,     0.95645,     0.95937,     0.96229,      0.9652,     0.96812,     0.97103,     0.97395,     0.97686,     0.97978,     0.98269,     0.98561,     0.98852,     0.99144,     0.99436,     0.99727,           1,           1,           1,           1,           1,\n",
       "                  1,           1,           1,           1,           1,           1,           1,           1,           1,           1,           1,           1,           1,           1,           1,           1,           1,           1,           1,           1,           1,           1,           1,\n",
       "                  1,           1,           1,           1,           1,           1,           1,           1,           1,           1,           1,           1,           1,           1,           1,           1,           1,           1,           1,           1,           1,           1,           1,\n",
       "                  1,           1,           1,           1,           1,           1,           1,           1,           1,           1,           1,           1,           1,           1,           1,           1,           1,           1,           1,           1,           1,           1,           1,\n",
       "                  1,           1,           1,           1,           1,           1,           1,           1,           1,           1,           1,           1,           1,           1,           1,           1,           1,           1,           1,           1,           1,           1,           1,\n",
       "                  1,           1,           1,           1,           1,           1,           1,           1,           1,           1,           1,           1,           1,           1,           1,           1,           1,           1,           1,           1,           1,           1,           1,\n",
       "                  1,           1,           1,           1,           1,           1,           1,           1,           1,           1,           1,           1,           1,           1,           1,           1,           1,           1,           1,           1,           1,           1,           1,\n",
       "                  1,           1,           1,           1,           1,           1,           1,           1,           1,           1,           1,           1,           1,           1,           1,           1,           1,           1,           1,           1,           1,           1,           1,\n",
       "                  1,           1,           1,           1,           1,           1,           1,           1,           1,           1,           1,           1,           1,           1,           1,           1,           1,           1,           1,           1,           1,           1,           1,\n",
       "                  1,           1,           1,           1,           1,           1,           1,           1,           1,           1,           1,           1,           1,           1,           1,           1,           1,           1,           1,           1,           1,           1,           1,\n",
       "                  1,           1,           1,           1,           1,           1,           1,           1,           1,           1,           1,           1,           1,           1,           1,           1,           1,           1,           1,           1,           1,           1,           1,\n",
       "                  1,           1,           1,           1,           1,           1,           1,           1,           1,           1,           1,           1,           1,           1,           1,           1,           1,           1,           1,           1,           1,           1,           1,\n",
       "                  1,           1,           1,           1,           1,           1,           1,           1,           1,           1,           1,           1,           1,           1,           1,           1,           1,           1,           1,           1,           1,           1,           1,\n",
       "                  1,           1,           1,           1,           1,           1,           1,           1,           1,           1,           1,           1,           1,           1,           1,           1,           1,           1,           1,           1,           1,           1,           1,\n",
       "                  1,           1,           1,           1,           1,           1,           1,           1,           1,           1,           1,           1,           1,           1,           1,           1,           1,           1,           1,           1,           1,           1,           1,\n",
       "                  1,           1,           1,           1,           1,           1,           1,           1,           1,           1,           1,           1,           1,           1,           1,           1,           1,           1,           1,           1,           1,           1,           1,\n",
       "                  1,           1,           1,           1,           1,           1,           1,           1,           1,           1,           1,           1,           1,           1,           1,           1,           1,           1,           1,           1,           1,           1,           1,\n",
       "                  1,           1,           1,           1,           1,           1,           1,           1,           1,           1,           1,           1,           1,           1,           1,           1,           1,           1,           1,           1,           1,           1,           1,\n",
       "                  1,           1,           1,           1,           1,           1,           1,           1,           1,           1,           1,           1,           1,           1,           1,           1,           1,           1,           1,           1,           1,           1,           1,\n",
       "                  1,           1,           1,           1,           1,           1,           1,           1,           1,           1,           1,           1,           1,           1,           1,           1,           1,           1,           1,           1,           1,           1,           1,\n",
       "                  1,           1,           1,           1,           1,           1,           1,           1,           1,           1,           1,           1,           1,           1,           1,           1,           1,           1,           1,           1,           1,           1,           1,\n",
       "                  1,           1,           1,           1,           1,           1,           1,           1,           1,           1,           1,           1,           1,           1,           1,           1,           1,           1,           1,           1,           1,           1,           1,\n",
       "                  1,           1,           1,           1,           1,           1,           1,           1,           1,           1,           1,           1,           1,           1,           1,           1,           1,           1,           1,           1,           1,           1,           1,\n",
       "                  1,           1,           1,           1,           1,           1,           1,           1,           1,           1,           1,           1,           1,           1,           1,           1,           1,           1,           1,           1,           1,           1,           1,\n",
       "                  1,           1,           1,           1,           1,           1,           1,           1,           1,           1,           1,           1,           1,           1,           1,           1,           1,           1,           1,           1,           1,           1,           1,\n",
       "                  1,           1,           1,           1,           1,           1,           1,           1,           1,           1,           1,           1,           1,           1,           1,           1,           1,           1,           1,           1,           1,           1,           1,\n",
       "                  1,           1,           1,           1,           1,           1,           1,           1,           1,           1,           1,           1,           1,           1,           1,           1,           1,           1,           1,           1,           1,           1,           1,\n",
       "                  1,           1,           1,           1,           1,           1,           1,           1,           1,           1,           1,           1,           1,           1,           1,           1,           1,           1,           1,           1,           1,           1,           1,\n",
       "                  1,           1,           1,           1,           1,           1,           1,           1,           1,           1,           1]]), 'Confidence', 'Precision'], [array([          0,    0.001001,    0.002002,    0.003003,    0.004004,    0.005005,    0.006006,    0.007007,    0.008008,    0.009009,     0.01001,    0.011011,    0.012012,    0.013013,    0.014014,    0.015015,    0.016016,    0.017017,    0.018018,    0.019019,     0.02002,    0.021021,    0.022022,    0.023023,\n",
       "          0.024024,    0.025025,    0.026026,    0.027027,    0.028028,    0.029029,     0.03003,    0.031031,    0.032032,    0.033033,    0.034034,    0.035035,    0.036036,    0.037037,    0.038038,    0.039039,     0.04004,    0.041041,    0.042042,    0.043043,    0.044044,    0.045045,    0.046046,    0.047047,\n",
       "          0.048048,    0.049049,     0.05005,    0.051051,    0.052052,    0.053053,    0.054054,    0.055055,    0.056056,    0.057057,    0.058058,    0.059059,     0.06006,    0.061061,    0.062062,    0.063063,    0.064064,    0.065065,    0.066066,    0.067067,    0.068068,    0.069069,     0.07007,    0.071071,\n",
       "          0.072072,    0.073073,    0.074074,    0.075075,    0.076076,    0.077077,    0.078078,    0.079079,     0.08008,    0.081081,    0.082082,    0.083083,    0.084084,    0.085085,    0.086086,    0.087087,    0.088088,    0.089089,     0.09009,    0.091091,    0.092092,    0.093093,    0.094094,    0.095095,\n",
       "          0.096096,    0.097097,    0.098098,    0.099099,      0.1001,      0.1011,      0.1021,      0.1031,      0.1041,     0.10511,     0.10611,     0.10711,     0.10811,     0.10911,     0.11011,     0.11111,     0.11211,     0.11311,     0.11411,     0.11512,     0.11612,     0.11712,     0.11812,     0.11912,\n",
       "           0.12012,     0.12112,     0.12212,     0.12312,     0.12412,     0.12513,     0.12613,     0.12713,     0.12813,     0.12913,     0.13013,     0.13113,     0.13213,     0.13313,     0.13413,     0.13514,     0.13614,     0.13714,     0.13814,     0.13914,     0.14014,     0.14114,     0.14214,     0.14314,\n",
       "           0.14414,     0.14515,     0.14615,     0.14715,     0.14815,     0.14915,     0.15015,     0.15115,     0.15215,     0.15315,     0.15415,     0.15516,     0.15616,     0.15716,     0.15816,     0.15916,     0.16016,     0.16116,     0.16216,     0.16316,     0.16416,     0.16517,     0.16617,     0.16717,\n",
       "           0.16817,     0.16917,     0.17017,     0.17117,     0.17217,     0.17317,     0.17417,     0.17518,     0.17618,     0.17718,     0.17818,     0.17918,     0.18018,     0.18118,     0.18218,     0.18318,     0.18418,     0.18519,     0.18619,     0.18719,     0.18819,     0.18919,     0.19019,     0.19119,\n",
       "           0.19219,     0.19319,     0.19419,      0.1952,      0.1962,      0.1972,      0.1982,      0.1992,      0.2002,      0.2012,      0.2022,      0.2032,      0.2042,     0.20521,     0.20621,     0.20721,     0.20821,     0.20921,     0.21021,     0.21121,     0.21221,     0.21321,     0.21421,     0.21522,\n",
       "           0.21622,     0.21722,     0.21822,     0.21922,     0.22022,     0.22122,     0.22222,     0.22322,     0.22422,     0.22523,     0.22623,     0.22723,     0.22823,     0.22923,     0.23023,     0.23123,     0.23223,     0.23323,     0.23423,     0.23524,     0.23624,     0.23724,     0.23824,     0.23924,\n",
       "           0.24024,     0.24124,     0.24224,     0.24324,     0.24424,     0.24525,     0.24625,     0.24725,     0.24825,     0.24925,     0.25025,     0.25125,     0.25225,     0.25325,     0.25425,     0.25526,     0.25626,     0.25726,     0.25826,     0.25926,     0.26026,     0.26126,     0.26226,     0.26326,\n",
       "           0.26426,     0.26527,     0.26627,     0.26727,     0.26827,     0.26927,     0.27027,     0.27127,     0.27227,     0.27327,     0.27427,     0.27528,     0.27628,     0.27728,     0.27828,     0.27928,     0.28028,     0.28128,     0.28228,     0.28328,     0.28428,     0.28529,     0.28629,     0.28729,\n",
       "           0.28829,     0.28929,     0.29029,     0.29129,     0.29229,     0.29329,     0.29429,      0.2953,      0.2963,      0.2973,      0.2983,      0.2993,      0.3003,      0.3013,      0.3023,      0.3033,      0.3043,     0.30531,     0.30631,     0.30731,     0.30831,     0.30931,     0.31031,     0.31131,\n",
       "           0.31231,     0.31331,     0.31431,     0.31532,     0.31632,     0.31732,     0.31832,     0.31932,     0.32032,     0.32132,     0.32232,     0.32332,     0.32432,     0.32533,     0.32633,     0.32733,     0.32833,     0.32933,     0.33033,     0.33133,     0.33233,     0.33333,     0.33433,     0.33534,\n",
       "           0.33634,     0.33734,     0.33834,     0.33934,     0.34034,     0.34134,     0.34234,     0.34334,     0.34434,     0.34535,     0.34635,     0.34735,     0.34835,     0.34935,     0.35035,     0.35135,     0.35235,     0.35335,     0.35435,     0.35536,     0.35636,     0.35736,     0.35836,     0.35936,\n",
       "           0.36036,     0.36136,     0.36236,     0.36336,     0.36436,     0.36537,     0.36637,     0.36737,     0.36837,     0.36937,     0.37037,     0.37137,     0.37237,     0.37337,     0.37437,     0.37538,     0.37638,     0.37738,     0.37838,     0.37938,     0.38038,     0.38138,     0.38238,     0.38338,\n",
       "           0.38438,     0.38539,     0.38639,     0.38739,     0.38839,     0.38939,     0.39039,     0.39139,     0.39239,     0.39339,     0.39439,      0.3954,      0.3964,      0.3974,      0.3984,      0.3994,      0.4004,      0.4014,      0.4024,      0.4034,      0.4044,     0.40541,     0.40641,     0.40741,\n",
       "           0.40841,     0.40941,     0.41041,     0.41141,     0.41241,     0.41341,     0.41441,     0.41542,     0.41642,     0.41742,     0.41842,     0.41942,     0.42042,     0.42142,     0.42242,     0.42342,     0.42442,     0.42543,     0.42643,     0.42743,     0.42843,     0.42943,     0.43043,     0.43143,\n",
       "           0.43243,     0.43343,     0.43443,     0.43544,     0.43644,     0.43744,     0.43844,     0.43944,     0.44044,     0.44144,     0.44244,     0.44344,     0.44444,     0.44545,     0.44645,     0.44745,     0.44845,     0.44945,     0.45045,     0.45145,     0.45245,     0.45345,     0.45445,     0.45546,\n",
       "           0.45646,     0.45746,     0.45846,     0.45946,     0.46046,     0.46146,     0.46246,     0.46346,     0.46446,     0.46547,     0.46647,     0.46747,     0.46847,     0.46947,     0.47047,     0.47147,     0.47247,     0.47347,     0.47447,     0.47548,     0.47648,     0.47748,     0.47848,     0.47948,\n",
       "           0.48048,     0.48148,     0.48248,     0.48348,     0.48448,     0.48549,     0.48649,     0.48749,     0.48849,     0.48949,     0.49049,     0.49149,     0.49249,     0.49349,     0.49449,      0.4955,      0.4965,      0.4975,      0.4985,      0.4995,      0.5005,      0.5015,      0.5025,      0.5035,\n",
       "            0.5045,     0.50551,     0.50651,     0.50751,     0.50851,     0.50951,     0.51051,     0.51151,     0.51251,     0.51351,     0.51451,     0.51552,     0.51652,     0.51752,     0.51852,     0.51952,     0.52052,     0.52152,     0.52252,     0.52352,     0.52452,     0.52553,     0.52653,     0.52753,\n",
       "           0.52853,     0.52953,     0.53053,     0.53153,     0.53253,     0.53353,     0.53453,     0.53554,     0.53654,     0.53754,     0.53854,     0.53954,     0.54054,     0.54154,     0.54254,     0.54354,     0.54454,     0.54555,     0.54655,     0.54755,     0.54855,     0.54955,     0.55055,     0.55155,\n",
       "           0.55255,     0.55355,     0.55455,     0.55556,     0.55656,     0.55756,     0.55856,     0.55956,     0.56056,     0.56156,     0.56256,     0.56356,     0.56456,     0.56557,     0.56657,     0.56757,     0.56857,     0.56957,     0.57057,     0.57157,     0.57257,     0.57357,     0.57457,     0.57558,\n",
       "           0.57658,     0.57758,     0.57858,     0.57958,     0.58058,     0.58158,     0.58258,     0.58358,     0.58458,     0.58559,     0.58659,     0.58759,     0.58859,     0.58959,     0.59059,     0.59159,     0.59259,     0.59359,     0.59459,      0.5956,      0.5966,      0.5976,      0.5986,      0.5996,\n",
       "            0.6006,      0.6016,      0.6026,      0.6036,      0.6046,     0.60561,     0.60661,     0.60761,     0.60861,     0.60961,     0.61061,     0.61161,     0.61261,     0.61361,     0.61461,     0.61562,     0.61662,     0.61762,     0.61862,     0.61962,     0.62062,     0.62162,     0.62262,     0.62362,\n",
       "           0.62462,     0.62563,     0.62663,     0.62763,     0.62863,     0.62963,     0.63063,     0.63163,     0.63263,     0.63363,     0.63463,     0.63564,     0.63664,     0.63764,     0.63864,     0.63964,     0.64064,     0.64164,     0.64264,     0.64364,     0.64464,     0.64565,     0.64665,     0.64765,\n",
       "           0.64865,     0.64965,     0.65065,     0.65165,     0.65265,     0.65365,     0.65465,     0.65566,     0.65666,     0.65766,     0.65866,     0.65966,     0.66066,     0.66166,     0.66266,     0.66366,     0.66466,     0.66567,     0.66667,     0.66767,     0.66867,     0.66967,     0.67067,     0.67167,\n",
       "           0.67267,     0.67367,     0.67467,     0.67568,     0.67668,     0.67768,     0.67868,     0.67968,     0.68068,     0.68168,     0.68268,     0.68368,     0.68468,     0.68569,     0.68669,     0.68769,     0.68869,     0.68969,     0.69069,     0.69169,     0.69269,     0.69369,     0.69469,      0.6957,\n",
       "            0.6967,      0.6977,      0.6987,      0.6997,      0.7007,      0.7017,      0.7027,      0.7037,      0.7047,     0.70571,     0.70671,     0.70771,     0.70871,     0.70971,     0.71071,     0.71171,     0.71271,     0.71371,     0.71471,     0.71572,     0.71672,     0.71772,     0.71872,     0.71972,\n",
       "           0.72072,     0.72172,     0.72272,     0.72372,     0.72472,     0.72573,     0.72673,     0.72773,     0.72873,     0.72973,     0.73073,     0.73173,     0.73273,     0.73373,     0.73473,     0.73574,     0.73674,     0.73774,     0.73874,     0.73974,     0.74074,     0.74174,     0.74274,     0.74374,\n",
       "           0.74474,     0.74575,     0.74675,     0.74775,     0.74875,     0.74975,     0.75075,     0.75175,     0.75275,     0.75375,     0.75475,     0.75576,     0.75676,     0.75776,     0.75876,     0.75976,     0.76076,     0.76176,     0.76276,     0.76376,     0.76476,     0.76577,     0.76677,     0.76777,\n",
       "           0.76877,     0.76977,     0.77077,     0.77177,     0.77277,     0.77377,     0.77477,     0.77578,     0.77678,     0.77778,     0.77878,     0.77978,     0.78078,     0.78178,     0.78278,     0.78378,     0.78478,     0.78579,     0.78679,     0.78779,     0.78879,     0.78979,     0.79079,     0.79179,\n",
       "           0.79279,     0.79379,     0.79479,      0.7958,      0.7968,      0.7978,      0.7988,      0.7998,      0.8008,      0.8018,      0.8028,      0.8038,      0.8048,     0.80581,     0.80681,     0.80781,     0.80881,     0.80981,     0.81081,     0.81181,     0.81281,     0.81381,     0.81481,     0.81582,\n",
       "           0.81682,     0.81782,     0.81882,     0.81982,     0.82082,     0.82182,     0.82282,     0.82382,     0.82482,     0.82583,     0.82683,     0.82783,     0.82883,     0.82983,     0.83083,     0.83183,     0.83283,     0.83383,     0.83483,     0.83584,     0.83684,     0.83784,     0.83884,     0.83984,\n",
       "           0.84084,     0.84184,     0.84284,     0.84384,     0.84484,     0.84585,     0.84685,     0.84785,     0.84885,     0.84985,     0.85085,     0.85185,     0.85285,     0.85385,     0.85485,     0.85586,     0.85686,     0.85786,     0.85886,     0.85986,     0.86086,     0.86186,     0.86286,     0.86386,\n",
       "           0.86486,     0.86587,     0.86687,     0.86787,     0.86887,     0.86987,     0.87087,     0.87187,     0.87287,     0.87387,     0.87487,     0.87588,     0.87688,     0.87788,     0.87888,     0.87988,     0.88088,     0.88188,     0.88288,     0.88388,     0.88488,     0.88589,     0.88689,     0.88789,\n",
       "           0.88889,     0.88989,     0.89089,     0.89189,     0.89289,     0.89389,     0.89489,      0.8959,      0.8969,      0.8979,      0.8989,      0.8999,      0.9009,      0.9019,      0.9029,      0.9039,      0.9049,     0.90591,     0.90691,     0.90791,     0.90891,     0.90991,     0.91091,     0.91191,\n",
       "           0.91291,     0.91391,     0.91491,     0.91592,     0.91692,     0.91792,     0.91892,     0.91992,     0.92092,     0.92192,     0.92292,     0.92392,     0.92492,     0.92593,     0.92693,     0.92793,     0.92893,     0.92993,     0.93093,     0.93193,     0.93293,     0.93393,     0.93493,     0.93594,\n",
       "           0.93694,     0.93794,     0.93894,     0.93994,     0.94094,     0.94194,     0.94294,     0.94394,     0.94494,     0.94595,     0.94695,     0.94795,     0.94895,     0.94995,     0.95095,     0.95195,     0.95295,     0.95395,     0.95495,     0.95596,     0.95696,     0.95796,     0.95896,     0.95996,\n",
       "           0.96096,     0.96196,     0.96296,     0.96396,     0.96496,     0.96597,     0.96697,     0.96797,     0.96897,     0.96997,     0.97097,     0.97197,     0.97297,     0.97397,     0.97497,     0.97598,     0.97698,     0.97798,     0.97898,     0.97998,     0.98098,     0.98198,     0.98298,     0.98398,\n",
       "           0.98498,     0.98599,     0.98699,     0.98799,     0.98899,     0.98999,     0.99099,     0.99199,     0.99299,     0.99399,     0.99499,       0.996,       0.997,       0.998,       0.999,           1]), array([[    0.54348,     0.54348,     0.52174,         0.5,     0.47826,     0.47826,     0.47826,     0.47826,     0.47826,     0.45652,     0.41304,     0.41304,     0.41304,     0.41304,     0.41304,     0.41304,     0.41304,      0.3913,      0.3913,     0.36957,     0.36957,     0.36957,     0.36957,\n",
       "            0.36957,     0.36957,     0.36957,     0.36957,     0.36957,     0.36657,     0.34783,     0.34783,     0.32609,     0.32609,     0.32609,     0.32609,     0.32609,     0.32609,     0.30435,     0.30435,     0.30435,     0.30435,     0.30435,     0.30435,     0.30435,     0.30435,     0.30435,\n",
       "            0.30435,     0.30435,     0.30435,     0.30435,     0.30435,     0.30435,     0.30435,     0.30435,     0.28261,     0.28261,     0.28261,     0.28261,     0.28261,     0.28261,     0.28261,     0.28261,     0.28261,     0.28261,     0.28261,     0.28261,     0.28261,     0.28261,     0.28261,\n",
       "            0.28261,     0.28261,     0.28261,     0.28261,     0.28261,     0.28261,     0.28261,     0.28261,     0.28261,     0.28261,     0.28261,     0.28261,     0.28261,     0.28261,     0.28261,     0.28261,     0.28261,     0.28261,     0.28261,     0.28261,     0.28261,     0.28261,     0.28261,\n",
       "            0.28261,     0.28261,     0.28261,     0.28261,     0.28261,     0.28261,     0.28261,     0.28261,     0.28261,     0.28261,     0.28261,     0.28261,     0.28261,     0.28261,     0.28261,     0.28261,     0.28261,     0.28261,     0.28261,     0.28261,     0.28261,     0.28261,     0.28261,\n",
       "            0.28261,     0.28261,     0.28261,     0.28261,     0.28261,     0.28261,     0.28261,     0.28261,     0.28261,     0.28261,     0.28261,     0.28261,     0.28261,     0.28261,     0.28261,     0.28261,     0.28261,     0.28261,     0.28261,     0.28261,     0.28261,     0.28261,     0.28261,\n",
       "            0.28261,     0.28261,     0.28261,     0.28261,     0.28261,     0.28261,     0.28261,     0.28261,     0.28261,     0.28261,     0.28261,     0.28261,     0.28261,     0.28261,     0.28261,     0.28261,     0.28261,     0.28261,     0.28261,     0.28261,     0.28261,     0.28261,     0.28261,\n",
       "            0.28261,     0.28261,     0.28261,     0.28261,     0.28261,     0.28261,     0.28261,     0.28261,     0.28261,     0.28215,     0.28155,     0.28096,     0.28036,     0.27976,     0.27917,     0.27857,     0.27797,     0.27737,     0.27678,     0.27618,     0.27558,     0.27499,     0.27439,\n",
       "            0.27379,      0.2732,      0.2726,       0.272,     0.27141,     0.27081,     0.27021,     0.26962,     0.26902,     0.26842,     0.26783,     0.26723,     0.26663,     0.26604,     0.26544,     0.26484,     0.26425,     0.26365,     0.26305,     0.26246,     0.26186,     0.26126,     0.26087,\n",
       "            0.26087,     0.26087,     0.26087,     0.26087,     0.26087,     0.26087,     0.26087,     0.26087,     0.26087,     0.26087,     0.26087,     0.26087,     0.26087,     0.26087,     0.26087,     0.26087,     0.26087,     0.26087,     0.26087,     0.26087,     0.26087,     0.26087,     0.26087,\n",
       "            0.26087,     0.26087,     0.26087,     0.26087,     0.26087,     0.26087,     0.26087,     0.26087,     0.26087,     0.26087,     0.26087,     0.26087,     0.26087,     0.26087,     0.26087,     0.26087,     0.26087,     0.26087,     0.26087,     0.26087,     0.26087,     0.26087,     0.26087,\n",
       "            0.26087,     0.26087,     0.26087,     0.26087,     0.26087,     0.26087,     0.26087,     0.26087,     0.26087,     0.26087,     0.26087,     0.26087,     0.26087,     0.26087,     0.26087,     0.26087,     0.26087,     0.26087,     0.26087,     0.26087,     0.26087,     0.26087,     0.26087,\n",
       "            0.26087,     0.26087,     0.26087,     0.26087,     0.26087,     0.26087,     0.26087,     0.26087,     0.26087,     0.26087,     0.26087,     0.26087,     0.26087,     0.26087,     0.23925,     0.23913,     0.23913,     0.23913,     0.23913,     0.23913,     0.23913,     0.23913,     0.23773,\n",
       "            0.23593,     0.23412,     0.23232,     0.23051,     0.22871,      0.2269,     0.22509,     0.22329,     0.22148,     0.21968,     0.21787,     0.21657,     0.21545,     0.21432,      0.2132,     0.21208,     0.21096,     0.20983,     0.20871,     0.20759,     0.20647,     0.20534,     0.20422,\n",
       "             0.2031,     0.20198,     0.20086,     0.19973,     0.19861,     0.19749,     0.19637,     0.19565,     0.19565,     0.19565,     0.19565,     0.19565,     0.19565,     0.19565,     0.19565,     0.19565,     0.19565,     0.19565,     0.19565,     0.19565,     0.19565,     0.19565,     0.19565,\n",
       "            0.19565,     0.19565,     0.19565,     0.19565,     0.19565,     0.19565,     0.19565,     0.19565,     0.19565,     0.19565,     0.19565,     0.19565,     0.19565,     0.19565,     0.19565,     0.19565,     0.19565,     0.19565,     0.19472,     0.18019,     0.17158,     0.16748,     0.16338,\n",
       "            0.15928,     0.15517,     0.15198,     0.15124,     0.15051,     0.14978,     0.14904,     0.14831,     0.14758,     0.14685,     0.14611,     0.14538,     0.14465,     0.14391,     0.14318,     0.14245,     0.14171,     0.14098,     0.14025,     0.13952,     0.13878,     0.13805,     0.13732,\n",
       "            0.13658,     0.13585,     0.13512,     0.13438,     0.13365,     0.13292,     0.13219,     0.13145,     0.13072,      0.1291,     0.12693,     0.12475,     0.12257,     0.12039,     0.11822,     0.11604,     0.11386,     0.11168,     0.10951,     0.10611,     0.10198,    0.097859,    0.093735,\n",
       "           0.089611,     0.08689,    0.086702,    0.086514,    0.086326,    0.086139,    0.085951,    0.085763,    0.085576,    0.085388,      0.0852,    0.085012,    0.084825,    0.084637,    0.084449,    0.084262,    0.084074,    0.083886,    0.083698,    0.083511,    0.083323,    0.083135,    0.082948,\n",
       "            0.08276,    0.082572,    0.082384,    0.082197,    0.082009,    0.081821,    0.081634,    0.081446,    0.081258,     0.08107,    0.080883,    0.080695,    0.080507,     0.08032,    0.080132,    0.079944,    0.079756,    0.079569,    0.079381,    0.079193,    0.079006,    0.078818,     0.07863,\n",
       "           0.078442,    0.078255,    0.078067,    0.077879,    0.077692,    0.077504,    0.077316,    0.077128,    0.076941,    0.076753,    0.076565,    0.076378,     0.07619,    0.076002,    0.075814,    0.075627,    0.075439,    0.075251,    0.075064,    0.074876,    0.074688,      0.0745,    0.074313,\n",
       "           0.074125,    0.073937,    0.073749,    0.073562,    0.073374,    0.073186,    0.072999,    0.072811,    0.072623,    0.072435,    0.072248,     0.07206,    0.071872,    0.071685,    0.071497,    0.071309,    0.071121,    0.070934,    0.070746,    0.070558,    0.070371,    0.070183,    0.069995,\n",
       "           0.069807,     0.06962,    0.069432,    0.069244,    0.069057,    0.068869,    0.068681,    0.068493,    0.068306,    0.068118,     0.06793,    0.067743,    0.067555,    0.067367,    0.067179,    0.066992,    0.066804,    0.066616,    0.066429,    0.066241,    0.066053,    0.065865,    0.065678,\n",
       "            0.06549,    0.065302,    0.063991,    0.061752,    0.059513,    0.057275,    0.055036,    0.052797,    0.050558,     0.04832,    0.046081,    0.043842,    0.043193,    0.042852,     0.04251,    0.042169,    0.041828,    0.041487,    0.041146,    0.040805,    0.040464,    0.040123,    0.039782,\n",
       "           0.039441,    0.039099,    0.038758,    0.038417,    0.038076,    0.037735,    0.037394,    0.037053,    0.036712,    0.036371,     0.03603,    0.035689,    0.035347,    0.035006,    0.034665,    0.034324,    0.033983,    0.033642,    0.033301,     0.03296,    0.032619,    0.032278,    0.031936,\n",
       "           0.031595,    0.031254,    0.030913,    0.030572,    0.030231,     0.02989,    0.029549,    0.029208,    0.028867,    0.028525,    0.028184,    0.027843,    0.027502,    0.027161,     0.02682,    0.026479,    0.026138,    0.025797,    0.025456,    0.025114,    0.024773,    0.024432,    0.024091,\n",
       "            0.02375,    0.023409,    0.023068,    0.022727,    0.022386,    0.022045,           0,           0,           0,           0,           0,           0,           0,           0,           0,           0,           0,           0,           0,           0,           0,           0,           0,\n",
       "                  0,           0,           0,           0,           0,           0,           0,           0,           0,           0,           0,           0,           0,           0,           0,           0,           0,           0,           0,           0,           0,           0,           0,\n",
       "                  0,           0,           0,           0,           0,           0,           0,           0,           0,           0,           0,           0,           0,           0,           0,           0,           0,           0,           0,           0,           0,           0,           0,\n",
       "                  0,           0,           0,           0,           0,           0,           0,           0,           0,           0,           0,           0,           0,           0,           0,           0,           0,           0,           0,           0,           0,           0,           0,\n",
       "                  0,           0,           0,           0,           0,           0,           0,           0,           0,           0,           0,           0,           0,           0,           0,           0,           0,           0,           0,           0,           0,           0,           0,\n",
       "                  0,           0,           0,           0,           0,           0,           0,           0,           0,           0,           0,           0,           0,           0,           0,           0,           0,           0,           0,           0,           0,           0,           0,\n",
       "                  0,           0,           0,           0,           0,           0,           0,           0,           0,           0,           0,           0,           0,           0,           0,           0,           0,           0,           0,           0,           0,           0,           0,\n",
       "                  0,           0,           0,           0,           0,           0,           0,           0,           0,           0,           0,           0,           0,           0,           0,           0,           0,           0,           0,           0,           0,           0,           0,\n",
       "                  0,           0,           0,           0,           0,           0,           0,           0,           0,           0,           0,           0,           0,           0,           0,           0,           0,           0,           0,           0,           0,           0,           0,\n",
       "                  0,           0,           0,           0,           0,           0,           0,           0,           0,           0,           0,           0,           0,           0,           0,           0,           0,           0,           0,           0,           0,           0,           0,\n",
       "                  0,           0,           0,           0,           0,           0,           0,           0,           0,           0,           0,           0,           0,           0,           0,           0,           0,           0,           0,           0,           0,           0,           0,\n",
       "                  0,           0,           0,           0,           0,           0,           0,           0,           0,           0,           0,           0,           0,           0,           0,           0,           0,           0,           0,           0,           0,           0,           0,\n",
       "                  0,           0,           0,           0,           0,           0,           0,           0,           0,           0,           0,           0,           0,           0,           0,           0,           0,           0,           0,           0,           0,           0,           0,\n",
       "                  0,           0,           0,           0,           0,           0,           0,           0,           0,           0,           0,           0,           0,           0,           0,           0,           0,           0,           0,           0,           0,           0,           0,\n",
       "                  0,           0,           0,           0,           0,           0,           0,           0,           0,           0,           0,           0,           0,           0,           0,           0,           0,           0,           0,           0,           0,           0,           0,\n",
       "                  0,           0,           0,           0,           0,           0,           0,           0,           0,           0,           0,           0,           0,           0,           0,           0,           0,           0,           0,           0,           0,           0,           0,\n",
       "                  0,           0,           0,           0,           0,           0,           0,           0,           0,           0,           0,           0,           0,           0,           0,           0,           0,           0,           0,           0,           0,           0,           0,\n",
       "                  0,           0,           0,           0,           0,           0,           0,           0,           0,           0,           0]]), 'Confidence', 'Recall']]\n",
       "fitness: 0.12896916741558656\n",
       "keys: ['metrics/precision(B)', 'metrics/recall(B)', 'metrics/mAP50(B)', 'metrics/mAP50-95(B)']\n",
       "maps: array([    0.11042])\n",
       "names: {0: 'Ball'}\n",
       "plot: True\n",
       "results_dict: {'metrics/precision(B)': 0.7832696198326076, 'metrics/recall(B)': 0.2608695652173913, 'metrics/mAP50(B)': 0.2958791348310034, 'metrics/mAP50-95(B)': 0.11042361548054025, 'fitness': 0.12896916741558656}\n",
       "save_dir: WindowsPath('runs/detect/nfl-ball-detector3')\n",
       "speed: {'preprocess': 1.702620338989418, 'inference': 57.72347796610736, 'loss': 0.0001694915057268483, 'postprocess': 0.27674237288134096}\n",
       "task: 'detect'"
      ]
     },
     "execution_count": 5,
     "metadata": {},
     "output_type": "execute_result"
    }
   ],
   "source": [
    "from ultralytics import YOLO\n",
    "import os\n",
    "\n",
    "# Use an absolute path to your data.yaml file with forward slashes\n",
    "yaml_path = \"D:/deakin/Deakin Year 3/Sem1/Group projects/Model attempt 1 - NFL/NFL-object-tracking-1/data.yaml\"\n",
    "\n",
    "# Load a pretrained YOLOv8 model configuration (you can change to yolov8s.yaml, etc. if needed)\n",
    "model = YOLO(\"yolov8n.yaml\")\n",
    "\n",
    "# Train the model\n",
    "model.train(\n",
    "    data=yaml_path,\n",
    "    epochs=50,\n",
    "    imgsz=640,\n",
    "    batch=8,\n",
    "    name=\"nfl-ball-detector\"\n",
    ")\n"
   ]
  },
  {
   "cell_type": "code",
   "execution_count": 7,
   "id": "4974d5ff-8d61-4f55-8e0d-8f0b0a8f6394",
   "metadata": {},
   "outputs": [
    {
     "name": "stdout",
     "output_type": "stream",
     "text": [
      "Ultralytics 8.3.101  Python-3.10.9 torch-2.6.0+cpu CPU (AMD Ryzen 7 5700X 8-Core Processor)\n",
      "YOLOv8n summary (fused): 72 layers, 3,005,843 parameters, 0 gradients, 8.1 GFLOPs\n"
     ]
    },
    {
     "name": "stderr",
     "output_type": "stream",
     "text": [
      "\u001b[34m\u001b[1mval: \u001b[0mScanning D:\\deakin\\Deakin Year 3\\Sem1\\Group projects\\Model attempt 1 - NFL\\NFL-object-tracking-1\\valid\\labels.cach\u001b[0m\n",
      "                 Class     Images  Instances      Box(P          R      mAP50  mAP50-95): 100%|██████████| 4/4 [00:03<0\n"
     ]
    },
    {
     "name": "stdout",
     "output_type": "stream",
     "text": [
      "                   all         59         46      0.783      0.261      0.296       0.11\n",
      "Speed: 1.3ms preprocess, 52.1ms inference, 0.0ms loss, 0.3ms postprocess per image\n",
      "Results saved to \u001b[1mruns\\detect\\val\u001b[0m\n",
      "ultralytics.utils.metrics.DetMetrics object with attributes:\n",
      "\n",
      "ap_class_index: array([0])\n",
      "box: ultralytics.utils.metrics.Metric object\n",
      "confusion_matrix: <ultralytics.utils.metrics.ConfusionMatrix object at 0x0000027D4EE30DC0>\n",
      "curves: ['Precision-Recall(B)', 'F1-Confidence(B)', 'Precision-Confidence(B)', 'Recall-Confidence(B)']\n",
      "curves_results: [[array([          0,    0.001001,    0.002002,    0.003003,    0.004004,    0.005005,    0.006006,    0.007007,    0.008008,    0.009009,     0.01001,    0.011011,    0.012012,    0.013013,    0.014014,    0.015015,    0.016016,    0.017017,    0.018018,    0.019019,     0.02002,    0.021021,    0.022022,    0.023023,\n",
      "          0.024024,    0.025025,    0.026026,    0.027027,    0.028028,    0.029029,     0.03003,    0.031031,    0.032032,    0.033033,    0.034034,    0.035035,    0.036036,    0.037037,    0.038038,    0.039039,     0.04004,    0.041041,    0.042042,    0.043043,    0.044044,    0.045045,    0.046046,    0.047047,\n",
      "          0.048048,    0.049049,     0.05005,    0.051051,    0.052052,    0.053053,    0.054054,    0.055055,    0.056056,    0.057057,    0.058058,    0.059059,     0.06006,    0.061061,    0.062062,    0.063063,    0.064064,    0.065065,    0.066066,    0.067067,    0.068068,    0.069069,     0.07007,    0.071071,\n",
      "          0.072072,    0.073073,    0.074074,    0.075075,    0.076076,    0.077077,    0.078078,    0.079079,     0.08008,    0.081081,    0.082082,    0.083083,    0.084084,    0.085085,    0.086086,    0.087087,    0.088088,    0.089089,     0.09009,    0.091091,    0.092092,    0.093093,    0.094094,    0.095095,\n",
      "          0.096096,    0.097097,    0.098098,    0.099099,      0.1001,      0.1011,      0.1021,      0.1031,      0.1041,     0.10511,     0.10611,     0.10711,     0.10811,     0.10911,     0.11011,     0.11111,     0.11211,     0.11311,     0.11411,     0.11512,     0.11612,     0.11712,     0.11812,     0.11912,\n",
      "           0.12012,     0.12112,     0.12212,     0.12312,     0.12412,     0.12513,     0.12613,     0.12713,     0.12813,     0.12913,     0.13013,     0.13113,     0.13213,     0.13313,     0.13413,     0.13514,     0.13614,     0.13714,     0.13814,     0.13914,     0.14014,     0.14114,     0.14214,     0.14314,\n",
      "           0.14414,     0.14515,     0.14615,     0.14715,     0.14815,     0.14915,     0.15015,     0.15115,     0.15215,     0.15315,     0.15415,     0.15516,     0.15616,     0.15716,     0.15816,     0.15916,     0.16016,     0.16116,     0.16216,     0.16316,     0.16416,     0.16517,     0.16617,     0.16717,\n",
      "           0.16817,     0.16917,     0.17017,     0.17117,     0.17217,     0.17317,     0.17417,     0.17518,     0.17618,     0.17718,     0.17818,     0.17918,     0.18018,     0.18118,     0.18218,     0.18318,     0.18418,     0.18519,     0.18619,     0.18719,     0.18819,     0.18919,     0.19019,     0.19119,\n",
      "           0.19219,     0.19319,     0.19419,      0.1952,      0.1962,      0.1972,      0.1982,      0.1992,      0.2002,      0.2012,      0.2022,      0.2032,      0.2042,     0.20521,     0.20621,     0.20721,     0.20821,     0.20921,     0.21021,     0.21121,     0.21221,     0.21321,     0.21421,     0.21522,\n",
      "           0.21622,     0.21722,     0.21822,     0.21922,     0.22022,     0.22122,     0.22222,     0.22322,     0.22422,     0.22523,     0.22623,     0.22723,     0.22823,     0.22923,     0.23023,     0.23123,     0.23223,     0.23323,     0.23423,     0.23524,     0.23624,     0.23724,     0.23824,     0.23924,\n",
      "           0.24024,     0.24124,     0.24224,     0.24324,     0.24424,     0.24525,     0.24625,     0.24725,     0.24825,     0.24925,     0.25025,     0.25125,     0.25225,     0.25325,     0.25425,     0.25526,     0.25626,     0.25726,     0.25826,     0.25926,     0.26026,     0.26126,     0.26226,     0.26326,\n",
      "           0.26426,     0.26527,     0.26627,     0.26727,     0.26827,     0.26927,     0.27027,     0.27127,     0.27227,     0.27327,     0.27427,     0.27528,     0.27628,     0.27728,     0.27828,     0.27928,     0.28028,     0.28128,     0.28228,     0.28328,     0.28428,     0.28529,     0.28629,     0.28729,\n",
      "           0.28829,     0.28929,     0.29029,     0.29129,     0.29229,     0.29329,     0.29429,      0.2953,      0.2963,      0.2973,      0.2983,      0.2993,      0.3003,      0.3013,      0.3023,      0.3033,      0.3043,     0.30531,     0.30631,     0.30731,     0.30831,     0.30931,     0.31031,     0.31131,\n",
      "           0.31231,     0.31331,     0.31431,     0.31532,     0.31632,     0.31732,     0.31832,     0.31932,     0.32032,     0.32132,     0.32232,     0.32332,     0.32432,     0.32533,     0.32633,     0.32733,     0.32833,     0.32933,     0.33033,     0.33133,     0.33233,     0.33333,     0.33433,     0.33534,\n",
      "           0.33634,     0.33734,     0.33834,     0.33934,     0.34034,     0.34134,     0.34234,     0.34334,     0.34434,     0.34535,     0.34635,     0.34735,     0.34835,     0.34935,     0.35035,     0.35135,     0.35235,     0.35335,     0.35435,     0.35536,     0.35636,     0.35736,     0.35836,     0.35936,\n",
      "           0.36036,     0.36136,     0.36236,     0.36336,     0.36436,     0.36537,     0.36637,     0.36737,     0.36837,     0.36937,     0.37037,     0.37137,     0.37237,     0.37337,     0.37437,     0.37538,     0.37638,     0.37738,     0.37838,     0.37938,     0.38038,     0.38138,     0.38238,     0.38338,\n",
      "           0.38438,     0.38539,     0.38639,     0.38739,     0.38839,     0.38939,     0.39039,     0.39139,     0.39239,     0.39339,     0.39439,      0.3954,      0.3964,      0.3974,      0.3984,      0.3994,      0.4004,      0.4014,      0.4024,      0.4034,      0.4044,     0.40541,     0.40641,     0.40741,\n",
      "           0.40841,     0.40941,     0.41041,     0.41141,     0.41241,     0.41341,     0.41441,     0.41542,     0.41642,     0.41742,     0.41842,     0.41942,     0.42042,     0.42142,     0.42242,     0.42342,     0.42442,     0.42543,     0.42643,     0.42743,     0.42843,     0.42943,     0.43043,     0.43143,\n",
      "           0.43243,     0.43343,     0.43443,     0.43544,     0.43644,     0.43744,     0.43844,     0.43944,     0.44044,     0.44144,     0.44244,     0.44344,     0.44444,     0.44545,     0.44645,     0.44745,     0.44845,     0.44945,     0.45045,     0.45145,     0.45245,     0.45345,     0.45445,     0.45546,\n",
      "           0.45646,     0.45746,     0.45846,     0.45946,     0.46046,     0.46146,     0.46246,     0.46346,     0.46446,     0.46547,     0.46647,     0.46747,     0.46847,     0.46947,     0.47047,     0.47147,     0.47247,     0.47347,     0.47447,     0.47548,     0.47648,     0.47748,     0.47848,     0.47948,\n",
      "           0.48048,     0.48148,     0.48248,     0.48348,     0.48448,     0.48549,     0.48649,     0.48749,     0.48849,     0.48949,     0.49049,     0.49149,     0.49249,     0.49349,     0.49449,      0.4955,      0.4965,      0.4975,      0.4985,      0.4995,      0.5005,      0.5015,      0.5025,      0.5035,\n",
      "            0.5045,     0.50551,     0.50651,     0.50751,     0.50851,     0.50951,     0.51051,     0.51151,     0.51251,     0.51351,     0.51451,     0.51552,     0.51652,     0.51752,     0.51852,     0.51952,     0.52052,     0.52152,     0.52252,     0.52352,     0.52452,     0.52553,     0.52653,     0.52753,\n",
      "           0.52853,     0.52953,     0.53053,     0.53153,     0.53253,     0.53353,     0.53453,     0.53554,     0.53654,     0.53754,     0.53854,     0.53954,     0.54054,     0.54154,     0.54254,     0.54354,     0.54454,     0.54555,     0.54655,     0.54755,     0.54855,     0.54955,     0.55055,     0.55155,\n",
      "           0.55255,     0.55355,     0.55455,     0.55556,     0.55656,     0.55756,     0.55856,     0.55956,     0.56056,     0.56156,     0.56256,     0.56356,     0.56456,     0.56557,     0.56657,     0.56757,     0.56857,     0.56957,     0.57057,     0.57157,     0.57257,     0.57357,     0.57457,     0.57558,\n",
      "           0.57658,     0.57758,     0.57858,     0.57958,     0.58058,     0.58158,     0.58258,     0.58358,     0.58458,     0.58559,     0.58659,     0.58759,     0.58859,     0.58959,     0.59059,     0.59159,     0.59259,     0.59359,     0.59459,      0.5956,      0.5966,      0.5976,      0.5986,      0.5996,\n",
      "            0.6006,      0.6016,      0.6026,      0.6036,      0.6046,     0.60561,     0.60661,     0.60761,     0.60861,     0.60961,     0.61061,     0.61161,     0.61261,     0.61361,     0.61461,     0.61562,     0.61662,     0.61762,     0.61862,     0.61962,     0.62062,     0.62162,     0.62262,     0.62362,\n",
      "           0.62462,     0.62563,     0.62663,     0.62763,     0.62863,     0.62963,     0.63063,     0.63163,     0.63263,     0.63363,     0.63463,     0.63564,     0.63664,     0.63764,     0.63864,     0.63964,     0.64064,     0.64164,     0.64264,     0.64364,     0.64464,     0.64565,     0.64665,     0.64765,\n",
      "           0.64865,     0.64965,     0.65065,     0.65165,     0.65265,     0.65365,     0.65465,     0.65566,     0.65666,     0.65766,     0.65866,     0.65966,     0.66066,     0.66166,     0.66266,     0.66366,     0.66466,     0.66567,     0.66667,     0.66767,     0.66867,     0.66967,     0.67067,     0.67167,\n",
      "           0.67267,     0.67367,     0.67467,     0.67568,     0.67668,     0.67768,     0.67868,     0.67968,     0.68068,     0.68168,     0.68268,     0.68368,     0.68468,     0.68569,     0.68669,     0.68769,     0.68869,     0.68969,     0.69069,     0.69169,     0.69269,     0.69369,     0.69469,      0.6957,\n",
      "            0.6967,      0.6977,      0.6987,      0.6997,      0.7007,      0.7017,      0.7027,      0.7037,      0.7047,     0.70571,     0.70671,     0.70771,     0.70871,     0.70971,     0.71071,     0.71171,     0.71271,     0.71371,     0.71471,     0.71572,     0.71672,     0.71772,     0.71872,     0.71972,\n",
      "           0.72072,     0.72172,     0.72272,     0.72372,     0.72472,     0.72573,     0.72673,     0.72773,     0.72873,     0.72973,     0.73073,     0.73173,     0.73273,     0.73373,     0.73473,     0.73574,     0.73674,     0.73774,     0.73874,     0.73974,     0.74074,     0.74174,     0.74274,     0.74374,\n",
      "           0.74474,     0.74575,     0.74675,     0.74775,     0.74875,     0.74975,     0.75075,     0.75175,     0.75275,     0.75375,     0.75475,     0.75576,     0.75676,     0.75776,     0.75876,     0.75976,     0.76076,     0.76176,     0.76276,     0.76376,     0.76476,     0.76577,     0.76677,     0.76777,\n",
      "           0.76877,     0.76977,     0.77077,     0.77177,     0.77277,     0.77377,     0.77477,     0.77578,     0.77678,     0.77778,     0.77878,     0.77978,     0.78078,     0.78178,     0.78278,     0.78378,     0.78478,     0.78579,     0.78679,     0.78779,     0.78879,     0.78979,     0.79079,     0.79179,\n",
      "           0.79279,     0.79379,     0.79479,      0.7958,      0.7968,      0.7978,      0.7988,      0.7998,      0.8008,      0.8018,      0.8028,      0.8038,      0.8048,     0.80581,     0.80681,     0.80781,     0.80881,     0.80981,     0.81081,     0.81181,     0.81281,     0.81381,     0.81481,     0.81582,\n",
      "           0.81682,     0.81782,     0.81882,     0.81982,     0.82082,     0.82182,     0.82282,     0.82382,     0.82482,     0.82583,     0.82683,     0.82783,     0.82883,     0.82983,     0.83083,     0.83183,     0.83283,     0.83383,     0.83483,     0.83584,     0.83684,     0.83784,     0.83884,     0.83984,\n",
      "           0.84084,     0.84184,     0.84284,     0.84384,     0.84484,     0.84585,     0.84685,     0.84785,     0.84885,     0.84985,     0.85085,     0.85185,     0.85285,     0.85385,     0.85485,     0.85586,     0.85686,     0.85786,     0.85886,     0.85986,     0.86086,     0.86186,     0.86286,     0.86386,\n",
      "           0.86486,     0.86587,     0.86687,     0.86787,     0.86887,     0.86987,     0.87087,     0.87187,     0.87287,     0.87387,     0.87487,     0.87588,     0.87688,     0.87788,     0.87888,     0.87988,     0.88088,     0.88188,     0.88288,     0.88388,     0.88488,     0.88589,     0.88689,     0.88789,\n",
      "           0.88889,     0.88989,     0.89089,     0.89189,     0.89289,     0.89389,     0.89489,      0.8959,      0.8969,      0.8979,      0.8989,      0.8999,      0.9009,      0.9019,      0.9029,      0.9039,      0.9049,     0.90591,     0.90691,     0.90791,     0.90891,     0.90991,     0.91091,     0.91191,\n",
      "           0.91291,     0.91391,     0.91491,     0.91592,     0.91692,     0.91792,     0.91892,     0.91992,     0.92092,     0.92192,     0.92292,     0.92392,     0.92492,     0.92593,     0.92693,     0.92793,     0.92893,     0.92993,     0.93093,     0.93193,     0.93293,     0.93393,     0.93493,     0.93594,\n",
      "           0.93694,     0.93794,     0.93894,     0.93994,     0.94094,     0.94194,     0.94294,     0.94394,     0.94494,     0.94595,     0.94695,     0.94795,     0.94895,     0.94995,     0.95095,     0.95195,     0.95295,     0.95395,     0.95495,     0.95596,     0.95696,     0.95796,     0.95896,     0.95996,\n",
      "           0.96096,     0.96196,     0.96296,     0.96396,     0.96496,     0.96597,     0.96697,     0.96797,     0.96897,     0.96997,     0.97097,     0.97197,     0.97297,     0.97397,     0.97497,     0.97598,     0.97698,     0.97798,     0.97898,     0.97998,     0.98098,     0.98198,     0.98298,     0.98398,\n",
      "           0.98498,     0.98599,     0.98699,     0.98799,     0.98899,     0.98999,     0.99099,     0.99199,     0.99299,     0.99399,     0.99499,       0.996,       0.997,       0.998,       0.999,           1]), array([[          1,           1,           1,           1,           1,           1,           1,           1,           1,           1,           1,           1,           1,           1,           1,           1,           1,           1,           1,           1,           1,           1,           1,\n",
      "                  1,           1,           1,           1,           1,           1,           1,           1,           1,           1,           1,           1,           1,           1,           1,           1,           1,           1,           1,           1,           1,           1,           1,\n",
      "                  1,           1,           1,           1,           1,           1,           1,           1,           1,           1,           1,           1,           1,           1,           1,           1,           1,           1,           1,           1,           1,           1,           1,\n",
      "                  1,           1,           1,           1,           1,           1,           1,           1,           1,           1,           1,           1,           1,           1,           1,           1,           1,           1,           1,           1,           1,           1,           1,\n",
      "                  1,           1,           1,           1,           1,           1,           1,           1,           1,           1,           1,           1,           1,           1,           1,           1,           1,           1,           1,           1,           1,           1,           1,\n",
      "                  1,           1,           1,           1,           1,           1,           1,           1,           1,           1,           1,           1,           1,           1,           1,           1,           1,           1,           1,           1,           1,           1,           1,\n",
      "                  1,           1,           1,           1,           1,           1,           1,           1,           1,           1,           1,           1,           1,           1,           1,           1,           1,           1,           1,           1,           1,           1,           1,\n",
      "                  1,           1,           1,           1,           1,           1,           1,           1,           1,           1,           1,           1,           1,           1,           1,           1,           1,           1,           1,           1,           1,           1,           1,\n",
      "                  1,           1,           1,           1,           1,           1,           1,           1,           1,           1,           1,           1,     0.91667,     0.91667,     0.91667,     0.91667,     0.91667,     0.91667,     0.91667,     0.91667,     0.91667,     0.91667,     0.91667,\n",
      "            0.91667,     0.91667,     0.91667,     0.91667,     0.91667,     0.91667,     0.91667,     0.91667,     0.91667,     0.91667,     0.91667,     0.91667,     0.91667,     0.91667,     0.91667,     0.91667,     0.91667,     0.91667,     0.91667,     0.91667,     0.91667,     0.91667,     0.91667,\n",
      "            0.91667,     0.91667,     0.91667,     0.91667,     0.91667,     0.91667,     0.91667,     0.91667,     0.91667,     0.85714,     0.85714,     0.85714,     0.85714,     0.85714,     0.85714,     0.85714,     0.85714,     0.85714,     0.85714,     0.85714,     0.85714,     0.85714,     0.85714,\n",
      "            0.85714,     0.85714,     0.85714,     0.85714,     0.85714,     0.85714,     0.85714,     0.85714,     0.68421,     0.68421,     0.68421,     0.68421,     0.68421,     0.68421,     0.68421,     0.68421,     0.68421,     0.68421,     0.68421,     0.68421,     0.68421,     0.68421,     0.68421,\n",
      "            0.68421,     0.68421,     0.68421,     0.68421,     0.68421,     0.68421,     0.68421,     0.18919,     0.18919,     0.18919,     0.18919,     0.18919,     0.18919,     0.18919,     0.18919,     0.18919,     0.18919,     0.18919,     0.18919,     0.18919,     0.18919,     0.18919,     0.18919,\n",
      "            0.18919,     0.18919,     0.18919,     0.18919,     0.18919,     0.18919,     0.16129,     0.16129,     0.16129,     0.16129,     0.16129,     0.16129,     0.16129,     0.16129,     0.16129,     0.16129,     0.16129,     0.16129,     0.16129,     0.16129,     0.16129,     0.16129,     0.16129,\n",
      "            0.16129,     0.16129,     0.16129,     0.16129,     0.13675,     0.13675,     0.13675,     0.13675,     0.13675,     0.13675,     0.13675,     0.13675,     0.13675,     0.13675,     0.13675,     0.13675,     0.13675,     0.13675,     0.13675,     0.13675,     0.13675,     0.13675,     0.13675,\n",
      "            0.13675,     0.13675,     0.13675,       0.136,       0.136,       0.136,       0.136,       0.136,       0.136,       0.136,       0.136,       0.136,       0.136,       0.136,       0.136,       0.136,       0.136,       0.136,       0.136,       0.136,       0.136,       0.136,       0.136,\n",
      "              0.136,       0.136,    0.093264,    0.093264,    0.093264,    0.093264,    0.093264,    0.093264,    0.093264,    0.093264,    0.093264,    0.093264,    0.093264,    0.093264,    0.093264,    0.093264,    0.093264,    0.093264,    0.093264,    0.093264,    0.093264,    0.093264,    0.093264,\n",
      "           0.092683,    0.092683,    0.092683,    0.092683,    0.092683,    0.092683,    0.092683,    0.092683,    0.092683,    0.092683,    0.092683,    0.092683,    0.092683,    0.092683,    0.092683,    0.092683,    0.092683,    0.092683,    0.092683,    0.092683,    0.092683,    0.092683,    0.061728,\n",
      "           0.061728,    0.061728,    0.061728,    0.061728,    0.061728,    0.061728,    0.061728,    0.061728,    0.061728,    0.061728,    0.061728,    0.061728,    0.061728,    0.061728,    0.061728,    0.061728,    0.061728,    0.061728,    0.061728,    0.061728,    0.061728,    0.061584,    0.061584,\n",
      "           0.061584,    0.061584,    0.061584,    0.061584,    0.061584,    0.061584,    0.061584,    0.061584,    0.061584,    0.061584,    0.061584,    0.061584,    0.061584,    0.061584,    0.061584,    0.061584,    0.061584,    0.061584,    0.061584,    0.061584,     0.05914,     0.05914,     0.05914,\n",
      "            0.05914,     0.05914,     0.05914,     0.05914,     0.05914,     0.05914,     0.05914,     0.05914,     0.05914,     0.05914,     0.05914,     0.05914,     0.05914,     0.05914,     0.05914,     0.05914,     0.05914,     0.05914,     0.02829,     0.02829,     0.02829,     0.02829,     0.02829,\n",
      "            0.02829,     0.02829,     0.02829,     0.02829,     0.02829,     0.02829,     0.02829,     0.02829,     0.02829,     0.02829,     0.02829,     0.02829,     0.02829,     0.02829,     0.02829,     0.02829,     0.02829,    0.021918,    0.021918,    0.021918,    0.021918,    0.021918,    0.021918,\n",
      "           0.021918,    0.021918,    0.021918,    0.021918,    0.021918,    0.021918,    0.021918,    0.021918,    0.021918,    0.021918,    0.021918,    0.021918,    0.021918,    0.021918,    0.021918,    0.021918,    0.019011,    0.019011,    0.019011,    0.019011,    0.019011,    0.019011,    0.019011,\n",
      "           0.019011,    0.019011,    0.019011,    0.019011,    0.019011,    0.019011,    0.019011,    0.019011,    0.019011,    0.019011,    0.019011,    0.019011,    0.019011,    0.019011,    0.010784,     0.01076,    0.010736,    0.010713,    0.010689,    0.010665,    0.010642,    0.010618,    0.010594,\n",
      "           0.010571,    0.010547,    0.010523,      0.0105,    0.010476,    0.010453,    0.010429,    0.010405,    0.010382,    0.010358,    0.010334,    0.010311,    0.010287,    0.010263,     0.01024,    0.010216,    0.010192,    0.010169,    0.010145,    0.010121,    0.010098,    0.010074,    0.010051,\n",
      "           0.010027,    0.010003,   0.0099796,   0.0099559,   0.0099323,   0.0099086,    0.009885,   0.0098613,   0.0098377,    0.009814,   0.0097904,   0.0097667,   0.0097431,   0.0097194,   0.0096958,   0.0096721,   0.0096485,   0.0096249,   0.0096012,   0.0095776,   0.0095539,   0.0095303,   0.0095066,\n",
      "           0.009483,   0.0094593,   0.0094357,    0.009412,   0.0093884,   0.0093647,   0.0093411,   0.0093174,   0.0092938,   0.0092701,   0.0092465,   0.0092228,   0.0091992,   0.0091755,   0.0091519,   0.0091282,   0.0091046,   0.0090809,   0.0090573,   0.0090336,     0.00901,   0.0089863,   0.0089627,\n",
      "          0.0089391,   0.0089154,   0.0088918,   0.0088681,   0.0088445,   0.0088208,   0.0087972,   0.0087735,   0.0087499,   0.0087262,   0.0087026,   0.0086789,   0.0086553,   0.0086316,    0.008608,   0.0085843,   0.0085607,    0.008537,   0.0085134,   0.0084897,   0.0084661,   0.0084424,   0.0084188,\n",
      "          0.0083951,   0.0083715,   0.0083478,   0.0083242,   0.0083005,   0.0082769,   0.0082533,   0.0082296,    0.008206,   0.0081823,   0.0081587,    0.008135,   0.0081114,   0.0080877,   0.0080641,   0.0080404,   0.0080168,   0.0079931,   0.0079695,   0.0079458,   0.0079222,   0.0078985,   0.0078749,\n",
      "          0.0078512,   0.0078276,   0.0078039,   0.0077803,   0.0077566,    0.007733,   0.0077093,   0.0076857,    0.007662,   0.0076384,   0.0076147,   0.0075911,   0.0075675,   0.0075438,   0.0075202,   0.0074965,   0.0074729,   0.0074492,   0.0074256,   0.0074019,   0.0073783,   0.0073546,    0.007331,\n",
      "          0.0073073,   0.0072837,     0.00726,   0.0072364,   0.0072127,   0.0071891,   0.0071654,   0.0071418,   0.0071181,   0.0070945,   0.0070708,   0.0070472,   0.0070235,   0.0069999,   0.0069762,   0.0069526,   0.0069289,   0.0069053,   0.0068817,    0.006858,   0.0068344,   0.0068107,   0.0067871,\n",
      "          0.0067634,   0.0067398,   0.0067161,   0.0066925,   0.0066688,   0.0066452,   0.0066215,   0.0065979,   0.0065742,   0.0065506,   0.0065269,   0.0065033,   0.0064796,    0.006456,   0.0064323,   0.0064087,    0.006385,   0.0063614,   0.0063377,   0.0063141,   0.0062904,   0.0062668,   0.0062431,\n",
      "          0.0062195,   0.0061959,   0.0061722,   0.0061486,   0.0061249,   0.0061013,   0.0060776,    0.006054,   0.0060303,   0.0060067,    0.005983,   0.0059594,   0.0059357,   0.0059121,   0.0058884,   0.0058648,   0.0058411,   0.0058175,   0.0057938,   0.0057702,   0.0057465,   0.0057229,   0.0056992,\n",
      "          0.0056756,   0.0056519,   0.0056283,   0.0056046,    0.005581,   0.0055573,   0.0055337,   0.0055101,   0.0054864,   0.0054628,   0.0054391,   0.0054155,   0.0053918,   0.0053682,   0.0053445,   0.0053209,   0.0052972,   0.0052736,   0.0052499,   0.0052263,   0.0052026,    0.005179,   0.0051553,\n",
      "          0.0051317,    0.005108,   0.0050844,   0.0050607,   0.0050371,   0.0050134,   0.0049898,   0.0049661,   0.0049425,   0.0049188,   0.0048952,   0.0048715,   0.0048479,   0.0048242,   0.0048006,    0.004777,   0.0047533,   0.0047297,    0.004706,   0.0046824,   0.0046587,   0.0046351,   0.0046114,\n",
      "          0.0045878,   0.0045641,   0.0045405,   0.0045168,   0.0044932,   0.0044695,   0.0044459,   0.0044222,   0.0043986,   0.0043749,   0.0043513,   0.0043276,    0.004304,   0.0042803,   0.0042567,    0.004233,   0.0042094,   0.0041857,   0.0041621,   0.0041384,   0.0041148,   0.0040912,   0.0040675,\n",
      "          0.0040439,   0.0040202,   0.0039966,   0.0039729,   0.0039493,   0.0039256,    0.003902,   0.0038783,   0.0038547,    0.003831,   0.0038074,   0.0037837,   0.0037601,   0.0037364,   0.0037128,   0.0036891,   0.0036655,   0.0036418,   0.0036182,   0.0035945,   0.0035709,   0.0035472,   0.0035236,\n",
      "          0.0034999,   0.0034763,   0.0034526,    0.003429,   0.0034054,   0.0033817,   0.0033581,   0.0033344,   0.0033108,   0.0032871,   0.0032635,   0.0032398,   0.0032162,   0.0031925,   0.0031689,   0.0031452,   0.0031216,   0.0030979,   0.0030743,   0.0030506,    0.003027,   0.0030033,   0.0029797,\n",
      "           0.002956,   0.0029324,   0.0029087,   0.0028851,   0.0028614,   0.0028378,   0.0028141,   0.0027905,   0.0027668,   0.0027432,   0.0027196,   0.0026959,   0.0026723,   0.0026486,    0.002625,   0.0026013,   0.0025777,    0.002554,   0.0025304,   0.0025067,   0.0024831,   0.0024594,   0.0024358,\n",
      "          0.0024121,   0.0023885,   0.0023648,   0.0023412,   0.0023175,   0.0022939,   0.0022702,   0.0022466,   0.0022229,   0.0021993,   0.0021756,    0.002152,   0.0021283,   0.0021047,    0.002081,   0.0020574,   0.0020338,   0.0020101,   0.0019865,   0.0019628,   0.0019392,   0.0019155,   0.0018919,\n",
      "          0.0018682,   0.0018446,   0.0018209,   0.0017973,   0.0017736,     0.00175,   0.0017263,   0.0017027,    0.001679,   0.0016554,   0.0016317,   0.0016081,   0.0015844,   0.0015608,   0.0015371,   0.0015135,   0.0014898,   0.0014662,   0.0014425,   0.0014189,   0.0013952,   0.0013716,    0.001348,\n",
      "          0.0013243,   0.0013007,    0.001277,   0.0012534,   0.0012297,   0.0012061,   0.0011824,   0.0011588,   0.0011351,   0.0011115,   0.0010878,   0.0010642,   0.0010405,   0.0010169,  0.00099323,  0.00096958,  0.00094593,  0.00092228,  0.00089863,  0.00087499,  0.00085134,  0.00082769,  0.00080404,\n",
      "         0.00078039,  0.00075675,   0.0007331,  0.00070945,   0.0006858,  0.00066215,   0.0006385,  0.00061486,  0.00059121,  0.00056756,  0.00054391,  0.00052026,  0.00049661,  0.00047297,  0.00044932,  0.00042567,  0.00040202,  0.00037837,  0.00035472,  0.00033108,  0.00030743,  0.00028378,  0.00026013,\n",
      "         0.00023648,  0.00021283,  0.00018919,  0.00016554,  0.00014189,  0.00011824,  9.4593e-05,  7.0945e-05,  4.7297e-05,  2.3648e-05,           0]]), 'Recall', 'Precision'], [array([          0,    0.001001,    0.002002,    0.003003,    0.004004,    0.005005,    0.006006,    0.007007,    0.008008,    0.009009,     0.01001,    0.011011,    0.012012,    0.013013,    0.014014,    0.015015,    0.016016,    0.017017,    0.018018,    0.019019,     0.02002,    0.021021,    0.022022,    0.023023,\n",
      "          0.024024,    0.025025,    0.026026,    0.027027,    0.028028,    0.029029,     0.03003,    0.031031,    0.032032,    0.033033,    0.034034,    0.035035,    0.036036,    0.037037,    0.038038,    0.039039,     0.04004,    0.041041,    0.042042,    0.043043,    0.044044,    0.045045,    0.046046,    0.047047,\n",
      "          0.048048,    0.049049,     0.05005,    0.051051,    0.052052,    0.053053,    0.054054,    0.055055,    0.056056,    0.057057,    0.058058,    0.059059,     0.06006,    0.061061,    0.062062,    0.063063,    0.064064,    0.065065,    0.066066,    0.067067,    0.068068,    0.069069,     0.07007,    0.071071,\n",
      "          0.072072,    0.073073,    0.074074,    0.075075,    0.076076,    0.077077,    0.078078,    0.079079,     0.08008,    0.081081,    0.082082,    0.083083,    0.084084,    0.085085,    0.086086,    0.087087,    0.088088,    0.089089,     0.09009,    0.091091,    0.092092,    0.093093,    0.094094,    0.095095,\n",
      "          0.096096,    0.097097,    0.098098,    0.099099,      0.1001,      0.1011,      0.1021,      0.1031,      0.1041,     0.10511,     0.10611,     0.10711,     0.10811,     0.10911,     0.11011,     0.11111,     0.11211,     0.11311,     0.11411,     0.11512,     0.11612,     0.11712,     0.11812,     0.11912,\n",
      "           0.12012,     0.12112,     0.12212,     0.12312,     0.12412,     0.12513,     0.12613,     0.12713,     0.12813,     0.12913,     0.13013,     0.13113,     0.13213,     0.13313,     0.13413,     0.13514,     0.13614,     0.13714,     0.13814,     0.13914,     0.14014,     0.14114,     0.14214,     0.14314,\n",
      "           0.14414,     0.14515,     0.14615,     0.14715,     0.14815,     0.14915,     0.15015,     0.15115,     0.15215,     0.15315,     0.15415,     0.15516,     0.15616,     0.15716,     0.15816,     0.15916,     0.16016,     0.16116,     0.16216,     0.16316,     0.16416,     0.16517,     0.16617,     0.16717,\n",
      "           0.16817,     0.16917,     0.17017,     0.17117,     0.17217,     0.17317,     0.17417,     0.17518,     0.17618,     0.17718,     0.17818,     0.17918,     0.18018,     0.18118,     0.18218,     0.18318,     0.18418,     0.18519,     0.18619,     0.18719,     0.18819,     0.18919,     0.19019,     0.19119,\n",
      "           0.19219,     0.19319,     0.19419,      0.1952,      0.1962,      0.1972,      0.1982,      0.1992,      0.2002,      0.2012,      0.2022,      0.2032,      0.2042,     0.20521,     0.20621,     0.20721,     0.20821,     0.20921,     0.21021,     0.21121,     0.21221,     0.21321,     0.21421,     0.21522,\n",
      "           0.21622,     0.21722,     0.21822,     0.21922,     0.22022,     0.22122,     0.22222,     0.22322,     0.22422,     0.22523,     0.22623,     0.22723,     0.22823,     0.22923,     0.23023,     0.23123,     0.23223,     0.23323,     0.23423,     0.23524,     0.23624,     0.23724,     0.23824,     0.23924,\n",
      "           0.24024,     0.24124,     0.24224,     0.24324,     0.24424,     0.24525,     0.24625,     0.24725,     0.24825,     0.24925,     0.25025,     0.25125,     0.25225,     0.25325,     0.25425,     0.25526,     0.25626,     0.25726,     0.25826,     0.25926,     0.26026,     0.26126,     0.26226,     0.26326,\n",
      "           0.26426,     0.26527,     0.26627,     0.26727,     0.26827,     0.26927,     0.27027,     0.27127,     0.27227,     0.27327,     0.27427,     0.27528,     0.27628,     0.27728,     0.27828,     0.27928,     0.28028,     0.28128,     0.28228,     0.28328,     0.28428,     0.28529,     0.28629,     0.28729,\n",
      "           0.28829,     0.28929,     0.29029,     0.29129,     0.29229,     0.29329,     0.29429,      0.2953,      0.2963,      0.2973,      0.2983,      0.2993,      0.3003,      0.3013,      0.3023,      0.3033,      0.3043,     0.30531,     0.30631,     0.30731,     0.30831,     0.30931,     0.31031,     0.31131,\n",
      "           0.31231,     0.31331,     0.31431,     0.31532,     0.31632,     0.31732,     0.31832,     0.31932,     0.32032,     0.32132,     0.32232,     0.32332,     0.32432,     0.32533,     0.32633,     0.32733,     0.32833,     0.32933,     0.33033,     0.33133,     0.33233,     0.33333,     0.33433,     0.33534,\n",
      "           0.33634,     0.33734,     0.33834,     0.33934,     0.34034,     0.34134,     0.34234,     0.34334,     0.34434,     0.34535,     0.34635,     0.34735,     0.34835,     0.34935,     0.35035,     0.35135,     0.35235,     0.35335,     0.35435,     0.35536,     0.35636,     0.35736,     0.35836,     0.35936,\n",
      "           0.36036,     0.36136,     0.36236,     0.36336,     0.36436,     0.36537,     0.36637,     0.36737,     0.36837,     0.36937,     0.37037,     0.37137,     0.37237,     0.37337,     0.37437,     0.37538,     0.37638,     0.37738,     0.37838,     0.37938,     0.38038,     0.38138,     0.38238,     0.38338,\n",
      "           0.38438,     0.38539,     0.38639,     0.38739,     0.38839,     0.38939,     0.39039,     0.39139,     0.39239,     0.39339,     0.39439,      0.3954,      0.3964,      0.3974,      0.3984,      0.3994,      0.4004,      0.4014,      0.4024,      0.4034,      0.4044,     0.40541,     0.40641,     0.40741,\n",
      "           0.40841,     0.40941,     0.41041,     0.41141,     0.41241,     0.41341,     0.41441,     0.41542,     0.41642,     0.41742,     0.41842,     0.41942,     0.42042,     0.42142,     0.42242,     0.42342,     0.42442,     0.42543,     0.42643,     0.42743,     0.42843,     0.42943,     0.43043,     0.43143,\n",
      "           0.43243,     0.43343,     0.43443,     0.43544,     0.43644,     0.43744,     0.43844,     0.43944,     0.44044,     0.44144,     0.44244,     0.44344,     0.44444,     0.44545,     0.44645,     0.44745,     0.44845,     0.44945,     0.45045,     0.45145,     0.45245,     0.45345,     0.45445,     0.45546,\n",
      "           0.45646,     0.45746,     0.45846,     0.45946,     0.46046,     0.46146,     0.46246,     0.46346,     0.46446,     0.46547,     0.46647,     0.46747,     0.46847,     0.46947,     0.47047,     0.47147,     0.47247,     0.47347,     0.47447,     0.47548,     0.47648,     0.47748,     0.47848,     0.47948,\n",
      "           0.48048,     0.48148,     0.48248,     0.48348,     0.48448,     0.48549,     0.48649,     0.48749,     0.48849,     0.48949,     0.49049,     0.49149,     0.49249,     0.49349,     0.49449,      0.4955,      0.4965,      0.4975,      0.4985,      0.4995,      0.5005,      0.5015,      0.5025,      0.5035,\n",
      "            0.5045,     0.50551,     0.50651,     0.50751,     0.50851,     0.50951,     0.51051,     0.51151,     0.51251,     0.51351,     0.51451,     0.51552,     0.51652,     0.51752,     0.51852,     0.51952,     0.52052,     0.52152,     0.52252,     0.52352,     0.52452,     0.52553,     0.52653,     0.52753,\n",
      "           0.52853,     0.52953,     0.53053,     0.53153,     0.53253,     0.53353,     0.53453,     0.53554,     0.53654,     0.53754,     0.53854,     0.53954,     0.54054,     0.54154,     0.54254,     0.54354,     0.54454,     0.54555,     0.54655,     0.54755,     0.54855,     0.54955,     0.55055,     0.55155,\n",
      "           0.55255,     0.55355,     0.55455,     0.55556,     0.55656,     0.55756,     0.55856,     0.55956,     0.56056,     0.56156,     0.56256,     0.56356,     0.56456,     0.56557,     0.56657,     0.56757,     0.56857,     0.56957,     0.57057,     0.57157,     0.57257,     0.57357,     0.57457,     0.57558,\n",
      "           0.57658,     0.57758,     0.57858,     0.57958,     0.58058,     0.58158,     0.58258,     0.58358,     0.58458,     0.58559,     0.58659,     0.58759,     0.58859,     0.58959,     0.59059,     0.59159,     0.59259,     0.59359,     0.59459,      0.5956,      0.5966,      0.5976,      0.5986,      0.5996,\n",
      "            0.6006,      0.6016,      0.6026,      0.6036,      0.6046,     0.60561,     0.60661,     0.60761,     0.60861,     0.60961,     0.61061,     0.61161,     0.61261,     0.61361,     0.61461,     0.61562,     0.61662,     0.61762,     0.61862,     0.61962,     0.62062,     0.62162,     0.62262,     0.62362,\n",
      "           0.62462,     0.62563,     0.62663,     0.62763,     0.62863,     0.62963,     0.63063,     0.63163,     0.63263,     0.63363,     0.63463,     0.63564,     0.63664,     0.63764,     0.63864,     0.63964,     0.64064,     0.64164,     0.64264,     0.64364,     0.64464,     0.64565,     0.64665,     0.64765,\n",
      "           0.64865,     0.64965,     0.65065,     0.65165,     0.65265,     0.65365,     0.65465,     0.65566,     0.65666,     0.65766,     0.65866,     0.65966,     0.66066,     0.66166,     0.66266,     0.66366,     0.66466,     0.66567,     0.66667,     0.66767,     0.66867,     0.66967,     0.67067,     0.67167,\n",
      "           0.67267,     0.67367,     0.67467,     0.67568,     0.67668,     0.67768,     0.67868,     0.67968,     0.68068,     0.68168,     0.68268,     0.68368,     0.68468,     0.68569,     0.68669,     0.68769,     0.68869,     0.68969,     0.69069,     0.69169,     0.69269,     0.69369,     0.69469,      0.6957,\n",
      "            0.6967,      0.6977,      0.6987,      0.6997,      0.7007,      0.7017,      0.7027,      0.7037,      0.7047,     0.70571,     0.70671,     0.70771,     0.70871,     0.70971,     0.71071,     0.71171,     0.71271,     0.71371,     0.71471,     0.71572,     0.71672,     0.71772,     0.71872,     0.71972,\n",
      "           0.72072,     0.72172,     0.72272,     0.72372,     0.72472,     0.72573,     0.72673,     0.72773,     0.72873,     0.72973,     0.73073,     0.73173,     0.73273,     0.73373,     0.73473,     0.73574,     0.73674,     0.73774,     0.73874,     0.73974,     0.74074,     0.74174,     0.74274,     0.74374,\n",
      "           0.74474,     0.74575,     0.74675,     0.74775,     0.74875,     0.74975,     0.75075,     0.75175,     0.75275,     0.75375,     0.75475,     0.75576,     0.75676,     0.75776,     0.75876,     0.75976,     0.76076,     0.76176,     0.76276,     0.76376,     0.76476,     0.76577,     0.76677,     0.76777,\n",
      "           0.76877,     0.76977,     0.77077,     0.77177,     0.77277,     0.77377,     0.77477,     0.77578,     0.77678,     0.77778,     0.77878,     0.77978,     0.78078,     0.78178,     0.78278,     0.78378,     0.78478,     0.78579,     0.78679,     0.78779,     0.78879,     0.78979,     0.79079,     0.79179,\n",
      "           0.79279,     0.79379,     0.79479,      0.7958,      0.7968,      0.7978,      0.7988,      0.7998,      0.8008,      0.8018,      0.8028,      0.8038,      0.8048,     0.80581,     0.80681,     0.80781,     0.80881,     0.80981,     0.81081,     0.81181,     0.81281,     0.81381,     0.81481,     0.81582,\n",
      "           0.81682,     0.81782,     0.81882,     0.81982,     0.82082,     0.82182,     0.82282,     0.82382,     0.82482,     0.82583,     0.82683,     0.82783,     0.82883,     0.82983,     0.83083,     0.83183,     0.83283,     0.83383,     0.83483,     0.83584,     0.83684,     0.83784,     0.83884,     0.83984,\n",
      "           0.84084,     0.84184,     0.84284,     0.84384,     0.84484,     0.84585,     0.84685,     0.84785,     0.84885,     0.84985,     0.85085,     0.85185,     0.85285,     0.85385,     0.85485,     0.85586,     0.85686,     0.85786,     0.85886,     0.85986,     0.86086,     0.86186,     0.86286,     0.86386,\n",
      "           0.86486,     0.86587,     0.86687,     0.86787,     0.86887,     0.86987,     0.87087,     0.87187,     0.87287,     0.87387,     0.87487,     0.87588,     0.87688,     0.87788,     0.87888,     0.87988,     0.88088,     0.88188,     0.88288,     0.88388,     0.88488,     0.88589,     0.88689,     0.88789,\n",
      "           0.88889,     0.88989,     0.89089,     0.89189,     0.89289,     0.89389,     0.89489,      0.8959,      0.8969,      0.8979,      0.8989,      0.8999,      0.9009,      0.9019,      0.9029,      0.9039,      0.9049,     0.90591,     0.90691,     0.90791,     0.90891,     0.90991,     0.91091,     0.91191,\n",
      "           0.91291,     0.91391,     0.91491,     0.91592,     0.91692,     0.91792,     0.91892,     0.91992,     0.92092,     0.92192,     0.92292,     0.92392,     0.92492,     0.92593,     0.92693,     0.92793,     0.92893,     0.92993,     0.93093,     0.93193,     0.93293,     0.93393,     0.93493,     0.93594,\n",
      "           0.93694,     0.93794,     0.93894,     0.93994,     0.94094,     0.94194,     0.94294,     0.94394,     0.94494,     0.94595,     0.94695,     0.94795,     0.94895,     0.94995,     0.95095,     0.95195,     0.95295,     0.95395,     0.95495,     0.95596,     0.95696,     0.95796,     0.95896,     0.95996,\n",
      "           0.96096,     0.96196,     0.96296,     0.96396,     0.96496,     0.96597,     0.96697,     0.96797,     0.96897,     0.96997,     0.97097,     0.97197,     0.97297,     0.97397,     0.97497,     0.97598,     0.97698,     0.97798,     0.97898,     0.97998,     0.98098,     0.98198,     0.98298,     0.98398,\n",
      "           0.98498,     0.98599,     0.98699,     0.98799,     0.98899,     0.98999,     0.99099,     0.99199,     0.99299,     0.99399,     0.99499,       0.996,       0.997,       0.998,       0.999,           1]), array([[   0.021151,    0.021157,    0.036612,    0.050449,    0.061056,    0.072969,     0.08449,    0.096107,      0.1043,     0.10661,     0.10438,     0.11349,     0.12166,      0.1255,     0.13313,     0.13945,     0.14724,     0.14595,      0.1496,     0.14754,     0.15201,     0.15916,     0.16255,\n",
      "            0.16946,      0.1764,     0.18045,     0.18647,     0.19532,     0.19737,      0.1903,     0.19246,     0.19129,     0.19728,     0.20149,     0.20321,      0.2076,     0.21331,     0.20302,     0.20463,     0.20699,     0.21166,     0.21374,     0.21641,     0.21799,     0.21928,     0.22008,\n",
      "            0.22288,     0.22591,     0.22651,     0.22711,     0.22781,     0.22932,     0.23052,     0.23216,     0.22093,     0.22338,     0.22661,     0.22788,     0.23268,     0.23406,     0.23725,     0.23842,     0.24085,     0.24162,      0.2424,     0.24331,     0.24465,     0.24774,     0.24858,\n",
      "            0.24941,     0.25148,     0.25675,     0.26051,     0.26153,     0.26255,     0.26612,     0.26752,     0.26936,     0.27677,     0.27838,     0.28173,     0.28728,     0.28902,     0.29001,     0.29099,     0.29197,     0.29669,     0.29835,     0.30352,     0.30527,     0.30755,     0.31021,\n",
      "            0.31321,     0.31493,     0.31661,     0.31908,     0.32206,     0.32509,     0.32568,     0.32627,     0.32685,     0.32744,     0.32802,     0.32859,      0.3292,     0.33013,     0.33106,     0.33197,     0.33288,      0.3338,     0.33473,     0.33565,     0.33656,     0.33746,     0.33953,\n",
      "            0.34189,      0.3478,     0.34915,     0.35048,      0.3523,     0.35507,     0.35648,     0.35701,     0.35754,     0.35807,     0.35859,     0.35911,     0.35962,     0.36014,     0.36065,     0.36115,     0.36158,     0.36201,     0.36244,     0.36287,     0.36329,     0.36371,     0.36414,\n",
      "            0.36455,     0.36497,     0.36539,      0.3658,     0.36623,     0.36697,     0.36771,     0.36845,     0.36918,     0.36991,     0.37063,     0.37134,     0.37274,     0.37422,     0.37568,     0.37693,     0.37748,     0.37803,     0.37857,     0.37912,     0.37966,     0.38019,     0.38073,\n",
      "            0.38126,     0.38179,     0.38231,     0.38967,     0.39314,     0.39513,     0.39667,     0.39818,     0.39966,     0.39948,      0.3988,     0.39811,     0.39743,     0.39675,     0.39607,     0.39539,     0.39471,     0.39402,     0.39334,     0.39266,     0.39197,     0.39129,      0.3906,\n",
      "            0.38992,     0.38923,     0.38855,     0.38786,     0.38718,     0.38649,      0.3858,     0.38512,     0.38443,     0.38374,     0.38305,     0.38236,     0.38167,     0.38098,     0.38029,      0.3796,     0.37891,     0.37822,     0.37753,     0.37684,     0.37615,     0.37546,     0.37524,\n",
      "            0.37595,     0.37665,     0.37734,     0.37803,     0.37871,     0.37938,     0.38004,      0.3807,     0.38344,     0.38711,      0.3873,     0.38749,     0.38768,     0.38787,     0.38806,     0.38825,     0.38844,     0.38863,     0.38881,       0.389,     0.38919,     0.38937,     0.38956,\n",
      "            0.38974,     0.38993,     0.39011,      0.3903,     0.39048,     0.39066,     0.39084,     0.39103,     0.39121,     0.39139,     0.39157,     0.39175,     0.39193,      0.3921,     0.39228,     0.39246,     0.39264,     0.39281,     0.39299,     0.39316,     0.39334,     0.39352,     0.39369,\n",
      "            0.39387,     0.39405,     0.39422,      0.3944,     0.39457,     0.39475,     0.39492,      0.3951,     0.39527,     0.39544,     0.39561,     0.39579,     0.39596,     0.39613,      0.3963,     0.39647,     0.39664,     0.39681,     0.39698,     0.39714,     0.39731,     0.39748,     0.39765,\n",
      "            0.39781,     0.39798,     0.39814,     0.39831,     0.39847,     0.39864,      0.3988,     0.39896,     0.39913,     0.39929,     0.39945,     0.39961,     0.39977,     0.39993,     0.37303,     0.37382,     0.37474,     0.37565,     0.37654,     0.37741,     0.37827,     0.37912,     0.37751,\n",
      "            0.37518,     0.37284,     0.37049,     0.36814,     0.36579,     0.36342,     0.36105,     0.35868,      0.3563,     0.35391,     0.35152,     0.34978,     0.34828,     0.34678,     0.34527,     0.34377,     0.34226,     0.34074,     0.33923,     0.33771,     0.33619,     0.33467,     0.33315,\n",
      "            0.33162,     0.33009,     0.32856,     0.32703,     0.32549,     0.32395,     0.32241,      0.3215,     0.32168,     0.32187,     0.32205,     0.32223,     0.32241,     0.32259,     0.32277,     0.32295,     0.32313,      0.3233,     0.32348,     0.32365,     0.32383,       0.324,     0.32417,\n",
      "            0.32434,     0.32451,     0.32468,     0.32485,     0.32502,     0.32519,     0.32535,     0.32552,     0.32568,     0.32585,     0.32601,     0.32617,     0.32633,     0.32649,     0.32665,     0.32681,     0.32697,     0.32713,     0.32597,     0.30535,     0.29291,     0.28691,     0.28087,\n",
      "            0.27478,     0.26866,     0.26385,     0.26275,     0.26164,     0.26053,     0.25942,     0.25831,      0.2572,     0.25609,     0.25497,     0.25385,     0.25274,     0.25162,      0.2505,     0.24937,     0.24825,     0.24712,       0.246,     0.24487,     0.24374,     0.24261,     0.24147,\n",
      "            0.24034,      0.2392,     0.23807,     0.23693,     0.23579,     0.23465,      0.2335,     0.23236,     0.23121,     0.22868,     0.22526,     0.22182,     0.21837,     0.21491,     0.21144,     0.20795,     0.20444,     0.20093,      0.1974,     0.19186,     0.18509,     0.17827,      0.1714,\n",
      "            0.16448,     0.15989,     0.15957,     0.15925,     0.15893,     0.15861,      0.1583,     0.15798,     0.15766,     0.15734,     0.15702,      0.1567,     0.15638,     0.15607,     0.15575,     0.15543,     0.15511,     0.15479,     0.15447,     0.15415,     0.15383,     0.15351,     0.15319,\n",
      "            0.15287,     0.15255,     0.15223,     0.15191,     0.15159,     0.15127,     0.15094,     0.15062,      0.1503,     0.14998,     0.14966,     0.14934,     0.14902,      0.1487,     0.14837,     0.14805,     0.14773,     0.14741,     0.14709,     0.14676,     0.14644,     0.14612,      0.1458,\n",
      "            0.14547,     0.14515,     0.14483,      0.1445,     0.14418,     0.14386,     0.14353,     0.14321,     0.14289,     0.14256,     0.14224,     0.14192,     0.14159,     0.14127,     0.14094,     0.14062,     0.14029,     0.13997,     0.13964,     0.13932,     0.13899,     0.13867,     0.13834,\n",
      "            0.13802,     0.13769,     0.13737,     0.13704,     0.13672,     0.13639,     0.13606,     0.13574,     0.13541,     0.13509,     0.13476,     0.13443,     0.13411,     0.13378,     0.13345,     0.13313,      0.1328,     0.13247,     0.13214,     0.13182,     0.13149,     0.13116,     0.13083,\n",
      "             0.1305,     0.13018,     0.12985,     0.12952,     0.12919,     0.12886,     0.12853,     0.12821,     0.12788,     0.12755,     0.12722,     0.12689,     0.12656,     0.12623,      0.1259,     0.12557,     0.12524,     0.12491,     0.12458,     0.12425,     0.12392,     0.12359,     0.12326,\n",
      "            0.12293,      0.1226,     0.12028,     0.11632,     0.11234,     0.10834,     0.10433,      0.1003,    0.096251,    0.092185,    0.088102,    0.084002,    0.082809,    0.082181,    0.081554,    0.080926,    0.080298,    0.079669,     0.07904,     0.07841,     0.07778,     0.07715,    0.076519,\n",
      "           0.075888,    0.075256,    0.074624,    0.073992,    0.073359,    0.072726,    0.072092,    0.071458,    0.070824,    0.070189,    0.069553,    0.068917,    0.068281,    0.067645,    0.067008,     0.06637,    0.065732,    0.065094,    0.064455,    0.063816,    0.063177,    0.062537,    0.061896,\n",
      "           0.061255,    0.060614,    0.059972,     0.05933,    0.058688,    0.058045,    0.057401,    0.056758,    0.056113,    0.055469,    0.054824,    0.054178,    0.053532,    0.052886,    0.052239,    0.051592,    0.050944,    0.050296,    0.049647,    0.048998,    0.048349,    0.047699,    0.047049,\n",
      "           0.046398,    0.045747,    0.045096,    0.044444,    0.043791,    0.043138,           0,           0,           0,           0,           0,           0,           0,           0,           0,           0,           0,           0,           0,           0,           0,           0,           0,\n",
      "                  0,           0,           0,           0,           0,           0,           0,           0,           0,           0,           0,           0,           0,           0,           0,           0,           0,           0,           0,           0,           0,           0,           0,\n",
      "                  0,           0,           0,           0,           0,           0,           0,           0,           0,           0,           0,           0,           0,           0,           0,           0,           0,           0,           0,           0,           0,           0,           0,\n",
      "                  0,           0,           0,           0,           0,           0,           0,           0,           0,           0,           0,           0,           0,           0,           0,           0,           0,           0,           0,           0,           0,           0,           0,\n",
      "                  0,           0,           0,           0,           0,           0,           0,           0,           0,           0,           0,           0,           0,           0,           0,           0,           0,           0,           0,           0,           0,           0,           0,\n",
      "                  0,           0,           0,           0,           0,           0,           0,           0,           0,           0,           0,           0,           0,           0,           0,           0,           0,           0,           0,           0,           0,           0,           0,\n",
      "                  0,           0,           0,           0,           0,           0,           0,           0,           0,           0,           0,           0,           0,           0,           0,           0,           0,           0,           0,           0,           0,           0,           0,\n",
      "                  0,           0,           0,           0,           0,           0,           0,           0,           0,           0,           0,           0,           0,           0,           0,           0,           0,           0,           0,           0,           0,           0,           0,\n",
      "                  0,           0,           0,           0,           0,           0,           0,           0,           0,           0,           0,           0,           0,           0,           0,           0,           0,           0,           0,           0,           0,           0,           0,\n",
      "                  0,           0,           0,           0,           0,           0,           0,           0,           0,           0,           0,           0,           0,           0,           0,           0,           0,           0,           0,           0,           0,           0,           0,\n",
      "                  0,           0,           0,           0,           0,           0,           0,           0,           0,           0,           0,           0,           0,           0,           0,           0,           0,           0,           0,           0,           0,           0,           0,\n",
      "                  0,           0,           0,           0,           0,           0,           0,           0,           0,           0,           0,           0,           0,           0,           0,           0,           0,           0,           0,           0,           0,           0,           0,\n",
      "                  0,           0,           0,           0,           0,           0,           0,           0,           0,           0,           0,           0,           0,           0,           0,           0,           0,           0,           0,           0,           0,           0,           0,\n",
      "                  0,           0,           0,           0,           0,           0,           0,           0,           0,           0,           0,           0,           0,           0,           0,           0,           0,           0,           0,           0,           0,           0,           0,\n",
      "                  0,           0,           0,           0,           0,           0,           0,           0,           0,           0,           0,           0,           0,           0,           0,           0,           0,           0,           0,           0,           0,           0,           0,\n",
      "                  0,           0,           0,           0,           0,           0,           0,           0,           0,           0,           0,           0,           0,           0,           0,           0,           0,           0,           0,           0,           0,           0,           0,\n",
      "                  0,           0,           0,           0,           0,           0,           0,           0,           0,           0,           0,           0,           0,           0,           0,           0,           0,           0,           0,           0,           0,           0,           0,\n",
      "                  0,           0,           0,           0,           0,           0,           0,           0,           0,           0,           0]]), 'Confidence', 'F1'], [array([          0,    0.001001,    0.002002,    0.003003,    0.004004,    0.005005,    0.006006,    0.007007,    0.008008,    0.009009,     0.01001,    0.011011,    0.012012,    0.013013,    0.014014,    0.015015,    0.016016,    0.017017,    0.018018,    0.019019,     0.02002,    0.021021,    0.022022,    0.023023,\n",
      "          0.024024,    0.025025,    0.026026,    0.027027,    0.028028,    0.029029,     0.03003,    0.031031,    0.032032,    0.033033,    0.034034,    0.035035,    0.036036,    0.037037,    0.038038,    0.039039,     0.04004,    0.041041,    0.042042,    0.043043,    0.044044,    0.045045,    0.046046,    0.047047,\n",
      "          0.048048,    0.049049,     0.05005,    0.051051,    0.052052,    0.053053,    0.054054,    0.055055,    0.056056,    0.057057,    0.058058,    0.059059,     0.06006,    0.061061,    0.062062,    0.063063,    0.064064,    0.065065,    0.066066,    0.067067,    0.068068,    0.069069,     0.07007,    0.071071,\n",
      "          0.072072,    0.073073,    0.074074,    0.075075,    0.076076,    0.077077,    0.078078,    0.079079,     0.08008,    0.081081,    0.082082,    0.083083,    0.084084,    0.085085,    0.086086,    0.087087,    0.088088,    0.089089,     0.09009,    0.091091,    0.092092,    0.093093,    0.094094,    0.095095,\n",
      "          0.096096,    0.097097,    0.098098,    0.099099,      0.1001,      0.1011,      0.1021,      0.1031,      0.1041,     0.10511,     0.10611,     0.10711,     0.10811,     0.10911,     0.11011,     0.11111,     0.11211,     0.11311,     0.11411,     0.11512,     0.11612,     0.11712,     0.11812,     0.11912,\n",
      "           0.12012,     0.12112,     0.12212,     0.12312,     0.12412,     0.12513,     0.12613,     0.12713,     0.12813,     0.12913,     0.13013,     0.13113,     0.13213,     0.13313,     0.13413,     0.13514,     0.13614,     0.13714,     0.13814,     0.13914,     0.14014,     0.14114,     0.14214,     0.14314,\n",
      "           0.14414,     0.14515,     0.14615,     0.14715,     0.14815,     0.14915,     0.15015,     0.15115,     0.15215,     0.15315,     0.15415,     0.15516,     0.15616,     0.15716,     0.15816,     0.15916,     0.16016,     0.16116,     0.16216,     0.16316,     0.16416,     0.16517,     0.16617,     0.16717,\n",
      "           0.16817,     0.16917,     0.17017,     0.17117,     0.17217,     0.17317,     0.17417,     0.17518,     0.17618,     0.17718,     0.17818,     0.17918,     0.18018,     0.18118,     0.18218,     0.18318,     0.18418,     0.18519,     0.18619,     0.18719,     0.18819,     0.18919,     0.19019,     0.19119,\n",
      "           0.19219,     0.19319,     0.19419,      0.1952,      0.1962,      0.1972,      0.1982,      0.1992,      0.2002,      0.2012,      0.2022,      0.2032,      0.2042,     0.20521,     0.20621,     0.20721,     0.20821,     0.20921,     0.21021,     0.21121,     0.21221,     0.21321,     0.21421,     0.21522,\n",
      "           0.21622,     0.21722,     0.21822,     0.21922,     0.22022,     0.22122,     0.22222,     0.22322,     0.22422,     0.22523,     0.22623,     0.22723,     0.22823,     0.22923,     0.23023,     0.23123,     0.23223,     0.23323,     0.23423,     0.23524,     0.23624,     0.23724,     0.23824,     0.23924,\n",
      "           0.24024,     0.24124,     0.24224,     0.24324,     0.24424,     0.24525,     0.24625,     0.24725,     0.24825,     0.24925,     0.25025,     0.25125,     0.25225,     0.25325,     0.25425,     0.25526,     0.25626,     0.25726,     0.25826,     0.25926,     0.26026,     0.26126,     0.26226,     0.26326,\n",
      "           0.26426,     0.26527,     0.26627,     0.26727,     0.26827,     0.26927,     0.27027,     0.27127,     0.27227,     0.27327,     0.27427,     0.27528,     0.27628,     0.27728,     0.27828,     0.27928,     0.28028,     0.28128,     0.28228,     0.28328,     0.28428,     0.28529,     0.28629,     0.28729,\n",
      "           0.28829,     0.28929,     0.29029,     0.29129,     0.29229,     0.29329,     0.29429,      0.2953,      0.2963,      0.2973,      0.2983,      0.2993,      0.3003,      0.3013,      0.3023,      0.3033,      0.3043,     0.30531,     0.30631,     0.30731,     0.30831,     0.30931,     0.31031,     0.31131,\n",
      "           0.31231,     0.31331,     0.31431,     0.31532,     0.31632,     0.31732,     0.31832,     0.31932,     0.32032,     0.32132,     0.32232,     0.32332,     0.32432,     0.32533,     0.32633,     0.32733,     0.32833,     0.32933,     0.33033,     0.33133,     0.33233,     0.33333,     0.33433,     0.33534,\n",
      "           0.33634,     0.33734,     0.33834,     0.33934,     0.34034,     0.34134,     0.34234,     0.34334,     0.34434,     0.34535,     0.34635,     0.34735,     0.34835,     0.34935,     0.35035,     0.35135,     0.35235,     0.35335,     0.35435,     0.35536,     0.35636,     0.35736,     0.35836,     0.35936,\n",
      "           0.36036,     0.36136,     0.36236,     0.36336,     0.36436,     0.36537,     0.36637,     0.36737,     0.36837,     0.36937,     0.37037,     0.37137,     0.37237,     0.37337,     0.37437,     0.37538,     0.37638,     0.37738,     0.37838,     0.37938,     0.38038,     0.38138,     0.38238,     0.38338,\n",
      "           0.38438,     0.38539,     0.38639,     0.38739,     0.38839,     0.38939,     0.39039,     0.39139,     0.39239,     0.39339,     0.39439,      0.3954,      0.3964,      0.3974,      0.3984,      0.3994,      0.4004,      0.4014,      0.4024,      0.4034,      0.4044,     0.40541,     0.40641,     0.40741,\n",
      "           0.40841,     0.40941,     0.41041,     0.41141,     0.41241,     0.41341,     0.41441,     0.41542,     0.41642,     0.41742,     0.41842,     0.41942,     0.42042,     0.42142,     0.42242,     0.42342,     0.42442,     0.42543,     0.42643,     0.42743,     0.42843,     0.42943,     0.43043,     0.43143,\n",
      "           0.43243,     0.43343,     0.43443,     0.43544,     0.43644,     0.43744,     0.43844,     0.43944,     0.44044,     0.44144,     0.44244,     0.44344,     0.44444,     0.44545,     0.44645,     0.44745,     0.44845,     0.44945,     0.45045,     0.45145,     0.45245,     0.45345,     0.45445,     0.45546,\n",
      "           0.45646,     0.45746,     0.45846,     0.45946,     0.46046,     0.46146,     0.46246,     0.46346,     0.46446,     0.46547,     0.46647,     0.46747,     0.46847,     0.46947,     0.47047,     0.47147,     0.47247,     0.47347,     0.47447,     0.47548,     0.47648,     0.47748,     0.47848,     0.47948,\n",
      "           0.48048,     0.48148,     0.48248,     0.48348,     0.48448,     0.48549,     0.48649,     0.48749,     0.48849,     0.48949,     0.49049,     0.49149,     0.49249,     0.49349,     0.49449,      0.4955,      0.4965,      0.4975,      0.4985,      0.4995,      0.5005,      0.5015,      0.5025,      0.5035,\n",
      "            0.5045,     0.50551,     0.50651,     0.50751,     0.50851,     0.50951,     0.51051,     0.51151,     0.51251,     0.51351,     0.51451,     0.51552,     0.51652,     0.51752,     0.51852,     0.51952,     0.52052,     0.52152,     0.52252,     0.52352,     0.52452,     0.52553,     0.52653,     0.52753,\n",
      "           0.52853,     0.52953,     0.53053,     0.53153,     0.53253,     0.53353,     0.53453,     0.53554,     0.53654,     0.53754,     0.53854,     0.53954,     0.54054,     0.54154,     0.54254,     0.54354,     0.54454,     0.54555,     0.54655,     0.54755,     0.54855,     0.54955,     0.55055,     0.55155,\n",
      "           0.55255,     0.55355,     0.55455,     0.55556,     0.55656,     0.55756,     0.55856,     0.55956,     0.56056,     0.56156,     0.56256,     0.56356,     0.56456,     0.56557,     0.56657,     0.56757,     0.56857,     0.56957,     0.57057,     0.57157,     0.57257,     0.57357,     0.57457,     0.57558,\n",
      "           0.57658,     0.57758,     0.57858,     0.57958,     0.58058,     0.58158,     0.58258,     0.58358,     0.58458,     0.58559,     0.58659,     0.58759,     0.58859,     0.58959,     0.59059,     0.59159,     0.59259,     0.59359,     0.59459,      0.5956,      0.5966,      0.5976,      0.5986,      0.5996,\n",
      "            0.6006,      0.6016,      0.6026,      0.6036,      0.6046,     0.60561,     0.60661,     0.60761,     0.60861,     0.60961,     0.61061,     0.61161,     0.61261,     0.61361,     0.61461,     0.61562,     0.61662,     0.61762,     0.61862,     0.61962,     0.62062,     0.62162,     0.62262,     0.62362,\n",
      "           0.62462,     0.62563,     0.62663,     0.62763,     0.62863,     0.62963,     0.63063,     0.63163,     0.63263,     0.63363,     0.63463,     0.63564,     0.63664,     0.63764,     0.63864,     0.63964,     0.64064,     0.64164,     0.64264,     0.64364,     0.64464,     0.64565,     0.64665,     0.64765,\n",
      "           0.64865,     0.64965,     0.65065,     0.65165,     0.65265,     0.65365,     0.65465,     0.65566,     0.65666,     0.65766,     0.65866,     0.65966,     0.66066,     0.66166,     0.66266,     0.66366,     0.66466,     0.66567,     0.66667,     0.66767,     0.66867,     0.66967,     0.67067,     0.67167,\n",
      "           0.67267,     0.67367,     0.67467,     0.67568,     0.67668,     0.67768,     0.67868,     0.67968,     0.68068,     0.68168,     0.68268,     0.68368,     0.68468,     0.68569,     0.68669,     0.68769,     0.68869,     0.68969,     0.69069,     0.69169,     0.69269,     0.69369,     0.69469,      0.6957,\n",
      "            0.6967,      0.6977,      0.6987,      0.6997,      0.7007,      0.7017,      0.7027,      0.7037,      0.7047,     0.70571,     0.70671,     0.70771,     0.70871,     0.70971,     0.71071,     0.71171,     0.71271,     0.71371,     0.71471,     0.71572,     0.71672,     0.71772,     0.71872,     0.71972,\n",
      "           0.72072,     0.72172,     0.72272,     0.72372,     0.72472,     0.72573,     0.72673,     0.72773,     0.72873,     0.72973,     0.73073,     0.73173,     0.73273,     0.73373,     0.73473,     0.73574,     0.73674,     0.73774,     0.73874,     0.73974,     0.74074,     0.74174,     0.74274,     0.74374,\n",
      "           0.74474,     0.74575,     0.74675,     0.74775,     0.74875,     0.74975,     0.75075,     0.75175,     0.75275,     0.75375,     0.75475,     0.75576,     0.75676,     0.75776,     0.75876,     0.75976,     0.76076,     0.76176,     0.76276,     0.76376,     0.76476,     0.76577,     0.76677,     0.76777,\n",
      "           0.76877,     0.76977,     0.77077,     0.77177,     0.77277,     0.77377,     0.77477,     0.77578,     0.77678,     0.77778,     0.77878,     0.77978,     0.78078,     0.78178,     0.78278,     0.78378,     0.78478,     0.78579,     0.78679,     0.78779,     0.78879,     0.78979,     0.79079,     0.79179,\n",
      "           0.79279,     0.79379,     0.79479,      0.7958,      0.7968,      0.7978,      0.7988,      0.7998,      0.8008,      0.8018,      0.8028,      0.8038,      0.8048,     0.80581,     0.80681,     0.80781,     0.80881,     0.80981,     0.81081,     0.81181,     0.81281,     0.81381,     0.81481,     0.81582,\n",
      "           0.81682,     0.81782,     0.81882,     0.81982,     0.82082,     0.82182,     0.82282,     0.82382,     0.82482,     0.82583,     0.82683,     0.82783,     0.82883,     0.82983,     0.83083,     0.83183,     0.83283,     0.83383,     0.83483,     0.83584,     0.83684,     0.83784,     0.83884,     0.83984,\n",
      "           0.84084,     0.84184,     0.84284,     0.84384,     0.84484,     0.84585,     0.84685,     0.84785,     0.84885,     0.84985,     0.85085,     0.85185,     0.85285,     0.85385,     0.85485,     0.85586,     0.85686,     0.85786,     0.85886,     0.85986,     0.86086,     0.86186,     0.86286,     0.86386,\n",
      "           0.86486,     0.86587,     0.86687,     0.86787,     0.86887,     0.86987,     0.87087,     0.87187,     0.87287,     0.87387,     0.87487,     0.87588,     0.87688,     0.87788,     0.87888,     0.87988,     0.88088,     0.88188,     0.88288,     0.88388,     0.88488,     0.88589,     0.88689,     0.88789,\n",
      "           0.88889,     0.88989,     0.89089,     0.89189,     0.89289,     0.89389,     0.89489,      0.8959,      0.8969,      0.8979,      0.8989,      0.8999,      0.9009,      0.9019,      0.9029,      0.9039,      0.9049,     0.90591,     0.90691,     0.90791,     0.90891,     0.90991,     0.91091,     0.91191,\n",
      "           0.91291,     0.91391,     0.91491,     0.91592,     0.91692,     0.91792,     0.91892,     0.91992,     0.92092,     0.92192,     0.92292,     0.92392,     0.92492,     0.92593,     0.92693,     0.92793,     0.92893,     0.92993,     0.93093,     0.93193,     0.93293,     0.93393,     0.93493,     0.93594,\n",
      "           0.93694,     0.93794,     0.93894,     0.93994,     0.94094,     0.94194,     0.94294,     0.94394,     0.94494,     0.94595,     0.94695,     0.94795,     0.94895,     0.94995,     0.95095,     0.95195,     0.95295,     0.95395,     0.95495,     0.95596,     0.95696,     0.95796,     0.95896,     0.95996,\n",
      "           0.96096,     0.96196,     0.96296,     0.96396,     0.96496,     0.96597,     0.96697,     0.96797,     0.96897,     0.96997,     0.97097,     0.97197,     0.97297,     0.97397,     0.97497,     0.97598,     0.97698,     0.97798,     0.97898,     0.97998,     0.98098,     0.98198,     0.98298,     0.98398,\n",
      "           0.98498,     0.98599,     0.98699,     0.98799,     0.98899,     0.98999,     0.99099,     0.99199,     0.99299,     0.99399,     0.99499,       0.996,       0.997,       0.998,       0.999,           1]), array([[   0.010785,    0.010789,    0.018972,    0.026565,    0.032609,    0.039497,    0.046338,    0.053421,    0.058531,    0.060352,     0.05974,    0.065782,    0.071336,    0.073993,    0.079353,    0.083882,    0.089585,    0.089705,    0.092481,    0.092167,     0.09568,     0.10142,     0.10418,\n",
      "            0.10993,     0.11585,     0.11937,     0.12469,     0.13274,     0.13504,     0.13098,     0.13303,     0.13534,     0.14142,     0.14579,     0.14759,     0.15227,     0.15849,     0.15231,     0.15413,     0.15682,     0.16225,      0.1647,      0.1679,      0.1698,     0.17138,     0.17236,\n",
      "            0.17582,     0.17962,     0.18038,     0.18114,     0.18204,     0.18397,     0.18552,     0.18765,     0.18135,     0.18467,     0.18914,      0.1909,     0.19774,     0.19974,     0.20444,     0.20619,     0.20984,     0.21102,     0.21221,      0.2136,     0.21567,     0.22054,     0.22186,\n",
      "            0.22318,     0.22652,     0.23523,     0.24162,     0.24338,     0.24514,     0.25145,     0.25396,      0.2573,     0.27117,     0.27427,     0.28087,     0.29211,     0.29572,      0.2978,     0.29989,     0.30197,     0.31226,     0.31595,     0.32777,     0.33189,     0.33733,     0.34378,\n",
      "            0.35124,      0.3556,     0.35991,     0.36637,     0.37432,      0.3826,     0.38424,     0.38588,     0.38752,     0.38917,     0.39081,     0.39245,     0.39419,     0.39687,     0.39955,     0.40223,     0.40491,     0.40764,     0.41041,     0.41319,     0.41596,     0.41874,     0.42518,\n",
      "            0.43265,     0.45208,     0.45666,     0.46125,     0.46761,      0.4775,     0.48265,     0.48459,     0.48654,     0.48849,     0.49044,     0.49239,     0.49434,     0.49629,     0.49824,     0.50016,     0.50182,     0.50348,     0.50514,      0.5068,     0.50845,     0.51011,     0.51177,\n",
      "            0.51343,     0.51509,     0.51675,      0.5184,     0.52011,     0.52314,     0.52616,     0.52919,     0.53221,     0.53524,     0.53826,     0.54129,     0.54729,     0.55371,     0.56013,     0.56574,     0.56823,     0.57073,     0.57323,     0.57572,     0.57822,     0.58072,     0.58321,\n",
      "            0.58571,     0.58821,      0.5907,     0.62734,     0.64567,     0.65654,     0.66511,     0.67368,     0.68224,     0.68384,     0.68336,     0.68288,     0.68239,     0.68191,     0.68143,     0.68095,     0.68047,     0.67999,     0.67951,     0.67902,     0.67854,     0.67806,     0.67758,\n",
      "             0.6771,     0.67662,     0.67613,     0.67565,     0.67517,     0.67469,     0.67421,     0.67373,     0.67324,     0.67276,     0.67228,      0.6718,     0.67132,     0.67084,     0.67035,     0.66987,     0.66939,     0.66891,     0.66843,     0.66795,     0.66747,     0.66698,     0.66821,\n",
      "             0.6727,      0.6772,      0.6817,      0.6862,     0.69069,     0.69519,     0.69969,     0.70419,     0.72331,     0.75007,     0.75151,     0.75295,      0.7544,     0.75584,     0.75728,     0.75873,     0.76017,     0.76162,     0.76306,      0.7645,     0.76595,     0.76739,     0.76883,\n",
      "            0.77028,     0.77172,     0.77316,     0.77461,     0.77605,      0.7775,     0.77894,     0.78038,     0.78183,     0.78327,     0.78471,     0.78616,      0.7876,     0.78904,     0.79049,     0.79193,     0.79338,     0.79482,     0.79626,     0.79771,     0.79915,      0.8006,     0.80208,\n",
      "            0.80355,     0.80502,     0.80649,     0.80797,     0.80944,     0.81091,     0.81238,     0.81385,     0.81533,      0.8168,     0.81827,     0.81974,     0.82121,     0.82269,     0.82416,     0.82563,      0.8271,     0.82858,     0.83005,     0.83152,     0.83299,     0.83446,     0.83594,\n",
      "            0.83741,     0.83888,     0.84035,     0.84182,      0.8433,     0.84477,     0.84624,     0.84771,     0.84919,     0.85066,     0.85213,      0.8536,     0.85507,     0.85655,     0.84621,     0.85588,     0.86565,     0.87541,     0.88517,     0.89493,     0.90469,     0.91445,     0.91618,\n",
      "            0.91555,     0.91492,     0.91429,     0.91366,     0.91303,      0.9124,     0.91178,     0.91115,     0.91052,     0.90989,     0.90926,     0.90875,     0.90828,     0.90781,     0.90734,     0.90687,      0.9064,     0.90593,     0.90546,     0.90499,     0.90452,     0.90405,     0.90358,\n",
      "            0.90311,     0.90265,     0.90218,     0.90171,     0.90124,     0.90077,      0.9003,     0.90106,     0.90398,     0.90689,     0.90981,     0.91272,     0.91564,     0.91855,     0.92147,     0.92438,      0.9273,     0.93022,     0.93313,     0.93605,     0.93896,     0.94188,     0.94479,\n",
      "            0.94771,     0.95062,     0.95354,     0.95645,     0.95937,     0.96229,      0.9652,     0.96812,     0.97103,     0.97395,     0.97686,     0.97978,     0.98269,     0.98561,     0.98852,     0.99144,     0.99436,     0.99727,           1,           1,           1,           1,           1,\n",
      "                  1,           1,           1,           1,           1,           1,           1,           1,           1,           1,           1,           1,           1,           1,           1,           1,           1,           1,           1,           1,           1,           1,           1,\n",
      "                  1,           1,           1,           1,           1,           1,           1,           1,           1,           1,           1,           1,           1,           1,           1,           1,           1,           1,           1,           1,           1,           1,           1,\n",
      "                  1,           1,           1,           1,           1,           1,           1,           1,           1,           1,           1,           1,           1,           1,           1,           1,           1,           1,           1,           1,           1,           1,           1,\n",
      "                  1,           1,           1,           1,           1,           1,           1,           1,           1,           1,           1,           1,           1,           1,           1,           1,           1,           1,           1,           1,           1,           1,           1,\n",
      "                  1,           1,           1,           1,           1,           1,           1,           1,           1,           1,           1,           1,           1,           1,           1,           1,           1,           1,           1,           1,           1,           1,           1,\n",
      "                  1,           1,           1,           1,           1,           1,           1,           1,           1,           1,           1,           1,           1,           1,           1,           1,           1,           1,           1,           1,           1,           1,           1,\n",
      "                  1,           1,           1,           1,           1,           1,           1,           1,           1,           1,           1,           1,           1,           1,           1,           1,           1,           1,           1,           1,           1,           1,           1,\n",
      "                  1,           1,           1,           1,           1,           1,           1,           1,           1,           1,           1,           1,           1,           1,           1,           1,           1,           1,           1,           1,           1,           1,           1,\n",
      "                  1,           1,           1,           1,           1,           1,           1,           1,           1,           1,           1,           1,           1,           1,           1,           1,           1,           1,           1,           1,           1,           1,           1,\n",
      "                  1,           1,           1,           1,           1,           1,           1,           1,           1,           1,           1,           1,           1,           1,           1,           1,           1,           1,           1,           1,           1,           1,           1,\n",
      "                  1,           1,           1,           1,           1,           1,           1,           1,           1,           1,           1,           1,           1,           1,           1,           1,           1,           1,           1,           1,           1,           1,           1,\n",
      "                  1,           1,           1,           1,           1,           1,           1,           1,           1,           1,           1,           1,           1,           1,           1,           1,           1,           1,           1,           1,           1,           1,           1,\n",
      "                  1,           1,           1,           1,           1,           1,           1,           1,           1,           1,           1,           1,           1,           1,           1,           1,           1,           1,           1,           1,           1,           1,           1,\n",
      "                  1,           1,           1,           1,           1,           1,           1,           1,           1,           1,           1,           1,           1,           1,           1,           1,           1,           1,           1,           1,           1,           1,           1,\n",
      "                  1,           1,           1,           1,           1,           1,           1,           1,           1,           1,           1,           1,           1,           1,           1,           1,           1,           1,           1,           1,           1,           1,           1,\n",
      "                  1,           1,           1,           1,           1,           1,           1,           1,           1,           1,           1,           1,           1,           1,           1,           1,           1,           1,           1,           1,           1,           1,           1,\n",
      "                  1,           1,           1,           1,           1,           1,           1,           1,           1,           1,           1,           1,           1,           1,           1,           1,           1,           1,           1,           1,           1,           1,           1,\n",
      "                  1,           1,           1,           1,           1,           1,           1,           1,           1,           1,           1,           1,           1,           1,           1,           1,           1,           1,           1,           1,           1,           1,           1,\n",
      "                  1,           1,           1,           1,           1,           1,           1,           1,           1,           1,           1,           1,           1,           1,           1,           1,           1,           1,           1,           1,           1,           1,           1,\n",
      "                  1,           1,           1,           1,           1,           1,           1,           1,           1,           1,           1,           1,           1,           1,           1,           1,           1,           1,           1,           1,           1,           1,           1,\n",
      "                  1,           1,           1,           1,           1,           1,           1,           1,           1,           1,           1,           1,           1,           1,           1,           1,           1,           1,           1,           1,           1,           1,           1,\n",
      "                  1,           1,           1,           1,           1,           1,           1,           1,           1,           1,           1,           1,           1,           1,           1,           1,           1,           1,           1,           1,           1,           1,           1,\n",
      "                  1,           1,           1,           1,           1,           1,           1,           1,           1,           1,           1,           1,           1,           1,           1,           1,           1,           1,           1,           1,           1,           1,           1,\n",
      "                  1,           1,           1,           1,           1,           1,           1,           1,           1,           1,           1,           1,           1,           1,           1,           1,           1,           1,           1,           1,           1,           1,           1,\n",
      "                  1,           1,           1,           1,           1,           1,           1,           1,           1,           1,           1,           1,           1,           1,           1,           1,           1,           1,           1,           1,           1,           1,           1,\n",
      "                  1,           1,           1,           1,           1,           1,           1,           1,           1,           1,           1,           1,           1,           1,           1,           1,           1,           1,           1,           1,           1,           1,           1,\n",
      "                  1,           1,           1,           1,           1,           1,           1,           1,           1,           1,           1,           1,           1,           1,           1,           1,           1,           1,           1,           1,           1,           1,           1,\n",
      "                  1,           1,           1,           1,           1,           1,           1,           1,           1,           1,           1]]), 'Confidence', 'Precision'], [array([          0,    0.001001,    0.002002,    0.003003,    0.004004,    0.005005,    0.006006,    0.007007,    0.008008,    0.009009,     0.01001,    0.011011,    0.012012,    0.013013,    0.014014,    0.015015,    0.016016,    0.017017,    0.018018,    0.019019,     0.02002,    0.021021,    0.022022,    0.023023,\n",
      "          0.024024,    0.025025,    0.026026,    0.027027,    0.028028,    0.029029,     0.03003,    0.031031,    0.032032,    0.033033,    0.034034,    0.035035,    0.036036,    0.037037,    0.038038,    0.039039,     0.04004,    0.041041,    0.042042,    0.043043,    0.044044,    0.045045,    0.046046,    0.047047,\n",
      "          0.048048,    0.049049,     0.05005,    0.051051,    0.052052,    0.053053,    0.054054,    0.055055,    0.056056,    0.057057,    0.058058,    0.059059,     0.06006,    0.061061,    0.062062,    0.063063,    0.064064,    0.065065,    0.066066,    0.067067,    0.068068,    0.069069,     0.07007,    0.071071,\n",
      "          0.072072,    0.073073,    0.074074,    0.075075,    0.076076,    0.077077,    0.078078,    0.079079,     0.08008,    0.081081,    0.082082,    0.083083,    0.084084,    0.085085,    0.086086,    0.087087,    0.088088,    0.089089,     0.09009,    0.091091,    0.092092,    0.093093,    0.094094,    0.095095,\n",
      "          0.096096,    0.097097,    0.098098,    0.099099,      0.1001,      0.1011,      0.1021,      0.1031,      0.1041,     0.10511,     0.10611,     0.10711,     0.10811,     0.10911,     0.11011,     0.11111,     0.11211,     0.11311,     0.11411,     0.11512,     0.11612,     0.11712,     0.11812,     0.11912,\n",
      "           0.12012,     0.12112,     0.12212,     0.12312,     0.12412,     0.12513,     0.12613,     0.12713,     0.12813,     0.12913,     0.13013,     0.13113,     0.13213,     0.13313,     0.13413,     0.13514,     0.13614,     0.13714,     0.13814,     0.13914,     0.14014,     0.14114,     0.14214,     0.14314,\n",
      "           0.14414,     0.14515,     0.14615,     0.14715,     0.14815,     0.14915,     0.15015,     0.15115,     0.15215,     0.15315,     0.15415,     0.15516,     0.15616,     0.15716,     0.15816,     0.15916,     0.16016,     0.16116,     0.16216,     0.16316,     0.16416,     0.16517,     0.16617,     0.16717,\n",
      "           0.16817,     0.16917,     0.17017,     0.17117,     0.17217,     0.17317,     0.17417,     0.17518,     0.17618,     0.17718,     0.17818,     0.17918,     0.18018,     0.18118,     0.18218,     0.18318,     0.18418,     0.18519,     0.18619,     0.18719,     0.18819,     0.18919,     0.19019,     0.19119,\n",
      "           0.19219,     0.19319,     0.19419,      0.1952,      0.1962,      0.1972,      0.1982,      0.1992,      0.2002,      0.2012,      0.2022,      0.2032,      0.2042,     0.20521,     0.20621,     0.20721,     0.20821,     0.20921,     0.21021,     0.21121,     0.21221,     0.21321,     0.21421,     0.21522,\n",
      "           0.21622,     0.21722,     0.21822,     0.21922,     0.22022,     0.22122,     0.22222,     0.22322,     0.22422,     0.22523,     0.22623,     0.22723,     0.22823,     0.22923,     0.23023,     0.23123,     0.23223,     0.23323,     0.23423,     0.23524,     0.23624,     0.23724,     0.23824,     0.23924,\n",
      "           0.24024,     0.24124,     0.24224,     0.24324,     0.24424,     0.24525,     0.24625,     0.24725,     0.24825,     0.24925,     0.25025,     0.25125,     0.25225,     0.25325,     0.25425,     0.25526,     0.25626,     0.25726,     0.25826,     0.25926,     0.26026,     0.26126,     0.26226,     0.26326,\n",
      "           0.26426,     0.26527,     0.26627,     0.26727,     0.26827,     0.26927,     0.27027,     0.27127,     0.27227,     0.27327,     0.27427,     0.27528,     0.27628,     0.27728,     0.27828,     0.27928,     0.28028,     0.28128,     0.28228,     0.28328,     0.28428,     0.28529,     0.28629,     0.28729,\n",
      "           0.28829,     0.28929,     0.29029,     0.29129,     0.29229,     0.29329,     0.29429,      0.2953,      0.2963,      0.2973,      0.2983,      0.2993,      0.3003,      0.3013,      0.3023,      0.3033,      0.3043,     0.30531,     0.30631,     0.30731,     0.30831,     0.30931,     0.31031,     0.31131,\n",
      "           0.31231,     0.31331,     0.31431,     0.31532,     0.31632,     0.31732,     0.31832,     0.31932,     0.32032,     0.32132,     0.32232,     0.32332,     0.32432,     0.32533,     0.32633,     0.32733,     0.32833,     0.32933,     0.33033,     0.33133,     0.33233,     0.33333,     0.33433,     0.33534,\n",
      "           0.33634,     0.33734,     0.33834,     0.33934,     0.34034,     0.34134,     0.34234,     0.34334,     0.34434,     0.34535,     0.34635,     0.34735,     0.34835,     0.34935,     0.35035,     0.35135,     0.35235,     0.35335,     0.35435,     0.35536,     0.35636,     0.35736,     0.35836,     0.35936,\n",
      "           0.36036,     0.36136,     0.36236,     0.36336,     0.36436,     0.36537,     0.36637,     0.36737,     0.36837,     0.36937,     0.37037,     0.37137,     0.37237,     0.37337,     0.37437,     0.37538,     0.37638,     0.37738,     0.37838,     0.37938,     0.38038,     0.38138,     0.38238,     0.38338,\n",
      "           0.38438,     0.38539,     0.38639,     0.38739,     0.38839,     0.38939,     0.39039,     0.39139,     0.39239,     0.39339,     0.39439,      0.3954,      0.3964,      0.3974,      0.3984,      0.3994,      0.4004,      0.4014,      0.4024,      0.4034,      0.4044,     0.40541,     0.40641,     0.40741,\n",
      "           0.40841,     0.40941,     0.41041,     0.41141,     0.41241,     0.41341,     0.41441,     0.41542,     0.41642,     0.41742,     0.41842,     0.41942,     0.42042,     0.42142,     0.42242,     0.42342,     0.42442,     0.42543,     0.42643,     0.42743,     0.42843,     0.42943,     0.43043,     0.43143,\n",
      "           0.43243,     0.43343,     0.43443,     0.43544,     0.43644,     0.43744,     0.43844,     0.43944,     0.44044,     0.44144,     0.44244,     0.44344,     0.44444,     0.44545,     0.44645,     0.44745,     0.44845,     0.44945,     0.45045,     0.45145,     0.45245,     0.45345,     0.45445,     0.45546,\n",
      "           0.45646,     0.45746,     0.45846,     0.45946,     0.46046,     0.46146,     0.46246,     0.46346,     0.46446,     0.46547,     0.46647,     0.46747,     0.46847,     0.46947,     0.47047,     0.47147,     0.47247,     0.47347,     0.47447,     0.47548,     0.47648,     0.47748,     0.47848,     0.47948,\n",
      "           0.48048,     0.48148,     0.48248,     0.48348,     0.48448,     0.48549,     0.48649,     0.48749,     0.48849,     0.48949,     0.49049,     0.49149,     0.49249,     0.49349,     0.49449,      0.4955,      0.4965,      0.4975,      0.4985,      0.4995,      0.5005,      0.5015,      0.5025,      0.5035,\n",
      "            0.5045,     0.50551,     0.50651,     0.50751,     0.50851,     0.50951,     0.51051,     0.51151,     0.51251,     0.51351,     0.51451,     0.51552,     0.51652,     0.51752,     0.51852,     0.51952,     0.52052,     0.52152,     0.52252,     0.52352,     0.52452,     0.52553,     0.52653,     0.52753,\n",
      "           0.52853,     0.52953,     0.53053,     0.53153,     0.53253,     0.53353,     0.53453,     0.53554,     0.53654,     0.53754,     0.53854,     0.53954,     0.54054,     0.54154,     0.54254,     0.54354,     0.54454,     0.54555,     0.54655,     0.54755,     0.54855,     0.54955,     0.55055,     0.55155,\n",
      "           0.55255,     0.55355,     0.55455,     0.55556,     0.55656,     0.55756,     0.55856,     0.55956,     0.56056,     0.56156,     0.56256,     0.56356,     0.56456,     0.56557,     0.56657,     0.56757,     0.56857,     0.56957,     0.57057,     0.57157,     0.57257,     0.57357,     0.57457,     0.57558,\n",
      "           0.57658,     0.57758,     0.57858,     0.57958,     0.58058,     0.58158,     0.58258,     0.58358,     0.58458,     0.58559,     0.58659,     0.58759,     0.58859,     0.58959,     0.59059,     0.59159,     0.59259,     0.59359,     0.59459,      0.5956,      0.5966,      0.5976,      0.5986,      0.5996,\n",
      "            0.6006,      0.6016,      0.6026,      0.6036,      0.6046,     0.60561,     0.60661,     0.60761,     0.60861,     0.60961,     0.61061,     0.61161,     0.61261,     0.61361,     0.61461,     0.61562,     0.61662,     0.61762,     0.61862,     0.61962,     0.62062,     0.62162,     0.62262,     0.62362,\n",
      "           0.62462,     0.62563,     0.62663,     0.62763,     0.62863,     0.62963,     0.63063,     0.63163,     0.63263,     0.63363,     0.63463,     0.63564,     0.63664,     0.63764,     0.63864,     0.63964,     0.64064,     0.64164,     0.64264,     0.64364,     0.64464,     0.64565,     0.64665,     0.64765,\n",
      "           0.64865,     0.64965,     0.65065,     0.65165,     0.65265,     0.65365,     0.65465,     0.65566,     0.65666,     0.65766,     0.65866,     0.65966,     0.66066,     0.66166,     0.66266,     0.66366,     0.66466,     0.66567,     0.66667,     0.66767,     0.66867,     0.66967,     0.67067,     0.67167,\n",
      "           0.67267,     0.67367,     0.67467,     0.67568,     0.67668,     0.67768,     0.67868,     0.67968,     0.68068,     0.68168,     0.68268,     0.68368,     0.68468,     0.68569,     0.68669,     0.68769,     0.68869,     0.68969,     0.69069,     0.69169,     0.69269,     0.69369,     0.69469,      0.6957,\n",
      "            0.6967,      0.6977,      0.6987,      0.6997,      0.7007,      0.7017,      0.7027,      0.7037,      0.7047,     0.70571,     0.70671,     0.70771,     0.70871,     0.70971,     0.71071,     0.71171,     0.71271,     0.71371,     0.71471,     0.71572,     0.71672,     0.71772,     0.71872,     0.71972,\n",
      "           0.72072,     0.72172,     0.72272,     0.72372,     0.72472,     0.72573,     0.72673,     0.72773,     0.72873,     0.72973,     0.73073,     0.73173,     0.73273,     0.73373,     0.73473,     0.73574,     0.73674,     0.73774,     0.73874,     0.73974,     0.74074,     0.74174,     0.74274,     0.74374,\n",
      "           0.74474,     0.74575,     0.74675,     0.74775,     0.74875,     0.74975,     0.75075,     0.75175,     0.75275,     0.75375,     0.75475,     0.75576,     0.75676,     0.75776,     0.75876,     0.75976,     0.76076,     0.76176,     0.76276,     0.76376,     0.76476,     0.76577,     0.76677,     0.76777,\n",
      "           0.76877,     0.76977,     0.77077,     0.77177,     0.77277,     0.77377,     0.77477,     0.77578,     0.77678,     0.77778,     0.77878,     0.77978,     0.78078,     0.78178,     0.78278,     0.78378,     0.78478,     0.78579,     0.78679,     0.78779,     0.78879,     0.78979,     0.79079,     0.79179,\n",
      "           0.79279,     0.79379,     0.79479,      0.7958,      0.7968,      0.7978,      0.7988,      0.7998,      0.8008,      0.8018,      0.8028,      0.8038,      0.8048,     0.80581,     0.80681,     0.80781,     0.80881,     0.80981,     0.81081,     0.81181,     0.81281,     0.81381,     0.81481,     0.81582,\n",
      "           0.81682,     0.81782,     0.81882,     0.81982,     0.82082,     0.82182,     0.82282,     0.82382,     0.82482,     0.82583,     0.82683,     0.82783,     0.82883,     0.82983,     0.83083,     0.83183,     0.83283,     0.83383,     0.83483,     0.83584,     0.83684,     0.83784,     0.83884,     0.83984,\n",
      "           0.84084,     0.84184,     0.84284,     0.84384,     0.84484,     0.84585,     0.84685,     0.84785,     0.84885,     0.84985,     0.85085,     0.85185,     0.85285,     0.85385,     0.85485,     0.85586,     0.85686,     0.85786,     0.85886,     0.85986,     0.86086,     0.86186,     0.86286,     0.86386,\n",
      "           0.86486,     0.86587,     0.86687,     0.86787,     0.86887,     0.86987,     0.87087,     0.87187,     0.87287,     0.87387,     0.87487,     0.87588,     0.87688,     0.87788,     0.87888,     0.87988,     0.88088,     0.88188,     0.88288,     0.88388,     0.88488,     0.88589,     0.88689,     0.88789,\n",
      "           0.88889,     0.88989,     0.89089,     0.89189,     0.89289,     0.89389,     0.89489,      0.8959,      0.8969,      0.8979,      0.8989,      0.8999,      0.9009,      0.9019,      0.9029,      0.9039,      0.9049,     0.90591,     0.90691,     0.90791,     0.90891,     0.90991,     0.91091,     0.91191,\n",
      "           0.91291,     0.91391,     0.91491,     0.91592,     0.91692,     0.91792,     0.91892,     0.91992,     0.92092,     0.92192,     0.92292,     0.92392,     0.92492,     0.92593,     0.92693,     0.92793,     0.92893,     0.92993,     0.93093,     0.93193,     0.93293,     0.93393,     0.93493,     0.93594,\n",
      "           0.93694,     0.93794,     0.93894,     0.93994,     0.94094,     0.94194,     0.94294,     0.94394,     0.94494,     0.94595,     0.94695,     0.94795,     0.94895,     0.94995,     0.95095,     0.95195,     0.95295,     0.95395,     0.95495,     0.95596,     0.95696,     0.95796,     0.95896,     0.95996,\n",
      "           0.96096,     0.96196,     0.96296,     0.96396,     0.96496,     0.96597,     0.96697,     0.96797,     0.96897,     0.96997,     0.97097,     0.97197,     0.97297,     0.97397,     0.97497,     0.97598,     0.97698,     0.97798,     0.97898,     0.97998,     0.98098,     0.98198,     0.98298,     0.98398,\n",
      "           0.98498,     0.98599,     0.98699,     0.98799,     0.98899,     0.98999,     0.99099,     0.99199,     0.99299,     0.99399,     0.99499,       0.996,       0.997,       0.998,       0.999,           1]), array([[    0.54348,     0.54348,     0.52174,         0.5,     0.47826,     0.47826,     0.47826,     0.47826,     0.47826,     0.45652,     0.41304,     0.41304,     0.41304,     0.41304,     0.41304,     0.41304,     0.41304,      0.3913,      0.3913,     0.36957,     0.36957,     0.36957,     0.36957,\n",
      "            0.36957,     0.36957,     0.36957,     0.36957,     0.36957,     0.36657,     0.34783,     0.34783,     0.32609,     0.32609,     0.32609,     0.32609,     0.32609,     0.32609,     0.30435,     0.30435,     0.30435,     0.30435,     0.30435,     0.30435,     0.30435,     0.30435,     0.30435,\n",
      "            0.30435,     0.30435,     0.30435,     0.30435,     0.30435,     0.30435,     0.30435,     0.30435,     0.28261,     0.28261,     0.28261,     0.28261,     0.28261,     0.28261,     0.28261,     0.28261,     0.28261,     0.28261,     0.28261,     0.28261,     0.28261,     0.28261,     0.28261,\n",
      "            0.28261,     0.28261,     0.28261,     0.28261,     0.28261,     0.28261,     0.28261,     0.28261,     0.28261,     0.28261,     0.28261,     0.28261,     0.28261,     0.28261,     0.28261,     0.28261,     0.28261,     0.28261,     0.28261,     0.28261,     0.28261,     0.28261,     0.28261,\n",
      "            0.28261,     0.28261,     0.28261,     0.28261,     0.28261,     0.28261,     0.28261,     0.28261,     0.28261,     0.28261,     0.28261,     0.28261,     0.28261,     0.28261,     0.28261,     0.28261,     0.28261,     0.28261,     0.28261,     0.28261,     0.28261,     0.28261,     0.28261,\n",
      "            0.28261,     0.28261,     0.28261,     0.28261,     0.28261,     0.28261,     0.28261,     0.28261,     0.28261,     0.28261,     0.28261,     0.28261,     0.28261,     0.28261,     0.28261,     0.28261,     0.28261,     0.28261,     0.28261,     0.28261,     0.28261,     0.28261,     0.28261,\n",
      "            0.28261,     0.28261,     0.28261,     0.28261,     0.28261,     0.28261,     0.28261,     0.28261,     0.28261,     0.28261,     0.28261,     0.28261,     0.28261,     0.28261,     0.28261,     0.28261,     0.28261,     0.28261,     0.28261,     0.28261,     0.28261,     0.28261,     0.28261,\n",
      "            0.28261,     0.28261,     0.28261,     0.28261,     0.28261,     0.28261,     0.28261,     0.28261,     0.28261,     0.28215,     0.28155,     0.28096,     0.28036,     0.27976,     0.27917,     0.27857,     0.27797,     0.27737,     0.27678,     0.27618,     0.27558,     0.27499,     0.27439,\n",
      "            0.27379,      0.2732,      0.2726,       0.272,     0.27141,     0.27081,     0.27021,     0.26962,     0.26902,     0.26842,     0.26783,     0.26723,     0.26663,     0.26604,     0.26544,     0.26484,     0.26425,     0.26365,     0.26305,     0.26246,     0.26186,     0.26126,     0.26087,\n",
      "            0.26087,     0.26087,     0.26087,     0.26087,     0.26087,     0.26087,     0.26087,     0.26087,     0.26087,     0.26087,     0.26087,     0.26087,     0.26087,     0.26087,     0.26087,     0.26087,     0.26087,     0.26087,     0.26087,     0.26087,     0.26087,     0.26087,     0.26087,\n",
      "            0.26087,     0.26087,     0.26087,     0.26087,     0.26087,     0.26087,     0.26087,     0.26087,     0.26087,     0.26087,     0.26087,     0.26087,     0.26087,     0.26087,     0.26087,     0.26087,     0.26087,     0.26087,     0.26087,     0.26087,     0.26087,     0.26087,     0.26087,\n",
      "            0.26087,     0.26087,     0.26087,     0.26087,     0.26087,     0.26087,     0.26087,     0.26087,     0.26087,     0.26087,     0.26087,     0.26087,     0.26087,     0.26087,     0.26087,     0.26087,     0.26087,     0.26087,     0.26087,     0.26087,     0.26087,     0.26087,     0.26087,\n",
      "            0.26087,     0.26087,     0.26087,     0.26087,     0.26087,     0.26087,     0.26087,     0.26087,     0.26087,     0.26087,     0.26087,     0.26087,     0.26087,     0.26087,     0.23925,     0.23913,     0.23913,     0.23913,     0.23913,     0.23913,     0.23913,     0.23913,     0.23773,\n",
      "            0.23593,     0.23412,     0.23232,     0.23051,     0.22871,      0.2269,     0.22509,     0.22329,     0.22148,     0.21968,     0.21787,     0.21657,     0.21545,     0.21432,      0.2132,     0.21208,     0.21096,     0.20983,     0.20871,     0.20759,     0.20647,     0.20534,     0.20422,\n",
      "             0.2031,     0.20198,     0.20086,     0.19973,     0.19861,     0.19749,     0.19637,     0.19565,     0.19565,     0.19565,     0.19565,     0.19565,     0.19565,     0.19565,     0.19565,     0.19565,     0.19565,     0.19565,     0.19565,     0.19565,     0.19565,     0.19565,     0.19565,\n",
      "            0.19565,     0.19565,     0.19565,     0.19565,     0.19565,     0.19565,     0.19565,     0.19565,     0.19565,     0.19565,     0.19565,     0.19565,     0.19565,     0.19565,     0.19565,     0.19565,     0.19565,     0.19565,     0.19472,     0.18019,     0.17158,     0.16748,     0.16338,\n",
      "            0.15928,     0.15517,     0.15198,     0.15124,     0.15051,     0.14978,     0.14904,     0.14831,     0.14758,     0.14685,     0.14611,     0.14538,     0.14465,     0.14391,     0.14318,     0.14245,     0.14171,     0.14098,     0.14025,     0.13952,     0.13878,     0.13805,     0.13732,\n",
      "            0.13658,     0.13585,     0.13512,     0.13438,     0.13365,     0.13292,     0.13219,     0.13145,     0.13072,      0.1291,     0.12693,     0.12475,     0.12257,     0.12039,     0.11822,     0.11604,     0.11386,     0.11168,     0.10951,     0.10611,     0.10198,    0.097859,    0.093735,\n",
      "           0.089611,     0.08689,    0.086702,    0.086514,    0.086326,    0.086139,    0.085951,    0.085763,    0.085576,    0.085388,      0.0852,    0.085012,    0.084825,    0.084637,    0.084449,    0.084262,    0.084074,    0.083886,    0.083698,    0.083511,    0.083323,    0.083135,    0.082948,\n",
      "            0.08276,    0.082572,    0.082384,    0.082197,    0.082009,    0.081821,    0.081634,    0.081446,    0.081258,     0.08107,    0.080883,    0.080695,    0.080507,     0.08032,    0.080132,    0.079944,    0.079756,    0.079569,    0.079381,    0.079193,    0.079006,    0.078818,     0.07863,\n",
      "           0.078442,    0.078255,    0.078067,    0.077879,    0.077692,    0.077504,    0.077316,    0.077128,    0.076941,    0.076753,    0.076565,    0.076378,     0.07619,    0.076002,    0.075814,    0.075627,    0.075439,    0.075251,    0.075064,    0.074876,    0.074688,      0.0745,    0.074313,\n",
      "           0.074125,    0.073937,    0.073749,    0.073562,    0.073374,    0.073186,    0.072999,    0.072811,    0.072623,    0.072435,    0.072248,     0.07206,    0.071872,    0.071685,    0.071497,    0.071309,    0.071121,    0.070934,    0.070746,    0.070558,    0.070371,    0.070183,    0.069995,\n",
      "           0.069807,     0.06962,    0.069432,    0.069244,    0.069057,    0.068869,    0.068681,    0.068493,    0.068306,    0.068118,     0.06793,    0.067743,    0.067555,    0.067367,    0.067179,    0.066992,    0.066804,    0.066616,    0.066429,    0.066241,    0.066053,    0.065865,    0.065678,\n",
      "            0.06549,    0.065302,    0.063991,    0.061752,    0.059513,    0.057275,    0.055036,    0.052797,    0.050558,     0.04832,    0.046081,    0.043842,    0.043193,    0.042852,     0.04251,    0.042169,    0.041828,    0.041487,    0.041146,    0.040805,    0.040464,    0.040123,    0.039782,\n",
      "           0.039441,    0.039099,    0.038758,    0.038417,    0.038076,    0.037735,    0.037394,    0.037053,    0.036712,    0.036371,     0.03603,    0.035689,    0.035347,    0.035006,    0.034665,    0.034324,    0.033983,    0.033642,    0.033301,     0.03296,    0.032619,    0.032278,    0.031936,\n",
      "           0.031595,    0.031254,    0.030913,    0.030572,    0.030231,     0.02989,    0.029549,    0.029208,    0.028867,    0.028525,    0.028184,    0.027843,    0.027502,    0.027161,     0.02682,    0.026479,    0.026138,    0.025797,    0.025456,    0.025114,    0.024773,    0.024432,    0.024091,\n",
      "            0.02375,    0.023409,    0.023068,    0.022727,    0.022386,    0.022045,           0,           0,           0,           0,           0,           0,           0,           0,           0,           0,           0,           0,           0,           0,           0,           0,           0,\n",
      "                  0,           0,           0,           0,           0,           0,           0,           0,           0,           0,           0,           0,           0,           0,           0,           0,           0,           0,           0,           0,           0,           0,           0,\n",
      "                  0,           0,           0,           0,           0,           0,           0,           0,           0,           0,           0,           0,           0,           0,           0,           0,           0,           0,           0,           0,           0,           0,           0,\n",
      "                  0,           0,           0,           0,           0,           0,           0,           0,           0,           0,           0,           0,           0,           0,           0,           0,           0,           0,           0,           0,           0,           0,           0,\n",
      "                  0,           0,           0,           0,           0,           0,           0,           0,           0,           0,           0,           0,           0,           0,           0,           0,           0,           0,           0,           0,           0,           0,           0,\n",
      "                  0,           0,           0,           0,           0,           0,           0,           0,           0,           0,           0,           0,           0,           0,           0,           0,           0,           0,           0,           0,           0,           0,           0,\n",
      "                  0,           0,           0,           0,           0,           0,           0,           0,           0,           0,           0,           0,           0,           0,           0,           0,           0,           0,           0,           0,           0,           0,           0,\n",
      "                  0,           0,           0,           0,           0,           0,           0,           0,           0,           0,           0,           0,           0,           0,           0,           0,           0,           0,           0,           0,           0,           0,           0,\n",
      "                  0,           0,           0,           0,           0,           0,           0,           0,           0,           0,           0,           0,           0,           0,           0,           0,           0,           0,           0,           0,           0,           0,           0,\n",
      "                  0,           0,           0,           0,           0,           0,           0,           0,           0,           0,           0,           0,           0,           0,           0,           0,           0,           0,           0,           0,           0,           0,           0,\n",
      "                  0,           0,           0,           0,           0,           0,           0,           0,           0,           0,           0,           0,           0,           0,           0,           0,           0,           0,           0,           0,           0,           0,           0,\n",
      "                  0,           0,           0,           0,           0,           0,           0,           0,           0,           0,           0,           0,           0,           0,           0,           0,           0,           0,           0,           0,           0,           0,           0,\n",
      "                  0,           0,           0,           0,           0,           0,           0,           0,           0,           0,           0,           0,           0,           0,           0,           0,           0,           0,           0,           0,           0,           0,           0,\n",
      "                  0,           0,           0,           0,           0,           0,           0,           0,           0,           0,           0,           0,           0,           0,           0,           0,           0,           0,           0,           0,           0,           0,           0,\n",
      "                  0,           0,           0,           0,           0,           0,           0,           0,           0,           0,           0,           0,           0,           0,           0,           0,           0,           0,           0,           0,           0,           0,           0,\n",
      "                  0,           0,           0,           0,           0,           0,           0,           0,           0,           0,           0,           0,           0,           0,           0,           0,           0,           0,           0,           0,           0,           0,           0,\n",
      "                  0,           0,           0,           0,           0,           0,           0,           0,           0,           0,           0,           0,           0,           0,           0,           0,           0,           0,           0,           0,           0,           0,           0,\n",
      "                  0,           0,           0,           0,           0,           0,           0,           0,           0,           0,           0]]), 'Confidence', 'Recall']]\n",
      "fitness: 0.12896916741558656\n",
      "keys: ['metrics/precision(B)', 'metrics/recall(B)', 'metrics/mAP50(B)', 'metrics/mAP50-95(B)']\n",
      "maps: array([    0.11042])\n",
      "names: {0: 'Ball'}\n",
      "plot: True\n",
      "results_dict: {'metrics/precision(B)': 0.7832696198326076, 'metrics/recall(B)': 0.2608695652173913, 'metrics/mAP50(B)': 0.2958791348310034, 'metrics/mAP50-95(B)': 0.11042361548054025, 'fitness': 0.12896916741558656}\n",
      "save_dir: WindowsPath('runs/detect/val')\n",
      "speed: {'preprocess': 1.3475661016855156, 'inference': 52.05019661020665, 'loss': 0.00014406778372161216, 'postprocess': 0.2565491525320656}\n",
      "task: 'detect'\n"
     ]
    }
   ],
   "source": [
    "from ultralytics import YOLO\n",
    "\n",
    "# Load the trained model (replace with actual path if needed)\n",
    "model = YOLO(\"runs/detect/nfl-ball-detector3/weights/best.pt\")\n",
    "\n",
    "# Evaluate the model on the validation set\n",
    "metrics = model.val()\n",
    "\n",
    "# Show metrics\n",
    "print(metrics)\n"
   ]
  },
  {
   "cell_type": "code",
   "execution_count": 18,
   "id": "c994f9c9-4476-499f-8cb4-8a6eeaedc37b",
   "metadata": {},
   "outputs": [
    {
     "name": "stdout",
     "output_type": "stream",
     "text": [
      "Processing frame 1...\n",
      "\n",
      "0: 384x640 (no detections), 42.5ms\n",
      "Speed: 3.6ms preprocess, 42.5ms inference, 0.8ms postprocess per image at shape (1, 3, 384, 640)\n",
      "Ball detection for frame 1: {}\n",
      "Processing frame 2...\n",
      "\n",
      "0: 384x640 (no detections), 43.9ms\n",
      "Speed: 2.2ms preprocess, 43.9ms inference, 0.9ms postprocess per image at shape (1, 3, 384, 640)\n",
      "Ball detection for frame 2: {}\n",
      "Processing frame 3...\n",
      "\n",
      "0: 384x640 (no detections), 46.3ms\n",
      "Speed: 3.8ms preprocess, 46.3ms inference, 0.4ms postprocess per image at shape (1, 3, 384, 640)\n",
      "Ball detection for frame 3: {}\n",
      "Processing frame 4...\n",
      "\n",
      "0: 384x640 (no detections), 34.1ms\n",
      "Speed: 1.8ms preprocess, 34.1ms inference, 0.4ms postprocess per image at shape (1, 3, 384, 640)\n",
      "Ball detection for frame 4: {}\n",
      "Processing frame 5...\n",
      "\n",
      "0: 384x640 (no detections), 34.8ms\n",
      "Speed: 2.6ms preprocess, 34.8ms inference, 0.4ms postprocess per image at shape (1, 3, 384, 640)\n",
      "Ball detection for frame 5: {}\n",
      "Processing frame 6...\n",
      "\n",
      "0: 384x640 (no detections), 33.4ms\n",
      "Speed: 1.9ms preprocess, 33.4ms inference, 0.4ms postprocess per image at shape (1, 3, 384, 640)\n",
      "Ball detection for frame 6: {}\n",
      "Processing frame 7...\n",
      "\n",
      "0: 384x640 (no detections), 36.0ms\n",
      "Speed: 1.7ms preprocess, 36.0ms inference, 0.4ms postprocess per image at shape (1, 3, 384, 640)\n",
      "Ball detection for frame 7: {}\n",
      "Processing frame 8...\n",
      "\n",
      "0: 384x640 (no detections), 34.7ms\n",
      "Speed: 3.4ms preprocess, 34.7ms inference, 0.4ms postprocess per image at shape (1, 3, 384, 640)\n",
      "Ball detection for frame 8: {}\n",
      "Processing frame 9...\n",
      "\n",
      "0: 384x640 (no detections), 34.7ms\n",
      "Speed: 1.6ms preprocess, 34.7ms inference, 0.5ms postprocess per image at shape (1, 3, 384, 640)\n",
      "Ball detection for frame 9: {}\n",
      "Processing frame 10...\n",
      "\n",
      "0: 384x640 (no detections), 36.7ms\n",
      "Speed: 2.4ms preprocess, 36.7ms inference, 0.6ms postprocess per image at shape (1, 3, 384, 640)\n",
      "Ball detection for frame 10: {}\n",
      "Processing frame 11...\n",
      "\n",
      "0: 384x640 (no detections), 34.4ms\n",
      "Speed: 1.9ms preprocess, 34.4ms inference, 0.4ms postprocess per image at shape (1, 3, 384, 640)\n",
      "Ball detection for frame 11: {}\n",
      "Processing frame 12...\n",
      "\n",
      "0: 384x640 (no detections), 34.2ms\n",
      "Speed: 2.4ms preprocess, 34.2ms inference, 0.4ms postprocess per image at shape (1, 3, 384, 640)\n",
      "Ball detection for frame 12: {}\n",
      "Processing frame 13...\n",
      "\n",
      "0: 384x640 (no detections), 35.7ms\n",
      "Speed: 2.2ms preprocess, 35.7ms inference, 0.5ms postprocess per image at shape (1, 3, 384, 640)\n",
      "Ball detection for frame 13: {}\n",
      "Processing frame 14...\n",
      "\n",
      "0: 384x640 (no detections), 34.3ms\n",
      "Speed: 1.7ms preprocess, 34.3ms inference, 0.4ms postprocess per image at shape (1, 3, 384, 640)\n",
      "Ball detection for frame 14: {}\n",
      "Processing frame 15...\n",
      "\n",
      "0: 384x640 (no detections), 36.4ms\n",
      "Speed: 2.3ms preprocess, 36.4ms inference, 0.4ms postprocess per image at shape (1, 3, 384, 640)\n",
      "Ball detection for frame 15: {}\n",
      "Processing frame 16...\n",
      "\n",
      "0: 384x640 (no detections), 36.2ms\n",
      "Speed: 2.4ms preprocess, 36.2ms inference, 0.4ms postprocess per image at shape (1, 3, 384, 640)\n",
      "Ball detection for frame 16: {}\n",
      "Processing frame 17...\n",
      "\n",
      "0: 384x640 (no detections), 35.7ms\n",
      "Speed: 2.3ms preprocess, 35.7ms inference, 0.4ms postprocess per image at shape (1, 3, 384, 640)\n",
      "Ball detection for frame 17: {}\n",
      "Processing frame 18...\n",
      "\n",
      "0: 384x640 (no detections), 35.8ms\n",
      "Speed: 2.1ms preprocess, 35.8ms inference, 0.5ms postprocess per image at shape (1, 3, 384, 640)\n",
      "Ball detection for frame 18: {}\n",
      "Processing frame 19...\n",
      "\n",
      "0: 384x640 (no detections), 35.0ms\n",
      "Speed: 2.1ms preprocess, 35.0ms inference, 0.3ms postprocess per image at shape (1, 3, 384, 640)\n",
      "Ball detection for frame 19: {}\n",
      "Processing frame 20...\n",
      "\n",
      "0: 384x640 (no detections), 34.9ms\n",
      "Speed: 1.9ms preprocess, 34.9ms inference, 0.4ms postprocess per image at shape (1, 3, 384, 640)\n",
      "Ball detection for frame 20: {}\n",
      "Processing frame 21...\n",
      "\n",
      "0: 384x640 (no detections), 36.9ms\n",
      "Speed: 2.6ms preprocess, 36.9ms inference, 0.4ms postprocess per image at shape (1, 3, 384, 640)\n",
      "Ball detection for frame 21: {}\n",
      "Processing frame 22...\n",
      "\n",
      "0: 384x640 (no detections), 38.3ms\n",
      "Speed: 2.2ms preprocess, 38.3ms inference, 0.5ms postprocess per image at shape (1, 3, 384, 640)\n",
      "Ball detection for frame 22: {}\n",
      "Processing frame 23...\n",
      "\n",
      "0: 384x640 (no detections), 61.1ms\n",
      "Speed: 2.5ms preprocess, 61.1ms inference, 0.5ms postprocess per image at shape (1, 3, 384, 640)\n",
      "Ball detection for frame 23: {}\n",
      "Processing frame 24...\n",
      "\n",
      "0: 384x640 (no detections), 37.5ms\n",
      "Speed: 2.5ms preprocess, 37.5ms inference, 0.5ms postprocess per image at shape (1, 3, 384, 640)\n",
      "Ball detection for frame 24: {}\n",
      "Processing frame 25...\n",
      "\n",
      "0: 384x640 (no detections), 34.2ms\n",
      "Speed: 2.7ms preprocess, 34.2ms inference, 0.4ms postprocess per image at shape (1, 3, 384, 640)\n",
      "Ball detection for frame 25: {}\n",
      "Processing frame 26...\n",
      "\n",
      "0: 384x640 (no detections), 35.6ms\n",
      "Speed: 2.2ms preprocess, 35.6ms inference, 0.5ms postprocess per image at shape (1, 3, 384, 640)\n",
      "Ball detection for frame 26: {}\n",
      "Processing frame 27...\n",
      "\n",
      "0: 384x640 (no detections), 37.7ms\n",
      "Speed: 2.0ms preprocess, 37.7ms inference, 0.5ms postprocess per image at shape (1, 3, 384, 640)\n",
      "Ball detection for frame 27: {}\n",
      "Processing frame 28...\n",
      "\n",
      "0: 384x640 (no detections), 37.3ms\n",
      "Speed: 2.2ms preprocess, 37.3ms inference, 0.4ms postprocess per image at shape (1, 3, 384, 640)\n",
      "Ball detection for frame 28: {}\n",
      "Processing frame 29...\n",
      "\n",
      "0: 384x640 (no detections), 37.5ms\n",
      "Speed: 2.2ms preprocess, 37.5ms inference, 0.4ms postprocess per image at shape (1, 3, 384, 640)\n",
      "Ball detection for frame 29: {}\n",
      "Processing frame 30...\n",
      "\n",
      "0: 384x640 (no detections), 37.9ms\n",
      "Speed: 2.1ms preprocess, 37.9ms inference, 0.4ms postprocess per image at shape (1, 3, 384, 640)\n",
      "Ball detection for frame 30: {}\n",
      "Processing frame 31...\n",
      "\n",
      "0: 384x640 (no detections), 37.6ms\n",
      "Speed: 2.2ms preprocess, 37.6ms inference, 0.4ms postprocess per image at shape (1, 3, 384, 640)\n",
      "Ball detection for frame 31: {}\n",
      "Processing frame 32...\n",
      "\n",
      "0: 384x640 (no detections), 40.1ms\n",
      "Speed: 2.0ms preprocess, 40.1ms inference, 0.6ms postprocess per image at shape (1, 3, 384, 640)\n",
      "Ball detection for frame 32: {}\n",
      "Processing frame 33...\n",
      "\n",
      "0: 384x640 (no detections), 36.6ms\n",
      "Speed: 1.9ms preprocess, 36.6ms inference, 0.4ms postprocess per image at shape (1, 3, 384, 640)\n",
      "Ball detection for frame 33: {}\n",
      "Processing frame 34...\n",
      "\n",
      "0: 384x640 (no detections), 34.0ms\n",
      "Speed: 2.0ms preprocess, 34.0ms inference, 0.3ms postprocess per image at shape (1, 3, 384, 640)\n",
      "Ball detection for frame 34: {}\n",
      "Processing frame 35...\n",
      "\n",
      "0: 384x640 (no detections), 34.9ms\n",
      "Speed: 1.9ms preprocess, 34.9ms inference, 0.5ms postprocess per image at shape (1, 3, 384, 640)\n",
      "Ball detection for frame 35: {}\n",
      "Processing frame 36...\n",
      "\n",
      "0: 384x640 (no detections), 34.5ms\n",
      "Speed: 2.1ms preprocess, 34.5ms inference, 0.3ms postprocess per image at shape (1, 3, 384, 640)\n",
      "Ball detection for frame 36: {}\n",
      "Processing frame 37...\n",
      "\n",
      "0: 384x640 (no detections), 33.4ms\n",
      "Speed: 2.2ms preprocess, 33.4ms inference, 0.3ms postprocess per image at shape (1, 3, 384, 640)\n",
      "Ball detection for frame 37: {}\n",
      "Processing frame 38...\n",
      "\n",
      "0: 384x640 (no detections), 34.1ms\n",
      "Speed: 2.0ms preprocess, 34.1ms inference, 0.4ms postprocess per image at shape (1, 3, 384, 640)\n",
      "Ball detection for frame 38: {}\n",
      "Processing frame 39...\n",
      "\n",
      "0: 384x640 (no detections), 34.0ms\n",
      "Speed: 2.2ms preprocess, 34.0ms inference, 0.4ms postprocess per image at shape (1, 3, 384, 640)\n",
      "Ball detection for frame 39: {}\n",
      "Processing frame 40...\n",
      "\n",
      "0: 384x640 (no detections), 32.6ms\n",
      "Speed: 2.1ms preprocess, 32.6ms inference, 0.4ms postprocess per image at shape (1, 3, 384, 640)\n",
      "Ball detection for frame 40: {}\n",
      "Processing frame 41...\n",
      "\n",
      "0: 384x640 (no detections), 33.9ms\n",
      "Speed: 2.3ms preprocess, 33.9ms inference, 0.4ms postprocess per image at shape (1, 3, 384, 640)\n",
      "Ball detection for frame 41: {}\n",
      "Processing frame 42...\n",
      "\n",
      "0: 384x640 (no detections), 38.9ms\n",
      "Speed: 2.4ms preprocess, 38.9ms inference, 0.4ms postprocess per image at shape (1, 3, 384, 640)\n",
      "Ball detection for frame 42: {}\n",
      "Processing frame 43...\n",
      "\n",
      "0: 384x640 (no detections), 36.2ms\n",
      "Speed: 2.1ms preprocess, 36.2ms inference, 0.4ms postprocess per image at shape (1, 3, 384, 640)\n",
      "Ball detection for frame 43: {}\n",
      "Processing frame 44...\n",
      "\n",
      "0: 384x640 (no detections), 33.7ms\n",
      "Speed: 1.9ms preprocess, 33.7ms inference, 0.4ms postprocess per image at shape (1, 3, 384, 640)\n",
      "Ball detection for frame 44: {}\n",
      "Processing frame 45...\n",
      "\n",
      "0: 384x640 (no detections), 35.6ms\n",
      "Speed: 2.1ms preprocess, 35.6ms inference, 0.4ms postprocess per image at shape (1, 3, 384, 640)\n",
      "Ball detection for frame 45: {}\n",
      "Processing frame 46...\n",
      "\n",
      "0: 384x640 (no detections), 34.4ms\n",
      "Speed: 2.0ms preprocess, 34.4ms inference, 0.5ms postprocess per image at shape (1, 3, 384, 640)\n",
      "Ball detection for frame 46: {}\n",
      "Processing frame 47...\n",
      "\n",
      "0: 384x640 (no detections), 33.4ms\n",
      "Speed: 2.2ms preprocess, 33.4ms inference, 0.5ms postprocess per image at shape (1, 3, 384, 640)\n",
      "Ball detection for frame 47: {}\n",
      "Processing frame 48...\n",
      "\n",
      "0: 384x640 (no detections), 33.2ms\n",
      "Speed: 2.1ms preprocess, 33.2ms inference, 0.4ms postprocess per image at shape (1, 3, 384, 640)\n",
      "Ball detection for frame 48: {}\n",
      "Processing frame 49...\n",
      "\n",
      "0: 384x640 (no detections), 33.1ms\n",
      "Speed: 2.0ms preprocess, 33.1ms inference, 0.4ms postprocess per image at shape (1, 3, 384, 640)\n",
      "Ball detection for frame 49: {}\n",
      "Processing frame 50...\n",
      "\n",
      "0: 384x640 (no detections), 33.7ms\n",
      "Speed: 2.1ms preprocess, 33.7ms inference, 0.5ms postprocess per image at shape (1, 3, 384, 640)\n",
      "Ball detection for frame 50: {}\n",
      "Processing frame 51...\n",
      "\n",
      "0: 384x640 (no detections), 35.9ms\n",
      "Speed: 2.3ms preprocess, 35.9ms inference, 0.4ms postprocess per image at shape (1, 3, 384, 640)\n",
      "Ball detection for frame 51: {}\n",
      "Processing frame 52...\n",
      "\n",
      "0: 384x640 (no detections), 35.9ms\n",
      "Speed: 1.8ms preprocess, 35.9ms inference, 0.5ms postprocess per image at shape (1, 3, 384, 640)\n",
      "Ball detection for frame 52: {}\n",
      "Processing frame 53...\n",
      "\n",
      "0: 384x640 (no detections), 35.2ms\n",
      "Speed: 2.0ms preprocess, 35.2ms inference, 0.4ms postprocess per image at shape (1, 3, 384, 640)\n",
      "Ball detection for frame 53: {}\n",
      "Processing frame 54...\n",
      "\n",
      "0: 384x640 (no detections), 48.2ms\n",
      "Speed: 1.9ms preprocess, 48.2ms inference, 0.9ms postprocess per image at shape (1, 3, 384, 640)\n",
      "Ball detection for frame 54: {}\n",
      "Processing frame 55...\n",
      "\n",
      "0: 384x640 (no detections), 34.8ms\n",
      "Speed: 2.4ms preprocess, 34.8ms inference, 0.4ms postprocess per image at shape (1, 3, 384, 640)\n",
      "Ball detection for frame 55: {}\n",
      "Processing frame 56...\n",
      "\n",
      "0: 384x640 (no detections), 33.0ms\n",
      "Speed: 1.9ms preprocess, 33.0ms inference, 0.4ms postprocess per image at shape (1, 3, 384, 640)\n",
      "Ball detection for frame 56: {}\n",
      "Processing frame 57...\n",
      "\n",
      "0: 384x640 (no detections), 33.3ms\n",
      "Speed: 2.1ms preprocess, 33.3ms inference, 0.5ms postprocess per image at shape (1, 3, 384, 640)\n",
      "Ball detection for frame 57: {}\n",
      "Processing frame 58...\n",
      "\n",
      "0: 384x640 (no detections), 32.7ms\n",
      "Speed: 2.0ms preprocess, 32.7ms inference, 0.4ms postprocess per image at shape (1, 3, 384, 640)\n",
      "Ball detection for frame 58: {}\n",
      "Processing frame 59...\n",
      "\n",
      "0: 384x640 (no detections), 33.7ms\n",
      "Speed: 2.3ms preprocess, 33.7ms inference, 0.3ms postprocess per image at shape (1, 3, 384, 640)\n",
      "Ball detection for frame 59: {}\n",
      "Processing frame 60...\n",
      "\n",
      "0: 384x640 (no detections), 35.5ms\n",
      "Speed: 2.2ms preprocess, 35.5ms inference, 0.4ms postprocess per image at shape (1, 3, 384, 640)\n",
      "Ball detection for frame 60: {}\n",
      "Processing frame 61...\n",
      "\n",
      "0: 384x640 (no detections), 36.6ms\n",
      "Speed: 2.8ms preprocess, 36.6ms inference, 0.4ms postprocess per image at shape (1, 3, 384, 640)\n",
      "Ball detection for frame 61: {}\n",
      "Processing frame 62...\n",
      "\n",
      "0: 384x640 (no detections), 40.8ms\n",
      "Speed: 2.3ms preprocess, 40.8ms inference, 0.4ms postprocess per image at shape (1, 3, 384, 640)\n",
      "Ball detection for frame 62: {}\n",
      "Processing frame 63...\n",
      "\n",
      "0: 384x640 (no detections), 40.9ms\n",
      "Speed: 2.4ms preprocess, 40.9ms inference, 0.6ms postprocess per image at shape (1, 3, 384, 640)\n",
      "Ball detection for frame 63: {}\n",
      "Processing frame 64...\n",
      "\n",
      "0: 384x640 (no detections), 39.3ms\n",
      "Speed: 2.0ms preprocess, 39.3ms inference, 0.4ms postprocess per image at shape (1, 3, 384, 640)\n",
      "Ball detection for frame 64: {}\n",
      "Processing frame 65...\n",
      "\n",
      "0: 384x640 (no detections), 35.2ms\n",
      "Speed: 2.5ms preprocess, 35.2ms inference, 0.4ms postprocess per image at shape (1, 3, 384, 640)\n",
      "Ball detection for frame 65: {}\n",
      "Processing frame 66...\n",
      "\n",
      "0: 384x640 (no detections), 32.6ms\n",
      "Speed: 2.1ms preprocess, 32.6ms inference, 0.4ms postprocess per image at shape (1, 3, 384, 640)\n",
      "Ball detection for frame 66: {}\n",
      "Processing frame 67...\n",
      "\n",
      "0: 384x640 (no detections), 34.2ms\n",
      "Speed: 2.1ms preprocess, 34.2ms inference, 0.4ms postprocess per image at shape (1, 3, 384, 640)\n",
      "Ball detection for frame 67: {}\n",
      "Processing frame 68...\n",
      "\n",
      "0: 384x640 (no detections), 33.9ms\n",
      "Speed: 1.7ms preprocess, 33.9ms inference, 0.4ms postprocess per image at shape (1, 3, 384, 640)\n",
      "Ball detection for frame 68: {}\n",
      "Processing frame 69...\n",
      "\n",
      "0: 384x640 (no detections), 33.7ms\n",
      "Speed: 2.2ms preprocess, 33.7ms inference, 0.4ms postprocess per image at shape (1, 3, 384, 640)\n",
      "Ball detection for frame 69: {}\n",
      "Processing frame 70...\n",
      "\n",
      "0: 384x640 (no detections), 33.7ms\n",
      "Speed: 1.7ms preprocess, 33.7ms inference, 0.4ms postprocess per image at shape (1, 3, 384, 640)\n",
      "Ball detection for frame 70: {}\n",
      "Processing frame 71...\n",
      "\n",
      "0: 384x640 (no detections), 33.6ms\n",
      "Speed: 2.2ms preprocess, 33.6ms inference, 0.5ms postprocess per image at shape (1, 3, 384, 640)\n",
      "Ball detection for frame 71: {}\n",
      "Processing frame 72...\n",
      "\n",
      "0: 384x640 (no detections), 35.2ms\n",
      "Speed: 2.0ms preprocess, 35.2ms inference, 0.3ms postprocess per image at shape (1, 3, 384, 640)\n",
      "Ball detection for frame 72: {}\n",
      "Processing frame 73...\n",
      "\n",
      "0: 384x640 (no detections), 32.9ms\n",
      "Speed: 2.1ms preprocess, 32.9ms inference, 0.4ms postprocess per image at shape (1, 3, 384, 640)\n",
      "Ball detection for frame 73: {}\n",
      "Processing frame 74...\n",
      "\n",
      "0: 384x640 (no detections), 32.8ms\n",
      "Speed: 2.1ms preprocess, 32.8ms inference, 0.4ms postprocess per image at shape (1, 3, 384, 640)\n",
      "Ball detection for frame 74: {}\n",
      "Processing frame 75...\n",
      "\n",
      "0: 384x640 (no detections), 33.9ms\n",
      "Speed: 2.4ms preprocess, 33.9ms inference, 0.4ms postprocess per image at shape (1, 3, 384, 640)\n",
      "Ball detection for frame 75: {}\n",
      "Processing frame 76...\n",
      "\n",
      "0: 384x640 (no detections), 48.2ms\n",
      "Speed: 1.9ms preprocess, 48.2ms inference, 0.4ms postprocess per image at shape (1, 3, 384, 640)\n",
      "Ball detection for frame 76: {}\n",
      "Processing frame 77...\n",
      "\n",
      "0: 384x640 (no detections), 35.3ms\n",
      "Speed: 3.0ms preprocess, 35.3ms inference, 0.5ms postprocess per image at shape (1, 3, 384, 640)\n",
      "Ball detection for frame 77: {}\n",
      "Processing frame 78...\n",
      "\n",
      "0: 384x640 (no detections), 35.2ms\n",
      "Speed: 2.1ms preprocess, 35.2ms inference, 0.4ms postprocess per image at shape (1, 3, 384, 640)\n",
      "Ball detection for frame 78: {}\n",
      "Processing frame 79...\n",
      "\n",
      "0: 384x640 (no detections), 35.3ms\n",
      "Speed: 1.8ms preprocess, 35.3ms inference, 0.4ms postprocess per image at shape (1, 3, 384, 640)\n",
      "Ball detection for frame 79: {}\n",
      "Processing frame 80...\n",
      "\n",
      "0: 384x640 (no detections), 33.8ms\n",
      "Speed: 2.2ms preprocess, 33.8ms inference, 0.4ms postprocess per image at shape (1, 3, 384, 640)\n",
      "Ball detection for frame 80: {}\n",
      "Processing frame 81...\n",
      "\n",
      "0: 384x640 (no detections), 32.4ms\n",
      "Speed: 1.9ms preprocess, 32.4ms inference, 0.4ms postprocess per image at shape (1, 3, 384, 640)\n",
      "Ball detection for frame 81: {}\n",
      "Processing frame 82...\n",
      "\n",
      "0: 384x640 (no detections), 32.9ms\n",
      "Speed: 2.1ms preprocess, 32.9ms inference, 0.4ms postprocess per image at shape (1, 3, 384, 640)\n",
      "Ball detection for frame 82: {}\n",
      "Processing frame 83...\n",
      "\n",
      "0: 384x640 (no detections), 34.5ms\n",
      "Speed: 2.4ms preprocess, 34.5ms inference, 0.4ms postprocess per image at shape (1, 3, 384, 640)\n",
      "Ball detection for frame 83: {}\n",
      "Processing frame 84...\n",
      "\n",
      "0: 384x640 (no detections), 32.8ms\n",
      "Speed: 1.9ms preprocess, 32.8ms inference, 0.5ms postprocess per image at shape (1, 3, 384, 640)\n",
      "Ball detection for frame 84: {}\n",
      "Processing frame 85...\n",
      "\n",
      "0: 384x640 (no detections), 35.6ms\n",
      "Speed: 2.0ms preprocess, 35.6ms inference, 0.4ms postprocess per image at shape (1, 3, 384, 640)\n",
      "Ball detection for frame 85: {}\n",
      "Processing frame 86...\n",
      "\n",
      "0: 384x640 (no detections), 35.4ms\n",
      "Speed: 2.3ms preprocess, 35.4ms inference, 0.5ms postprocess per image at shape (1, 3, 384, 640)\n",
      "Ball detection for frame 86: {}\n",
      "Processing frame 87...\n",
      "\n",
      "0: 384x640 (no detections), 37.9ms\n",
      "Speed: 2.0ms preprocess, 37.9ms inference, 0.4ms postprocess per image at shape (1, 3, 384, 640)\n",
      "Ball detection for frame 87: {}\n",
      "Processing frame 88...\n",
      "\n",
      "0: 384x640 (no detections), 34.6ms\n",
      "Speed: 1.9ms preprocess, 34.6ms inference, 0.3ms postprocess per image at shape (1, 3, 384, 640)\n",
      "Ball detection for frame 88: {}\n",
      "Processing frame 89...\n",
      "\n",
      "0: 384x640 (no detections), 35.1ms\n",
      "Speed: 1.9ms preprocess, 35.1ms inference, 0.4ms postprocess per image at shape (1, 3, 384, 640)\n",
      "Ball detection for frame 89: {}\n",
      "Processing frame 90...\n",
      "\n",
      "0: 384x640 (no detections), 34.2ms\n",
      "Speed: 1.9ms preprocess, 34.2ms inference, 0.4ms postprocess per image at shape (1, 3, 384, 640)\n",
      "Ball detection for frame 90: {}\n",
      "Processing frame 91...\n",
      "\n",
      "0: 384x640 (no detections), 32.0ms\n",
      "Speed: 1.9ms preprocess, 32.0ms inference, 0.4ms postprocess per image at shape (1, 3, 384, 640)\n",
      "Ball detection for frame 91: {}\n",
      "Processing frame 92...\n",
      "\n",
      "0: 384x640 (no detections), 33.8ms\n",
      "Speed: 2.0ms preprocess, 33.8ms inference, 0.4ms postprocess per image at shape (1, 3, 384, 640)\n",
      "Ball detection for frame 92: {}\n",
      "Processing frame 93...\n",
      "\n",
      "0: 384x640 (no detections), 33.6ms\n",
      "Speed: 2.0ms preprocess, 33.6ms inference, 0.4ms postprocess per image at shape (1, 3, 384, 640)\n",
      "Ball detection for frame 93: {}\n",
      "Processing frame 94...\n",
      "\n",
      "0: 384x640 (no detections), 42.4ms\n",
      "Speed: 1.8ms preprocess, 42.4ms inference, 0.5ms postprocess per image at shape (1, 3, 384, 640)\n",
      "Ball detection for frame 94: {}\n",
      "Processing frame 95...\n",
      "\n",
      "0: 384x640 (no detections), 41.1ms\n",
      "Speed: 2.2ms preprocess, 41.1ms inference, 0.4ms postprocess per image at shape (1, 3, 384, 640)\n",
      "Ball detection for frame 95: {}\n",
      "Processing frame 96...\n",
      "\n",
      "0: 384x640 (no detections), 31.8ms\n",
      "Speed: 2.2ms preprocess, 31.8ms inference, 0.4ms postprocess per image at shape (1, 3, 384, 640)\n",
      "Ball detection for frame 96: {}\n",
      "Processing frame 97...\n",
      "\n",
      "0: 384x640 (no detections), 33.0ms\n",
      "Speed: 2.2ms preprocess, 33.0ms inference, 0.3ms postprocess per image at shape (1, 3, 384, 640)\n",
      "Ball detection for frame 97: {}\n",
      "Processing frame 98...\n",
      "\n",
      "0: 384x640 (no detections), 34.9ms\n",
      "Speed: 2.0ms preprocess, 34.9ms inference, 0.5ms postprocess per image at shape (1, 3, 384, 640)\n",
      "Ball detection for frame 98: {}\n",
      "Processing frame 99...\n",
      "\n",
      "0: 384x640 (no detections), 34.9ms\n",
      "Speed: 2.1ms preprocess, 34.9ms inference, 0.3ms postprocess per image at shape (1, 3, 384, 640)\n",
      "Ball detection for frame 99: {}\n",
      "Processing frame 100...\n",
      "\n",
      "0: 384x640 (no detections), 34.8ms\n",
      "Speed: 2.7ms preprocess, 34.8ms inference, 0.4ms postprocess per image at shape (1, 3, 384, 640)\n",
      "Ball detection for frame 100: {}\n",
      "Processing frame 101...\n",
      "\n",
      "0: 384x640 (no detections), 33.2ms\n",
      "Speed: 2.3ms preprocess, 33.2ms inference, 0.3ms postprocess per image at shape (1, 3, 384, 640)\n",
      "Ball detection for frame 101: {}\n",
      "Processing frame 102...\n",
      "\n",
      "0: 384x640 (no detections), 34.7ms\n",
      "Speed: 2.5ms preprocess, 34.7ms inference, 0.3ms postprocess per image at shape (1, 3, 384, 640)\n",
      "Ball detection for frame 102: {}\n",
      "Processing frame 103...\n",
      "\n",
      "0: 384x640 (no detections), 34.7ms\n",
      "Speed: 2.4ms preprocess, 34.7ms inference, 0.4ms postprocess per image at shape (1, 3, 384, 640)\n",
      "Ball detection for frame 103: {}\n",
      "Processing frame 104...\n",
      "\n",
      "0: 384x640 (no detections), 33.6ms\n",
      "Speed: 1.9ms preprocess, 33.6ms inference, 0.3ms postprocess per image at shape (1, 3, 384, 640)\n",
      "Ball detection for frame 104: {}\n",
      "Processing frame 105...\n",
      "\n",
      "0: 384x640 (no detections), 33.8ms\n",
      "Speed: 2.1ms preprocess, 33.8ms inference, 0.4ms postprocess per image at shape (1, 3, 384, 640)\n",
      "Ball detection for frame 105: {}\n",
      "Processing frame 106...\n",
      "\n",
      "0: 384x640 (no detections), 34.8ms\n",
      "Speed: 2.1ms preprocess, 34.8ms inference, 0.4ms postprocess per image at shape (1, 3, 384, 640)\n",
      "Ball detection for frame 106: {}\n",
      "Processing frame 107...\n",
      "\n",
      "0: 384x640 (no detections), 34.1ms\n",
      "Speed: 2.2ms preprocess, 34.1ms inference, 0.4ms postprocess per image at shape (1, 3, 384, 640)\n",
      "Ball detection for frame 107: {}\n",
      "Processing frame 108...\n",
      "\n",
      "0: 384x640 (no detections), 33.2ms\n",
      "Speed: 2.4ms preprocess, 33.2ms inference, 0.4ms postprocess per image at shape (1, 3, 384, 640)\n",
      "Ball detection for frame 108: {}\n",
      "Processing frame 109...\n",
      "\n",
      "0: 384x640 (no detections), 44.0ms\n",
      "Speed: 1.9ms preprocess, 44.0ms inference, 0.4ms postprocess per image at shape (1, 3, 384, 640)\n",
      "Ball detection for frame 109: {}\n",
      "Processing frame 110...\n",
      "\n",
      "0: 384x640 (no detections), 35.6ms\n",
      "Speed: 3.0ms preprocess, 35.6ms inference, 0.5ms postprocess per image at shape (1, 3, 384, 640)\n",
      "Ball detection for frame 110: {}\n",
      "Processing frame 111...\n",
      "\n",
      "0: 384x640 (no detections), 34.9ms\n",
      "Speed: 2.0ms preprocess, 34.9ms inference, 0.4ms postprocess per image at shape (1, 3, 384, 640)\n",
      "Ball detection for frame 111: {}\n",
      "Processing frame 112...\n",
      "\n",
      "0: 384x640 (no detections), 34.7ms\n",
      "Speed: 2.6ms preprocess, 34.7ms inference, 0.4ms postprocess per image at shape (1, 3, 384, 640)\n",
      "Ball detection for frame 112: {}\n",
      "Processing frame 113...\n",
      "\n",
      "0: 384x640 (no detections), 32.8ms\n",
      "Speed: 1.8ms preprocess, 32.8ms inference, 0.4ms postprocess per image at shape (1, 3, 384, 640)\n",
      "Ball detection for frame 113: {}\n",
      "Processing frame 114...\n",
      "\n",
      "0: 384x640 (no detections), 35.8ms\n",
      "Speed: 1.8ms preprocess, 35.8ms inference, 0.4ms postprocess per image at shape (1, 3, 384, 640)\n",
      "Ball detection for frame 114: {}\n",
      "Processing frame 115...\n",
      "\n",
      "0: 384x640 (no detections), 34.9ms\n",
      "Speed: 2.4ms preprocess, 34.9ms inference, 0.4ms postprocess per image at shape (1, 3, 384, 640)\n",
      "Ball detection for frame 115: {}\n",
      "Processing frame 116...\n",
      "\n",
      "0: 384x640 (no detections), 35.1ms\n",
      "Speed: 1.9ms preprocess, 35.1ms inference, 0.4ms postprocess per image at shape (1, 3, 384, 640)\n",
      "Ball detection for frame 116: {}\n",
      "Processing frame 117...\n",
      "\n",
      "0: 384x640 (no detections), 35.4ms\n",
      "Speed: 2.1ms preprocess, 35.4ms inference, 0.5ms postprocess per image at shape (1, 3, 384, 640)\n",
      "Ball detection for frame 117: {}\n",
      "Processing frame 118...\n",
      "\n",
      "0: 384x640 (no detections), 36.6ms\n",
      "Speed: 2.5ms preprocess, 36.6ms inference, 0.4ms postprocess per image at shape (1, 3, 384, 640)\n",
      "Ball detection for frame 118: {}\n",
      "Processing frame 119...\n",
      "\n",
      "0: 384x640 (no detections), 35.6ms\n",
      "Speed: 2.4ms preprocess, 35.6ms inference, 0.3ms postprocess per image at shape (1, 3, 384, 640)\n",
      "Ball detection for frame 119: {}\n",
      "Processing frame 120...\n",
      "\n",
      "0: 384x640 1 Ball, 36.9ms\n",
      "Speed: 2.1ms preprocess, 36.9ms inference, 0.7ms postprocess per image at shape (1, 3, 384, 640)\n",
      "Ball detection for frame 120: {1: [41.4771728515625, 50.51459884643555, 66.59700012207031, 94.60787963867188]}\n",
      "Processing frame 121...\n",
      "\n",
      "0: 384x640 (no detections), 44.4ms\n",
      "Speed: 2.1ms preprocess, 44.4ms inference, 0.5ms postprocess per image at shape (1, 3, 384, 640)\n",
      "Ball detection for frame 121: {}\n",
      "Processing frame 122...\n",
      "\n",
      "0: 384x640 (no detections), 37.4ms\n",
      "Speed: 2.8ms preprocess, 37.4ms inference, 0.4ms postprocess per image at shape (1, 3, 384, 640)\n",
      "Ball detection for frame 122: {}\n",
      "Processing frame 123...\n",
      "\n",
      "0: 384x640 (no detections), 36.0ms\n",
      "Speed: 2.2ms preprocess, 36.0ms inference, 0.4ms postprocess per image at shape (1, 3, 384, 640)\n",
      "Ball detection for frame 123: {}\n",
      "Processing frame 124...\n",
      "\n",
      "0: 384x640 (no detections), 34.8ms\n",
      "Speed: 2.2ms preprocess, 34.8ms inference, 0.3ms postprocess per image at shape (1, 3, 384, 640)\n",
      "Ball detection for frame 124: {}\n",
      "Processing frame 125...\n",
      "\n",
      "0: 384x640 1 Ball, 35.3ms\n",
      "Speed: 2.3ms preprocess, 35.3ms inference, 0.7ms postprocess per image at shape (1, 3, 384, 640)\n",
      "Ball detection for frame 125: {1: [523.7119140625, 463.8262023925781, 546.6866455078125, 501.9615783691406]}\n",
      "Processing frame 126...\n",
      "\n",
      "0: 384x640 (no detections), 33.0ms\n",
      "Speed: 1.9ms preprocess, 33.0ms inference, 0.4ms postprocess per image at shape (1, 3, 384, 640)\n",
      "Ball detection for frame 126: {}\n",
      "Processing frame 127...\n",
      "\n",
      "0: 384x640 (no detections), 33.9ms\n",
      "Speed: 2.2ms preprocess, 33.9ms inference, 0.5ms postprocess per image at shape (1, 3, 384, 640)\n",
      "Ball detection for frame 127: {}\n",
      "Processing frame 128...\n",
      "\n",
      "0: 384x640 (no detections), 34.5ms\n",
      "Speed: 2.2ms preprocess, 34.5ms inference, 0.4ms postprocess per image at shape (1, 3, 384, 640)\n",
      "Ball detection for frame 128: {}\n",
      "Processing frame 129...\n",
      "\n",
      "0: 384x640 (no detections), 34.3ms\n",
      "Speed: 2.0ms preprocess, 34.3ms inference, 0.4ms postprocess per image at shape (1, 3, 384, 640)\n",
      "Ball detection for frame 129: {}\n",
      "Processing frame 130...\n",
      "\n",
      "0: 384x640 (no detections), 33.3ms\n",
      "Speed: 1.9ms preprocess, 33.3ms inference, 0.4ms postprocess per image at shape (1, 3, 384, 640)\n",
      "Ball detection for frame 130: {}\n",
      "Processing frame 131...\n",
      "\n",
      "0: 384x640 (no detections), 33.6ms\n",
      "Speed: 2.5ms preprocess, 33.6ms inference, 0.5ms postprocess per image at shape (1, 3, 384, 640)\n",
      "Ball detection for frame 131: {}\n",
      "Processing frame 132...\n",
      "\n",
      "0: 384x640 (no detections), 32.1ms\n",
      "Speed: 1.9ms preprocess, 32.1ms inference, 0.4ms postprocess per image at shape (1, 3, 384, 640)\n",
      "Ball detection for frame 132: {}\n",
      "Processing frame 133...\n",
      "\n",
      "0: 384x640 (no detections), 34.9ms\n",
      "Speed: 2.0ms preprocess, 34.9ms inference, 0.5ms postprocess per image at shape (1, 3, 384, 640)\n",
      "Ball detection for frame 133: {}\n",
      "Processing frame 134...\n",
      "\n",
      "0: 384x640 (no detections), 34.6ms\n",
      "Speed: 1.9ms preprocess, 34.6ms inference, 0.4ms postprocess per image at shape (1, 3, 384, 640)\n",
      "Ball detection for frame 134: {}\n",
      "Processing frame 135...\n",
      "\n",
      "0: 384x640 (no detections), 39.7ms\n",
      "Speed: 1.9ms preprocess, 39.7ms inference, 0.6ms postprocess per image at shape (1, 3, 384, 640)\n",
      "Ball detection for frame 135: {}\n",
      "Processing frame 136...\n",
      "\n",
      "0: 384x640 (no detections), 39.5ms\n",
      "Speed: 2.2ms preprocess, 39.5ms inference, 0.4ms postprocess per image at shape (1, 3, 384, 640)\n",
      "Ball detection for frame 136: {}\n",
      "Processing frame 137...\n",
      "\n",
      "0: 384x640 (no detections), 33.2ms\n",
      "Speed: 2.2ms preprocess, 33.2ms inference, 0.3ms postprocess per image at shape (1, 3, 384, 640)\n",
      "Ball detection for frame 137: {}\n",
      "Processing frame 138...\n",
      "\n",
      "0: 384x640 (no detections), 32.9ms\n",
      "Speed: 1.6ms preprocess, 32.9ms inference, 0.3ms postprocess per image at shape (1, 3, 384, 640)\n",
      "Ball detection for frame 138: {}\n",
      "Processing frame 139...\n",
      "\n",
      "0: 384x640 (no detections), 33.2ms\n",
      "Speed: 1.9ms preprocess, 33.2ms inference, 0.4ms postprocess per image at shape (1, 3, 384, 640)\n",
      "Ball detection for frame 139: {}\n",
      "Processing frame 140...\n",
      "\n",
      "0: 384x640 (no detections), 32.0ms\n",
      "Speed: 1.9ms preprocess, 32.0ms inference, 0.4ms postprocess per image at shape (1, 3, 384, 640)\n",
      "Ball detection for frame 140: {}\n",
      "Processing frame 141...\n",
      "\n",
      "0: 384x640 (no detections), 33.6ms\n",
      "Speed: 1.9ms preprocess, 33.6ms inference, 0.4ms postprocess per image at shape (1, 3, 384, 640)\n",
      "Ball detection for frame 141: {}\n",
      "Processing frame 142...\n",
      "\n",
      "0: 384x640 (no detections), 33.8ms\n",
      "Speed: 1.9ms preprocess, 33.8ms inference, 0.3ms postprocess per image at shape (1, 3, 384, 640)\n",
      "Ball detection for frame 142: {}\n",
      "Processing frame 143...\n",
      "\n",
      "0: 384x640 (no detections), 35.1ms\n",
      "Speed: 2.1ms preprocess, 35.1ms inference, 0.4ms postprocess per image at shape (1, 3, 384, 640)\n",
      "Ball detection for frame 143: {}\n",
      "Processing frame 144...\n",
      "\n",
      "0: 384x640 (no detections), 32.1ms\n",
      "Speed: 2.2ms preprocess, 32.1ms inference, 0.4ms postprocess per image at shape (1, 3, 384, 640)\n",
      "Ball detection for frame 144: {}\n",
      "Processing frame 145...\n",
      "\n",
      "0: 384x640 (no detections), 35.5ms\n",
      "Speed: 2.0ms preprocess, 35.5ms inference, 0.4ms postprocess per image at shape (1, 3, 384, 640)\n",
      "Ball detection for frame 145: {}\n",
      "Processing frame 146...\n",
      "\n",
      "0: 384x640 (no detections), 33.4ms\n",
      "Speed: 2.0ms preprocess, 33.4ms inference, 0.5ms postprocess per image at shape (1, 3, 384, 640)\n",
      "Ball detection for frame 146: {}\n",
      "Processing frame 147...\n",
      "\n",
      "0: 384x640 (no detections), 33.8ms\n",
      "Speed: 1.9ms preprocess, 33.8ms inference, 0.4ms postprocess per image at shape (1, 3, 384, 640)\n",
      "Ball detection for frame 147: {}\n",
      "Processing frame 148...\n",
      "\n",
      "0: 384x640 (no detections), 41.2ms\n",
      "Speed: 2.1ms preprocess, 41.2ms inference, 0.7ms postprocess per image at shape (1, 3, 384, 640)\n",
      "Ball detection for frame 148: {}\n",
      "Processing frame 149...\n",
      "\n",
      "0: 384x640 (no detections), 40.7ms\n",
      "Speed: 1.5ms preprocess, 40.7ms inference, 0.5ms postprocess per image at shape (1, 3, 384, 640)\n",
      "Ball detection for frame 149: {}\n",
      "Processing frame 150...\n",
      "\n",
      "0: 384x640 (no detections), 33.7ms\n",
      "Speed: 2.2ms preprocess, 33.7ms inference, 0.4ms postprocess per image at shape (1, 3, 384, 640)\n",
      "Ball detection for frame 150: {}\n",
      "Processing frame 151...\n",
      "\n",
      "0: 384x640 (no detections), 32.9ms\n",
      "Speed: 1.6ms preprocess, 32.9ms inference, 0.4ms postprocess per image at shape (1, 3, 384, 640)\n",
      "Ball detection for frame 151: {}\n",
      "Processing frame 152...\n",
      "\n",
      "0: 384x640 (no detections), 33.3ms\n",
      "Speed: 2.0ms preprocess, 33.3ms inference, 0.4ms postprocess per image at shape (1, 3, 384, 640)\n",
      "Ball detection for frame 152: {}\n",
      "Processing frame 153...\n",
      "\n",
      "0: 384x640 (no detections), 35.1ms\n",
      "Speed: 2.0ms preprocess, 35.1ms inference, 0.4ms postprocess per image at shape (1, 3, 384, 640)\n",
      "Ball detection for frame 153: {}\n",
      "Processing frame 154...\n",
      "\n",
      "0: 384x640 (no detections), 34.7ms\n",
      "Speed: 2.2ms preprocess, 34.7ms inference, 0.5ms postprocess per image at shape (1, 3, 384, 640)\n",
      "Ball detection for frame 154: {}\n",
      "Processing frame 155...\n",
      "\n",
      "0: 384x640 (no detections), 34.7ms\n",
      "Speed: 1.9ms preprocess, 34.7ms inference, 0.4ms postprocess per image at shape (1, 3, 384, 640)\n",
      "Ball detection for frame 155: {}\n",
      "Processing frame 156...\n",
      "\n",
      "0: 384x640 (no detections), 34.5ms\n",
      "Speed: 1.9ms preprocess, 34.5ms inference, 0.4ms postprocess per image at shape (1, 3, 384, 640)\n",
      "Ball detection for frame 156: {}\n",
      "Processing frame 157...\n",
      "\n",
      "0: 384x640 (no detections), 41.0ms\n",
      "Speed: 2.4ms preprocess, 41.0ms inference, 0.4ms postprocess per image at shape (1, 3, 384, 640)\n",
      "Ball detection for frame 157: {}\n",
      "Processing frame 158...\n",
      "\n",
      "0: 384x640 (no detections), 36.7ms\n",
      "Speed: 1.9ms preprocess, 36.7ms inference, 0.6ms postprocess per image at shape (1, 3, 384, 640)\n",
      "Ball detection for frame 158: {}\n",
      "Processing frame 159...\n",
      "\n",
      "0: 384x640 (no detections), 42.6ms\n",
      "Speed: 3.6ms preprocess, 42.6ms inference, 0.5ms postprocess per image at shape (1, 3, 384, 640)\n",
      "Ball detection for frame 159: {}\n",
      "Processing frame 160...\n",
      "\n",
      "0: 384x640 1 Ball, 43.4ms\n",
      "Speed: 2.1ms preprocess, 43.4ms inference, 0.6ms postprocess per image at shape (1, 3, 384, 640)\n",
      "Ball detection for frame 160: {1: [966.7939453125, 459.131103515625, 988.4937744140625, 487.43353271484375]}\n",
      "Processing frame 161...\n",
      "\n",
      "0: 384x640 (no detections), 37.6ms\n",
      "Speed: 2.3ms preprocess, 37.6ms inference, 0.5ms postprocess per image at shape (1, 3, 384, 640)\n",
      "Ball detection for frame 161: {}\n",
      "Processing frame 162...\n",
      "\n",
      "0: 384x640 1 Ball, 34.7ms\n",
      "Speed: 1.6ms preprocess, 34.7ms inference, 0.7ms postprocess per image at shape (1, 3, 384, 640)\n",
      "Ball detection for frame 162: {1: [843.3480834960938, 384.5357666015625, 864.6282348632812, 420.7876281738281]}\n",
      "Processing frame 163...\n",
      "\n",
      "0: 384x640 1 Ball, 34.1ms\n",
      "Speed: 1.9ms preprocess, 34.1ms inference, 0.6ms postprocess per image at shape (1, 3, 384, 640)\n",
      "Ball detection for frame 163: {1: [771.5930786132812, 296.13238525390625, 795.6685180664062, 336.80029296875]}\n",
      "Processing frame 164...\n",
      "\n",
      "0: 384x640 (no detections), 34.0ms\n",
      "Speed: 2.0ms preprocess, 34.0ms inference, 0.3ms postprocess per image at shape (1, 3, 384, 640)\n",
      "Ball detection for frame 164: {}\n",
      "Processing frame 165...\n",
      "\n",
      "0: 384x640 (no detections), 33.3ms\n",
      "Speed: 2.8ms preprocess, 33.3ms inference, 0.4ms postprocess per image at shape (1, 3, 384, 640)\n",
      "Ball detection for frame 165: {}\n",
      "Processing frame 166...\n",
      "\n",
      "0: 384x640 (no detections), 36.0ms\n",
      "Speed: 2.1ms preprocess, 36.0ms inference, 0.4ms postprocess per image at shape (1, 3, 384, 640)\n",
      "Ball detection for frame 166: {}\n",
      "Processing frame 167...\n",
      "\n",
      "0: 384x640 (no detections), 45.1ms\n",
      "Speed: 2.5ms preprocess, 45.1ms inference, 0.4ms postprocess per image at shape (1, 3, 384, 640)\n",
      "Ball detection for frame 167: {}\n",
      "Processing frame 168...\n",
      "\n",
      "0: 384x640 (no detections), 37.1ms\n",
      "Speed: 3.6ms preprocess, 37.1ms inference, 0.4ms postprocess per image at shape (1, 3, 384, 640)\n",
      "Ball detection for frame 168: {}\n",
      "Processing frame 169...\n",
      "\n",
      "0: 384x640 (no detections), 31.9ms\n",
      "Speed: 2.3ms preprocess, 31.9ms inference, 0.3ms postprocess per image at shape (1, 3, 384, 640)\n",
      "Ball detection for frame 169: {}\n",
      "Processing frame 170...\n",
      "\n",
      "0: 384x640 (no detections), 33.5ms\n",
      "Speed: 1.9ms preprocess, 33.5ms inference, 0.4ms postprocess per image at shape (1, 3, 384, 640)\n",
      "Ball detection for frame 170: {}\n",
      "Processing frame 171...\n",
      "\n",
      "0: 384x640 (no detections), 34.2ms\n",
      "Speed: 2.2ms preprocess, 34.2ms inference, 0.3ms postprocess per image at shape (1, 3, 384, 640)\n",
      "Ball detection for frame 171: {}\n",
      "Processing frame 172...\n",
      "\n",
      "0: 384x640 (no detections), 35.6ms\n",
      "Speed: 2.0ms preprocess, 35.6ms inference, 0.4ms postprocess per image at shape (1, 3, 384, 640)\n",
      "Ball detection for frame 172: {}\n",
      "Processing frame 173...\n",
      "\n",
      "0: 384x640 (no detections), 34.9ms\n",
      "Speed: 1.9ms preprocess, 34.9ms inference, 0.4ms postprocess per image at shape (1, 3, 384, 640)\n",
      "Ball detection for frame 173: {}\n",
      "Processing frame 174...\n",
      "\n",
      "0: 384x640 (no detections), 35.1ms\n",
      "Speed: 1.9ms preprocess, 35.1ms inference, 0.5ms postprocess per image at shape (1, 3, 384, 640)\n",
      "Ball detection for frame 174: {}\n",
      "Processing frame 175...\n",
      "\n",
      "0: 384x640 (no detections), 33.5ms\n",
      "Speed: 2.3ms preprocess, 33.5ms inference, 0.4ms postprocess per image at shape (1, 3, 384, 640)\n",
      "Ball detection for frame 175: {}\n",
      "Processing frame 176...\n",
      "\n",
      "0: 384x640 (no detections), 33.9ms\n",
      "Speed: 1.8ms preprocess, 33.9ms inference, 0.5ms postprocess per image at shape (1, 3, 384, 640)\n",
      "Ball detection for frame 176: {}\n",
      "Processing frame 177...\n",
      "\n",
      "0: 384x640 (no detections), 35.2ms\n",
      "Speed: 2.2ms preprocess, 35.2ms inference, 0.4ms postprocess per image at shape (1, 3, 384, 640)\n",
      "Ball detection for frame 177: {}\n",
      "Processing frame 178...\n",
      "\n",
      "0: 384x640 (no detections), 45.1ms\n",
      "Speed: 2.6ms preprocess, 45.1ms inference, 0.5ms postprocess per image at shape (1, 3, 384, 640)\n",
      "Ball detection for frame 178: {}\n"
     ]
    }
   ],
   "source": [
    "from ultralytics import YOLO\n",
    "import cv2\n",
    "import pickle\n",
    "import pandas as pd\n",
    "\n",
    "class BallTracker:\n",
    "    def __init__(self, model_path):\n",
    "        self.model = YOLO(model_path)\n",
    "\n",
    "    def detect_frames(self, frames, read_from_stub=False, stub_path=None):\n",
    "        ball_detections = []\n",
    "\n",
    "        if read_from_stub and stub_path:\n",
    "            with open(stub_path, 'rb') as f:\n",
    "                return pickle.load(f)\n",
    "\n",
    "        for i, frame in enumerate(frames):\n",
    "            print(f\"Processing frame {i+1}...\")  # Debugging frame processing\n",
    "            ball_dict = self.detect_frame(frame)\n",
    "            print(f\"Ball detection for frame {i+1}: {ball_dict}\")  # Debugging ball detection for this frame\n",
    "            ball_detections.append(ball_dict)\n",
    "\n",
    "        if stub_path:\n",
    "            with open(stub_path, 'wb') as f:\n",
    "                pickle.dump(ball_detections, f)\n",
    "\n",
    "        return ball_detections\n",
    "\n",
    "    def detect_frame(self, frame):\n",
    "        results = self.model.predict(frame, conf=0.15)[0]\n",
    "        ball_dict = {}\n",
    "        for box in results.boxes:\n",
    "            result = box.xyxy.tolist()[0]\n",
    "            ball_dict[1] = result\n",
    "        return ball_dict\n",
    "\n",
    "    def draw_bboxes(self, frames, ball_detections):\n",
    "        output_frames = []\n",
    "        for frame, ball_dict in zip(frames, ball_detections):\n",
    "            for track_id, bbox in ball_dict.items():\n",
    "                x1, y1, x2, y2 = map(int, bbox)\n",
    "                cv2.putText(frame, f\"Ball\", (x1, y1 - 10),\n",
    "                            cv2.FONT_HERSHEY_SIMPLEX, 0.8, (255, 0, 0), 2)\n",
    "                cv2.rectangle(frame, (x1, y1), (x2, y2), (255, 0, 0), 2)\n",
    "            output_frames.append(frame)\n",
    "        return output_frames\n",
    "\n",
    "def load_video_frames(video_path):\n",
    "    cap = cv2.VideoCapture(video_path)\n",
    "    frames = []\n",
    "    while True:\n",
    "        ret, frame = cap.read()\n",
    "        if not ret:\n",
    "            break\n",
    "        frames.append(frame)\n",
    "    cap.release()\n",
    "    return frames\n",
    "\n",
    "def save_video(frames, output_path, fps=30):\n",
    "    height, width, _ = frames[0].shape\n",
    "    out = cv2.VideoWriter(output_path, cv2.VideoWriter_fourcc(*'mp4v'), fps, (width, height))\n",
    "    for frame in frames:\n",
    "        out.write(frame)\n",
    "    out.release()\n",
    "\n",
    "# === Run Inference ===\n",
    "video_path = \"D:/deakin/Deakin Year 3/Sem1/Group projects/Model attempt 1 - NFL/Test1.mp4\"\n",
    "trained_model_path = r\"D:\\deakin\\Deakin Year 3\\Sem1\\Group projects\\Model attempt 1 - NFL\\runs\\detect\\nfl-ball-detector3\\weights\\best.pt\"\n",
    "\n",
    "tracker = BallTracker(trained_model_path)\n",
    "\n",
    "frames = load_video_frames(video_path)\n",
    "detections = tracker.detect_frames(frames)\n",
    "output_frames = tracker.draw_bboxes(frames, detections)\n",
    "save_video(output_frames, \"D:/deakin/Deakin Year 3/Sem1/Group projects/Model attempt 1 - NFL/nfl_ball_output.mp4\")\n"
   ]
  },
  {
   "cell_type": "code",
   "execution_count": 15,
   "id": "c4aa6788-4eba-4c8a-a2b1-3c32694a1253",
   "metadata": {},
   "outputs": [
    {
     "name": "stdout",
     "output_type": "stream",
     "text": [
      "Loaded 178 frames.\n"
     ]
    }
   ],
   "source": [
    "frames = load_video_frames(video_path)\n",
    "if len(frames) == 0:\n",
    "    print(\"No frames loaded\")\n",
    "else:\n",
    "    print(f\"Loaded {len(frames)} frames.\")\n"
   ]
  }
 ],
 "metadata": {
  "kernelspec": {
   "display_name": "Python 3 (ipykernel)",
   "language": "python",
   "name": "python3"
  },
  "language_info": {
   "codemirror_mode": {
    "name": "ipython",
    "version": 3
   },
   "file_extension": ".py",
   "mimetype": "text/x-python",
   "name": "python",
   "nbconvert_exporter": "python",
   "pygments_lexer": "ipython3",
   "version": "3.12.7"
  }
 },
 "nbformat": 4,
 "nbformat_minor": 5
}
